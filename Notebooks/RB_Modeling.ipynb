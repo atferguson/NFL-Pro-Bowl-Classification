{
 "cells": [
  {
   "cell_type": "code",
   "execution_count": 83,
   "id": "7aad0bee-fabb-4b2b-9024-297de20f0580",
   "metadata": {},
   "outputs": [],
   "source": [
    "import pandas as pd\n",
    "import numpy as np\n",
    "import matplotlib.pyplot as plt\n",
    "import seaborn as sns\n",
    "import os\n",
    "%matplotlib inline\n",
    "\n",
    "from sklearn.tree import DecisionTreeClassifier\n",
    "from sklearn.ensemble import RandomForestClassifier\n",
    "from sklearn.neighbors import KNeighborsClassifier\n",
    "from sklearn.svm import SVC\n",
    "from sklearn.model_selection import GridSearchCV\n",
    "from sklearn.metrics import confusion_matrix\n",
    "from sklearn.metrics import classification_report\n",
    "from sklearn.metrics import roc_curve\n",
    "from sklearn.metrics import roc_auc_score\n",
    "from sklearn.preprocessing import StandardScaler\n",
    "from sklearn.model_selection import train_test_split\n",
    "\n",
    "plt.rcParams.update({'figure.figsize': (12.0, 8.0)})\n",
    "plt.rcParams.update({'font.size': 14})"
   ]
  },
  {
   "cell_type": "code",
   "execution_count": 84,
   "id": "ff6ce506-dc1f-45f1-85ef-bb6e907a70c7",
   "metadata": {},
   "outputs": [
    {
     "name": "stdout",
     "output_type": "stream",
     "text": [
      "C:\\Users\\andre\\OneDrive\\Desktop\\USC\\DSCI550\\Project\n"
     ]
    }
   ],
   "source": [
    "dirname=os.getcwd()\n",
    "path_parent = os.path.dirname(os.getcwd())\n",
    "print(path_parent)"
   ]
  },
  {
   "cell_type": "code",
   "execution_count": 85,
   "id": "2e93c184-4a38-4238-8889-f91f37e7b50a",
   "metadata": {},
   "outputs": [],
   "source": [
    "rb_df = pd.read_csv(os.path.join(path_parent, \"Data\\\\Clean_Data\\\\rbs.csv\"))"
   ]
  },
  {
   "cell_type": "code",
   "execution_count": 86,
   "id": "f06cd752-2d42-499e-8954-2578056a09a6",
   "metadata": {},
   "outputs": [],
   "source": [
    "rb_df['probowl']=0"
   ]
  },
  {
   "cell_type": "code",
   "execution_count": 87,
   "id": "1bb9b8b7-d833-46fe-b133-289857fa4e47",
   "metadata": {},
   "outputs": [],
   "source": [
    "for index, row in rb_df.iterrows():\n",
    "    if \"*\" in row['Player']:\n",
    "        row['probowl'] = 1\n",
    "        rb_df.loc[index, 'probowl'] = 1"
   ]
  },
  {
   "cell_type": "markdown",
   "id": "662c3e7c-c932-4b1e-8804-592b1616dbf6",
   "metadata": {},
   "source": [
    "## Running Back Random Forrest (All Variables) [1]"
   ]
  },
  {
   "cell_type": "code",
   "execution_count": 88,
   "id": "85528a41-8c05-4cfd-a290-0fd14e052b20",
   "metadata": {},
   "outputs": [
    {
     "data": {
      "text/html": [
       "<div>\n",
       "<style scoped>\n",
       "    .dataframe tbody tr th:only-of-type {\n",
       "        vertical-align: middle;\n",
       "    }\n",
       "\n",
       "    .dataframe tbody tr th {\n",
       "        vertical-align: top;\n",
       "    }\n",
       "\n",
       "    .dataframe thead th {\n",
       "        text-align: right;\n",
       "    }\n",
       "</style>\n",
       "<table border=\"1\" class=\"dataframe\">\n",
       "  <thead>\n",
       "    <tr style=\"text-align: right;\">\n",
       "      <th></th>\n",
       "      <th>GS</th>\n",
       "      <th>Rush_Att</th>\n",
       "      <th>Rush_Yds</th>\n",
       "      <th>Rush_TD</th>\n",
       "      <th>Rush_1D</th>\n",
       "      <th>Rush_Lng</th>\n",
       "      <th>Rush_Y/A</th>\n",
       "      <th>Rush_Y/G</th>\n",
       "      <th>Rush_Fmb</th>\n",
       "      <th>Rec_Tgt</th>\n",
       "      <th>...</th>\n",
       "      <th>Pass_QBR</th>\n",
       "      <th>Pass_Sk</th>\n",
       "      <th>Pass_Yds.1</th>\n",
       "      <th>Pass_Sk%</th>\n",
       "      <th>Pass_NY/A</th>\n",
       "      <th>Pass_ANY/A</th>\n",
       "      <th>Pass_4QC</th>\n",
       "      <th>Pass_GWD</th>\n",
       "      <th>QBrec</th>\n",
       "      <th>probowl</th>\n",
       "    </tr>\n",
       "  </thead>\n",
       "  <tbody>\n",
       "    <tr>\n",
       "      <th>0</th>\n",
       "      <td>16</td>\n",
       "      <td>403</td>\n",
       "      <td>1509</td>\n",
       "      <td>14</td>\n",
       "      <td>78</td>\n",
       "      <td>35</td>\n",
       "      <td>3.7</td>\n",
       "      <td>94.3</td>\n",
       "      <td>5</td>\n",
       "      <td>65</td>\n",
       "      <td>...</td>\n",
       "      <td>0.0</td>\n",
       "      <td>0</td>\n",
       "      <td>0</td>\n",
       "      <td>0.0</td>\n",
       "      <td>0.0</td>\n",
       "      <td>0.0</td>\n",
       "      <td>0</td>\n",
       "      <td>0</td>\n",
       "      <td>0</td>\n",
       "      <td>1</td>\n",
       "    </tr>\n",
       "    <tr>\n",
       "      <th>1</th>\n",
       "      <td>16</td>\n",
       "      <td>387</td>\n",
       "      <td>1709</td>\n",
       "      <td>13</td>\n",
       "      <td>100</td>\n",
       "      <td>30</td>\n",
       "      <td>4.4</td>\n",
       "      <td>106.8</td>\n",
       "      <td>5</td>\n",
       "      <td>87</td>\n",
       "      <td>...</td>\n",
       "      <td>0.0</td>\n",
       "      <td>0</td>\n",
       "      <td>0</td>\n",
       "      <td>0.0</td>\n",
       "      <td>0.0</td>\n",
       "      <td>0.0</td>\n",
       "      <td>0</td>\n",
       "      <td>0</td>\n",
       "      <td>0</td>\n",
       "      <td>1</td>\n",
       "    </tr>\n",
       "    <tr>\n",
       "      <th>2</th>\n",
       "      <td>16</td>\n",
       "      <td>355</td>\n",
       "      <td>1341</td>\n",
       "      <td>8</td>\n",
       "      <td>72</td>\n",
       "      <td>30</td>\n",
       "      <td>3.8</td>\n",
       "      <td>83.8</td>\n",
       "      <td>1</td>\n",
       "      <td>19</td>\n",
       "      <td>...</td>\n",
       "      <td>0.0</td>\n",
       "      <td>0</td>\n",
       "      <td>0</td>\n",
       "      <td>0.0</td>\n",
       "      <td>0.0</td>\n",
       "      <td>-22.5</td>\n",
       "      <td>0</td>\n",
       "      <td>0</td>\n",
       "      <td>0</td>\n",
       "      <td>0</td>\n",
       "    </tr>\n",
       "    <tr>\n",
       "      <th>3</th>\n",
       "      <td>16</td>\n",
       "      <td>339</td>\n",
       "      <td>1184</td>\n",
       "      <td>10</td>\n",
       "      <td>66</td>\n",
       "      <td>34</td>\n",
       "      <td>3.5</td>\n",
       "      <td>74.0</td>\n",
       "      <td>4</td>\n",
       "      <td>48</td>\n",
       "      <td>...</td>\n",
       "      <td>0.0</td>\n",
       "      <td>0</td>\n",
       "      <td>0</td>\n",
       "      <td>0.0</td>\n",
       "      <td>0.0</td>\n",
       "      <td>0.0</td>\n",
       "      <td>0</td>\n",
       "      <td>0</td>\n",
       "      <td>0</td>\n",
       "      <td>0</td>\n",
       "    </tr>\n",
       "    <tr>\n",
       "      <th>4</th>\n",
       "      <td>15</td>\n",
       "      <td>332</td>\n",
       "      <td>1318</td>\n",
       "      <td>11</td>\n",
       "      <td>72</td>\n",
       "      <td>50</td>\n",
       "      <td>4.0</td>\n",
       "      <td>87.9</td>\n",
       "      <td>4</td>\n",
       "      <td>49</td>\n",
       "      <td>...</td>\n",
       "      <td>0.0</td>\n",
       "      <td>0</td>\n",
       "      <td>0</td>\n",
       "      <td>0.0</td>\n",
       "      <td>0.0</td>\n",
       "      <td>0.0</td>\n",
       "      <td>0</td>\n",
       "      <td>0</td>\n",
       "      <td>0</td>\n",
       "      <td>1</td>\n",
       "    </tr>\n",
       "  </tbody>\n",
       "</table>\n",
       "<p>5 rows × 46 columns</p>\n",
       "</div>"
      ],
      "text/plain": [
       "   GS  Rush_Att  Rush_Yds  Rush_TD  Rush_1D  Rush_Lng  Rush_Y/A  Rush_Y/G  \\\n",
       "0  16       403      1509       14       78        35       3.7      94.3   \n",
       "1  16       387      1709       13      100        30       4.4     106.8   \n",
       "2  16       355      1341        8       72        30       3.8      83.8   \n",
       "3  16       339      1184       10       66        34       3.5      74.0   \n",
       "4  15       332      1318       11       72        50       4.0      87.9   \n",
       "\n",
       "   Rush_Fmb  Rec_Tgt  ...  Pass_QBR Pass_Sk  Pass_Yds.1  Pass_Sk%  Pass_NY/A  \\\n",
       "0         5       65  ...       0.0       0           0       0.0        0.0   \n",
       "1         5       87  ...       0.0       0           0       0.0        0.0   \n",
       "2         1       19  ...       0.0       0           0       0.0        0.0   \n",
       "3         4       48  ...       0.0       0           0       0.0        0.0   \n",
       "4         4       49  ...       0.0       0           0       0.0        0.0   \n",
       "\n",
       "   Pass_ANY/A  Pass_4QC  Pass_GWD  QBrec  probowl  \n",
       "0         0.0         0         0      0        1  \n",
       "1         0.0         0         0      0        1  \n",
       "2       -22.5         0         0      0        0  \n",
       "3         0.0         0         0      0        0  \n",
       "4         0.0         0         0      0        1  \n",
       "\n",
       "[5 rows x 46 columns]"
      ]
     },
     "execution_count": 88,
     "metadata": {},
     "output_type": "execute_result"
    }
   ],
   "source": [
    "rb_df_features = rb_df.iloc[:,8:]\n",
    "rb_df_features = rb_df_features.drop(['Player*','Year','PlayerYearTm*','Pos*'], axis=1)\n",
    "rb_df_features.head()"
   ]
  },
  {
   "cell_type": "code",
   "execution_count": 89,
   "id": "7b6db229-eab7-43e8-a881-8342896da157",
   "metadata": {
    "tags": []
   },
   "outputs": [
    {
     "data": {
      "text/plain": [
       "GS              int64\n",
       "Rush_Att        int64\n",
       "Rush_Yds        int64\n",
       "Rush_TD         int64\n",
       "Rush_1D         int64\n",
       "Rush_Lng        int64\n",
       "Rush_Y/A      float64\n",
       "Rush_Y/G      float64\n",
       "Rush_Fmb        int64\n",
       "Rec_Tgt         int64\n",
       "Rec_Rec         int64\n",
       "Rec_Ctch%      object\n",
       "Rec_Yds         int64\n",
       "Rec_Y/R       float64\n",
       "Rec_TD          int64\n",
       "Rec_1D          int64\n",
       "Rec_Lng         int64\n",
       "Rec_Y/Tgt     float64\n",
       "Rec_R/G       float64\n",
       "Rec_Y/G       float64\n",
       "Rec_Fmb         int64\n",
       "Pass_Cmp        int64\n",
       "Pass_Att        int64\n",
       "Pass_Cmp%     float64\n",
       "Pass_Yds        int64\n",
       "Pass_TD         int64\n",
       "Pass_TD%      float64\n",
       "Pass_Int        int64\n",
       "Pass_Int%       int64\n",
       "Pass_1D         int64\n",
       "Pass_Lng        int64\n",
       "Pass_Y/A      float64\n",
       "Pass_AY/A     float64\n",
       "Pass_Y/C      float64\n",
       "Pass_Y/G      float64\n",
       "Pass_Rate     float64\n",
       "Pass_QBR      float64\n",
       "Pass_Sk         int64\n",
       "Pass_Yds.1      int64\n",
       "Pass_Sk%      float64\n",
       "Pass_NY/A     float64\n",
       "Pass_ANY/A    float64\n",
       "Pass_4QC        int64\n",
       "Pass_GWD        int64\n",
       "QBrec           int64\n",
       "probowl         int64\n",
       "dtype: object"
      ]
     },
     "execution_count": 89,
     "metadata": {},
     "output_type": "execute_result"
    }
   ],
   "source": [
    "rb_df_features.dtypes"
   ]
  },
  {
   "cell_type": "code",
   "execution_count": 90,
   "id": "b9ccc049-a74c-4775-beb8-e51a2f6f4e90",
   "metadata": {},
   "outputs": [],
   "source": [
    "#Change all % columns to float, then classifier will run.\n",
    "rb_df_features['Rec_Ctch%'] = rb_df_features['Rec_Ctch%'].str.rstrip(\"%\").astype(float)/100"
   ]
  },
  {
   "cell_type": "code",
   "execution_count": 91,
   "id": "d829a0d2-63c2-4202-bd24-124ac4043afa",
   "metadata": {},
   "outputs": [],
   "source": [
    "train1, test1 = train_test_split(rb_df_features, test_size=0.333, stratify=rb_df_features['probowl'])"
   ]
  },
  {
   "cell_type": "code",
   "execution_count": 92,
   "id": "d38ba291-3a7b-4a1b-886b-d85888e9ff57",
   "metadata": {},
   "outputs": [],
   "source": [
    "train_y1 = train1['probowl']\n",
    "train_x1=train1.drop(columns=['probowl'])\n",
    "test_y1=test1['probowl']\n",
    "test_x1=test1.drop(columns=['probowl'])"
   ]
  },
  {
   "cell_type": "code",
   "execution_count": 93,
   "id": "6fce889f-6c66-42e9-a540-f17496398abd",
   "metadata": {},
   "outputs": [],
   "source": [
    "param_grid = {\n",
    "    'bootstrap': [True],\n",
    "    'max_depth': [160,165, 170],\n",
    "    'max_features': [11,12,13],\n",
    "    'min_samples_leaf': [3,4,5],\n",
    "    'min_samples_split': [16,17,18,20],\n",
    "    'n_estimators': [100,110,120]\n",
    "}\n",
    "rf = RandomForestClassifier()\n",
    "grid_search1 = GridSearchCV(estimator = rf, param_grid = param_grid, \n",
    "                          cv = 5, n_jobs = -1, verbose = 2)"
   ]
  },
  {
   "cell_type": "code",
   "execution_count": 94,
   "id": "f24747fc-7eba-4d9e-b7ca-7cc763707c81",
   "metadata": {},
   "outputs": [
    {
     "name": "stdout",
     "output_type": "stream",
     "text": [
      "Fitting 5 folds for each of 324 candidates, totalling 1620 fits\n"
     ]
    },
    {
     "data": {
      "text/plain": [
       "GridSearchCV(cv=5, estimator=RandomForestClassifier(), n_jobs=-1,\n",
       "             param_grid={'bootstrap': [True], 'max_depth': [160, 165, 170],\n",
       "                         'max_features': [11, 12, 13],\n",
       "                         'min_samples_leaf': [3, 4, 5],\n",
       "                         'min_samples_split': [16, 17, 18, 20],\n",
       "                         'n_estimators': [100, 110, 120]},\n",
       "             verbose=2)"
      ]
     },
     "execution_count": 94,
     "metadata": {},
     "output_type": "execute_result"
    }
   ],
   "source": [
    "grid_search1.fit(train_x1, train_y1)"
   ]
  },
  {
   "cell_type": "code",
   "execution_count": 95,
   "id": "1ffbe90e-7363-4221-90f0-2a64b1922868",
   "metadata": {},
   "outputs": [
    {
     "data": {
      "text/plain": [
       "{'bootstrap': True,\n",
       " 'max_depth': 165,\n",
       " 'max_features': 13,\n",
       " 'min_samples_leaf': 4,\n",
       " 'min_samples_split': 17,\n",
       " 'n_estimators': 110}"
      ]
     },
     "execution_count": 95,
     "metadata": {},
     "output_type": "execute_result"
    }
   ],
   "source": [
    "grid_search1.best_params_"
   ]
  },
  {
   "cell_type": "code",
   "execution_count": 96,
   "id": "0b790c5d-090e-4e75-94b0-249b39f11ca1",
   "metadata": {},
   "outputs": [
    {
     "name": "stdout",
     "output_type": "stream",
     "text": [
      "RandomForestClassifier(max_depth=165, max_features=13, min_samples_leaf=4,\n",
      "                       min_samples_split=17, n_estimators=110)\n"
     ]
    }
   ],
   "source": [
    "rf_mod1 = grid_search1.best_estimator_\n",
    "print(rf_mod1)\n",
    "rfc_pred1 = rf_mod1.predict(test_x1)"
   ]
  },
  {
   "cell_type": "code",
   "execution_count": 97,
   "id": "54211c89-485e-4e13-9fab-721637afa426",
   "metadata": {},
   "outputs": [
    {
     "name": "stdout",
     "output_type": "stream",
     "text": [
      "[[824   9]\n",
      " [ 27  32]]\n"
     ]
    }
   ],
   "source": [
    "print(confusion_matrix(test_y1,rfc_pred1))"
   ]
  },
  {
   "cell_type": "code",
   "execution_count": 98,
   "id": "b77462be-6b89-431a-a9a7-7235b7915cd6",
   "metadata": {},
   "outputs": [
    {
     "name": "stdout",
     "output_type": "stream",
     "text": [
      "              precision    recall  f1-score   support\n",
      "\n",
      "           0       0.97      0.99      0.98       833\n",
      "           1       0.78      0.54      0.64        59\n",
      "\n",
      "    accuracy                           0.96       892\n",
      "   macro avg       0.87      0.77      0.81       892\n",
      "weighted avg       0.96      0.96      0.96       892\n",
      "\n"
     ]
    }
   ],
   "source": [
    "print(classification_report(test_y1, rfc_pred1))"
   ]
  },
  {
   "cell_type": "code",
   "execution_count": 99,
   "id": "14f4f6b1-b234-4d69-9465-b1dbec94a86b",
   "metadata": {},
   "outputs": [],
   "source": [
    "rfc_prob1 = rf_mod1.predict_proba(test_x1)"
   ]
  },
  {
   "cell_type": "code",
   "execution_count": 100,
   "id": "e439db7e-55a7-43f1-9f11-5e1992fe7748",
   "metadata": {},
   "outputs": [
    {
     "data": {
      "text/plain": [
       "0.9337904653386778"
      ]
     },
     "execution_count": 100,
     "metadata": {},
     "output_type": "execute_result"
    }
   ],
   "source": [
    "test_rfc_y1_2 = test_y1.to_numpy()\n",
    "roc_auc_score(test_rfc_y1_2, rfc_prob1[:,1])"
   ]
  },
  {
   "cell_type": "code",
   "execution_count": 101,
   "id": "adc45f3f-263e-41c5-90b7-e26737934dbd",
   "metadata": {},
   "outputs": [
    {
     "data": {
      "image/png": "[encoded data removed]",
      "text/plain": [
       "<Figure size 864x576 with 1 Axes>"
      ]
     },
     "metadata": {
      "needs_background": "light"
     },
     "output_type": "display_data"
    }
   ],
   "source": [
    "fpr_rfc_1, tpr_rfc_1, _ = roc_curve(test_rfc_y1_2, rfc_prob1[:,1])\n",
    "plt.plot(fpr_rfc_1,tpr_rfc_1, color ='red', lw=2, label=\"All Variables\")\n",
    "plt.plot([0, 1], [0, 1], color='navy', lw=2, linestyle='--')\n",
    "plt.xlim([-.05, 1.0])\n",
    "plt.ylim([-.05, 1.05])\n",
    "plt.xlabel('False Positive Rate')\n",
    "plt.ylabel('True Positive Rate')\n",
    "plt.title('RB RF ROC Curve (All Variables)')\n",
    "plt.legend(loc=\"lower right\")\n",
    "# plt.show()\n",
    "plt.savefig(os.path.join(path_parent, 'Figures\\RBs\\ROC_all.jpg'), bbox_inches='tight')"
   ]
  },
  {
   "cell_type": "markdown",
   "id": "d1e2a7b2-fb26-4011-be75-4e4405d75957",
   "metadata": {},
   "source": [
    "## Running Back Random Forest (Rushing Variables) [2]"
   ]
  },
  {
   "cell_type": "code",
   "execution_count": 102,
   "id": "37314933-f247-4b04-971a-f0a6ab18b295",
   "metadata": {},
   "outputs": [
    {
     "name": "stdout",
     "output_type": "stream",
     "text": [
      "Index(['GS', 'Rush_Att', 'Rush_Yds', 'Rush_TD', 'Rush_1D', 'Rush_Lng',\n",
      "       'Rush_Y/A', 'Rush_Y/G', 'Rush_Fmb', 'QBrec', 'probowl'],\n",
      "      dtype='object')\n"
     ]
    },
    {
     "data": {
      "text/html": [
       "<div>\n",
       "<style scoped>\n",
       "    .dataframe tbody tr th:only-of-type {\n",
       "        vertical-align: middle;\n",
       "    }\n",
       "\n",
       "    .dataframe tbody tr th {\n",
       "        vertical-align: top;\n",
       "    }\n",
       "\n",
       "    .dataframe thead th {\n",
       "        text-align: right;\n",
       "    }\n",
       "</style>\n",
       "<table border=\"1\" class=\"dataframe\">\n",
       "  <thead>\n",
       "    <tr style=\"text-align: right;\">\n",
       "      <th></th>\n",
       "      <th>GS</th>\n",
       "      <th>Rush_Att</th>\n",
       "      <th>Rush_Yds</th>\n",
       "      <th>Rush_TD</th>\n",
       "      <th>Rush_1D</th>\n",
       "      <th>Rush_Lng</th>\n",
       "      <th>Rush_Y/A</th>\n",
       "      <th>Rush_Y/G</th>\n",
       "      <th>Rush_Fmb</th>\n",
       "      <th>QBrec</th>\n",
       "      <th>probowl</th>\n",
       "    </tr>\n",
       "  </thead>\n",
       "  <tbody>\n",
       "    <tr>\n",
       "      <th>0</th>\n",
       "      <td>16</td>\n",
       "      <td>403</td>\n",
       "      <td>1509</td>\n",
       "      <td>14</td>\n",
       "      <td>78</td>\n",
       "      <td>35</td>\n",
       "      <td>3.7</td>\n",
       "      <td>94.3</td>\n",
       "      <td>5</td>\n",
       "      <td>0</td>\n",
       "      <td>1</td>\n",
       "    </tr>\n",
       "    <tr>\n",
       "      <th>1</th>\n",
       "      <td>16</td>\n",
       "      <td>387</td>\n",
       "      <td>1709</td>\n",
       "      <td>13</td>\n",
       "      <td>100</td>\n",
       "      <td>30</td>\n",
       "      <td>4.4</td>\n",
       "      <td>106.8</td>\n",
       "      <td>5</td>\n",
       "      <td>0</td>\n",
       "      <td>1</td>\n",
       "    </tr>\n",
       "    <tr>\n",
       "      <th>2</th>\n",
       "      <td>16</td>\n",
       "      <td>355</td>\n",
       "      <td>1341</td>\n",
       "      <td>8</td>\n",
       "      <td>72</td>\n",
       "      <td>30</td>\n",
       "      <td>3.8</td>\n",
       "      <td>83.8</td>\n",
       "      <td>1</td>\n",
       "      <td>0</td>\n",
       "      <td>0</td>\n",
       "    </tr>\n",
       "    <tr>\n",
       "      <th>3</th>\n",
       "      <td>16</td>\n",
       "      <td>339</td>\n",
       "      <td>1184</td>\n",
       "      <td>10</td>\n",
       "      <td>66</td>\n",
       "      <td>34</td>\n",
       "      <td>3.5</td>\n",
       "      <td>74.0</td>\n",
       "      <td>4</td>\n",
       "      <td>0</td>\n",
       "      <td>0</td>\n",
       "    </tr>\n",
       "    <tr>\n",
       "      <th>4</th>\n",
       "      <td>15</td>\n",
       "      <td>332</td>\n",
       "      <td>1318</td>\n",
       "      <td>11</td>\n",
       "      <td>72</td>\n",
       "      <td>50</td>\n",
       "      <td>4.0</td>\n",
       "      <td>87.9</td>\n",
       "      <td>4</td>\n",
       "      <td>0</td>\n",
       "      <td>1</td>\n",
       "    </tr>\n",
       "  </tbody>\n",
       "</table>\n",
       "</div>"
      ],
      "text/plain": [
       "   GS  Rush_Att  Rush_Yds  Rush_TD  Rush_1D  Rush_Lng  Rush_Y/A  Rush_Y/G  \\\n",
       "0  16       403      1509       14       78        35       3.7      94.3   \n",
       "1  16       387      1709       13      100        30       4.4     106.8   \n",
       "2  16       355      1341        8       72        30       3.8      83.8   \n",
       "3  16       339      1184       10       66        34       3.5      74.0   \n",
       "4  15       332      1318       11       72        50       4.0      87.9   \n",
       "\n",
       "   Rush_Fmb  QBrec  probowl  \n",
       "0         5      0        1  \n",
       "1         5      0        1  \n",
       "2         1      0        0  \n",
       "3         4      0        0  \n",
       "4         4      0        1  "
      ]
     },
     "execution_count": 102,
     "metadata": {},
     "output_type": "execute_result"
    }
   ],
   "source": [
    "rb_df_features2 = rb_df.iloc[:,8:]\n",
    "rb_df_features2 = rb_df_features2.drop(['Player*','Year','PlayerYearTm*','Pos*'], axis=1)\n",
    "rb_df_features2 = rb_df_features2[rb_df_features2.columns.drop(list(rb_df.filter(regex='Pass')))]\n",
    "rb_df_features2 = rb_df_features2[rb_df_features2.columns.drop(list(rb_df.filter(regex='Rec')))]\n",
    "print(rb_df_features2.columns)\n",
    "rb_df_features2.head()"
   ]
  },
  {
   "cell_type": "code",
   "execution_count": 103,
   "id": "f276194a-e142-45ee-9473-1942d6558432",
   "metadata": {},
   "outputs": [
    {
     "data": {
      "text/plain": [
       "GS            int64\n",
       "Rush_Att      int64\n",
       "Rush_Yds      int64\n",
       "Rush_TD       int64\n",
       "Rush_1D       int64\n",
       "Rush_Lng      int64\n",
       "Rush_Y/A    float64\n",
       "Rush_Y/G    float64\n",
       "Rush_Fmb      int64\n",
       "QBrec         int64\n",
       "probowl       int64\n",
       "dtype: object"
      ]
     },
     "execution_count": 103,
     "metadata": {},
     "output_type": "execute_result"
    }
   ],
   "source": [
    "rb_df_features2.dtypes"
   ]
  },
  {
   "cell_type": "code",
   "execution_count": 104,
   "id": "922df46e-5eaa-44e4-a0ce-6eb57ec0e144",
   "metadata": {},
   "outputs": [],
   "source": [
    "train2, test2 = train_test_split(rb_df_features2, test_size=0.333, stratify=rb_df_features2['probowl'])"
   ]
  },
  {
   "cell_type": "code",
   "execution_count": 105,
   "id": "b42a46e1-ebca-49f1-a72d-e38f866824b0",
   "metadata": {},
   "outputs": [],
   "source": [
    "train_y2 = train2['probowl']\n",
    "train_x2=train2.drop(columns=['probowl'])\n",
    "test_y2=test2['probowl']\n",
    "test_x2=test2.drop(columns=['probowl'])"
   ]
  },
  {
   "cell_type": "code",
   "execution_count": 106,
   "id": "08024613-5610-4e59-966f-6b57d87901a1",
   "metadata": {},
   "outputs": [],
   "source": [
    "param_grid = {\n",
    "    'bootstrap': [True],\n",
    "    'max_depth': [60,70,80,90,100],\n",
    "    'max_features': [2,3,4],\n",
    "    'min_samples_leaf': [9,11,13],\n",
    "    'min_samples_split': [11,12,13],\n",
    "    'n_estimators': [100,110,120,130]\n",
    "}\n",
    "rf = RandomForestClassifier()\n",
    "grid_search2 = GridSearchCV(estimator = rf, param_grid = param_grid, \n",
    "                          cv = 5, n_jobs = -1, verbose = 2)"
   ]
  },
  {
   "cell_type": "code",
   "execution_count": 107,
   "id": "1c24964e-6ca7-4377-b151-ecbd3dd15961",
   "metadata": {},
   "outputs": [
    {
     "name": "stdout",
     "output_type": "stream",
     "text": [
      "Fitting 5 folds for each of 540 candidates, totalling 2700 fits\n"
     ]
    },
    {
     "data": {
      "text/plain": [
       "GridSearchCV(cv=5, estimator=RandomForestClassifier(), n_jobs=-1,\n",
       "             param_grid={'bootstrap': [True],\n",
       "                         'max_depth': [60, 70, 80, 90, 100],\n",
       "                         'max_features': [2, 3, 4],\n",
       "                         'min_samples_leaf': [9, 11, 13],\n",
       "                         'min_samples_split': [11, 12, 13],\n",
       "                         'n_estimators': [100, 110, 120, 130]},\n",
       "             verbose=2)"
      ]
     },
     "execution_count": 107,
     "metadata": {},
     "output_type": "execute_result"
    }
   ],
   "source": [
    "# Fit the grid search to the data\n",
    "grid_search2.fit(train_x2, train_y2)"
   ]
  },
  {
   "cell_type": "code",
   "execution_count": 108,
   "id": "156db05b-389a-44fb-9a68-2c19772ceffe",
   "metadata": {},
   "outputs": [
    {
     "data": {
      "text/plain": [
       "{'bootstrap': True,\n",
       " 'max_depth': 60,\n",
       " 'max_features': 3,\n",
       " 'min_samples_leaf': 11,\n",
       " 'min_samples_split': 12,\n",
       " 'n_estimators': 110}"
      ]
     },
     "execution_count": 108,
     "metadata": {},
     "output_type": "execute_result"
    }
   ],
   "source": [
    "grid_search2.best_params_"
   ]
  },
  {
   "cell_type": "code",
   "execution_count": 109,
   "id": "cd1a86fb-1677-448d-a0bd-be9ad7fec16d",
   "metadata": {},
   "outputs": [
    {
     "name": "stdout",
     "output_type": "stream",
     "text": [
      "RandomForestClassifier(max_depth=60, max_features=3, min_samples_leaf=11,\n",
      "                       min_samples_split=12, n_estimators=110)\n"
     ]
    }
   ],
   "source": [
    "rf_mod2 = grid_search2.best_estimator_\n",
    "print(rf_mod2)\n",
    "rfc_pred2 = rf_mod2.predict(test_x2)"
   ]
  },
  {
   "cell_type": "code",
   "execution_count": 110,
   "id": "4431c95a-8d2d-425c-9aab-eb3c569f4e6d",
   "metadata": {},
   "outputs": [
    {
     "name": "stdout",
     "output_type": "stream",
     "text": [
      "[[827   6]\n",
      " [ 25  34]]\n"
     ]
    }
   ],
   "source": [
    "print(confusion_matrix(test_y2,rfc_pred2))"
   ]
  },
  {
   "cell_type": "code",
   "execution_count": 111,
   "id": "6011f486-9729-49ff-a2a8-76a79e96a5f8",
   "metadata": {},
   "outputs": [
    {
     "name": "stdout",
     "output_type": "stream",
     "text": [
      "              precision    recall  f1-score   support\n",
      "\n",
      "           0       0.97      0.99      0.98       833\n",
      "           1       0.85      0.58      0.69        59\n",
      "\n",
      "    accuracy                           0.97       892\n",
      "   macro avg       0.91      0.78      0.83       892\n",
      "weighted avg       0.96      0.97      0.96       892\n",
      "\n"
     ]
    }
   ],
   "source": [
    "print(classification_report(test_y2, rfc_pred2))"
   ]
  },
  {
   "cell_type": "code",
   "execution_count": 112,
   "id": "5c4ce614-63a4-4d7d-9fcd-2daaf568b7d7",
   "metadata": {},
   "outputs": [],
   "source": [
    "rfc_prob2 = rf_mod2.predict_proba(test_x2)"
   ]
  },
  {
   "cell_type": "code",
   "execution_count": 113,
   "id": "a7b3be8c-7239-4ff9-b368-01e6f5479428",
   "metadata": {},
   "outputs": [
    {
     "data": {
      "text/plain": [
       "0.9298838179339534"
      ]
     },
     "execution_count": 113,
     "metadata": {},
     "output_type": "execute_result"
    }
   ],
   "source": [
    "test_rfc_y2_2 = test_y2.to_numpy()\n",
    "roc_auc_score(test_rfc_y2_2, rfc_prob2[:,1])"
   ]
  },
  {
   "cell_type": "code",
   "execution_count": 114,
   "id": "5f5bcce2-27ca-484c-a8b7-f75bc4a2a199",
   "metadata": {},
   "outputs": [
    {
     "data": {
      "image/png": "[encoded data removed]",
      "text/plain": [
       "<Figure size 864x576 with 1 Axes>"
      ]
     },
     "metadata": {
      "needs_background": "light"
     },
     "output_type": "display_data"
    }
   ],
   "source": [
    "fpr_rfc_2, tpr_rfc_2, _ = roc_curve(test_rfc_y2_2, rfc_prob2[:,1])\n",
    "plt.plot(fpr_rfc_2,tpr_rfc_2, color ='red', lw=2, label=\"Only Rushing Variables\")\n",
    "plt.plot([0, 1], [0, 1], color='navy', lw=2, linestyle='--')\n",
    "plt.xlim([-.05, 1.0])\n",
    "plt.ylim([-.05, 1.05])\n",
    "plt.xlabel('False Positive Rate')\n",
    "plt.ylabel('True Positive Rate')\n",
    "plt.title('RB RF ROC Curve (Only Rushing Variables)')\n",
    "plt.legend(loc=\"lower right\")\n",
    "# plt.show()\n",
    "plt.savefig(os.path.join(path_parent, 'Figures\\RBs\\ROC_Rushing.jpg'), bbox_inches='tight')"
   ]
  },
  {
   "cell_type": "markdown",
   "id": "abd232f4-b430-4232-b83f-c598786de5dd",
   "metadata": {},
   "source": [
    "## Visualize feature importance for all variables"
   ]
  },
  {
   "cell_type": "code",
   "execution_count": 115,
   "id": "aaf19c43-bce8-409b-83ad-1d3543a2531c",
   "metadata": {},
   "outputs": [
    {
     "name": "stdout",
     "output_type": "stream",
     "text": [
      "<class 'numpy.ndarray'>\n",
      "45\n"
     ]
    },
    {
     "data": {
      "text/plain": [
       "array([1.57778102e-02, 8.10679963e-02, 2.58778493e-01, 6.93497397e-02,\n",
       "       1.31970055e-01, 1.34511857e-02, 3.21199962e-02, 2.06945590e-01,\n",
       "       1.06923380e-02, 9.77630276e-03, 2.00205099e-02, 1.48129638e-02,\n",
       "       2.77863181e-02, 1.08829376e-02, 5.62173143e-03, 2.56146065e-02,\n",
       "       1.24004781e-02, 1.29355226e-02, 1.46177137e-02, 1.33598073e-02,\n",
       "       8.20655348e-03, 1.27217587e-04, 4.28625040e-04, 6.08164249e-05,\n",
       "       3.11476930e-04, 0.00000000e+00, 0.00000000e+00, 0.00000000e+00,\n",
       "       0.00000000e+00, 0.00000000e+00, 1.52286114e-04, 5.40416204e-04,\n",
       "       0.00000000e+00, 1.68041166e-05, 5.16160342e-04, 1.42452728e-03,\n",
       "       0.00000000e+00, 0.00000000e+00, 0.00000000e+00, 0.00000000e+00,\n",
       "       2.33020195e-04, 0.00000000e+00, 0.00000000e+00, 0.00000000e+00,\n",
       "       0.00000000e+00])"
      ]
     },
     "execution_count": 115,
     "metadata": {},
     "output_type": "execute_result"
    }
   ],
   "source": [
    "print(type(rf_mod1.feature_importances_))\n",
    "print(len(rf_mod1.feature_importances_))\n",
    "rf_mod1.feature_importances_"
   ]
  },
  {
   "cell_type": "code",
   "execution_count": 116,
   "id": "bd2553b2-12a9-425f-a716-55d1e4b44ff7",
   "metadata": {},
   "outputs": [
    {
     "name": "stdout",
     "output_type": "stream",
     "text": [
      "46\n"
     ]
    }
   ],
   "source": [
    "feat = rb_df_features.columns.to_list()\n",
    "arr = np.array(feat)\n",
    "print(len(arr))"
   ]
  },
  {
   "cell_type": "code",
   "execution_count": 117,
   "id": "4ba18f44-521e-40a0-aeea-80bf2feeca6b",
   "metadata": {},
   "outputs": [
    {
     "data": {
      "text/plain": [
       "array(['GS', 'Rush_Att', 'Rush_Yds', 'Rush_TD', 'Rush_1D', 'Rush_Lng',\n",
       "       'Rush_Y/A', 'Rush_Y/G', 'Rush_Fmb', 'Rec_Tgt', 'Rec_Rec',\n",
       "       'Rec_Ctch%', 'Rec_Yds', 'Rec_Y/R', 'Rec_TD', 'Rec_1D', 'Rec_Lng',\n",
       "       'Rec_Y/Tgt', 'Rec_R/G', 'Rec_Y/G', 'Rec_Fmb', 'Pass_Cmp',\n",
       "       'Pass_Att', 'Pass_Cmp%', 'Pass_Yds', 'Pass_TD', 'Pass_TD%',\n",
       "       'Pass_Int', 'Pass_Int%', 'Pass_1D', 'Pass_Lng', 'Pass_Y/A',\n",
       "       'Pass_AY/A', 'Pass_Y/C', 'Pass_Y/G', 'Pass_Rate', 'Pass_QBR',\n",
       "       'Pass_Sk', 'Pass_Yds.1', 'Pass_Sk%', 'Pass_NY/A', 'Pass_ANY/A',\n",
       "       'Pass_4QC', 'Pass_GWD', 'QBrec', 'probowl'], dtype='<U10')"
      ]
     },
     "execution_count": 117,
     "metadata": {},
     "output_type": "execute_result"
    }
   ],
   "source": [
    "arr"
   ]
  },
  {
   "cell_type": "code",
   "execution_count": 118,
   "id": "ac052107-fbeb-419e-a353-e09bda827cf4",
   "metadata": {},
   "outputs": [
    {
     "name": "stdout",
     "output_type": "stream",
     "text": [
      "45\n"
     ]
    }
   ],
   "source": [
    "#Drop probowl column \n",
    "arr = arr[0:45]\n",
    "print(len(arr))"
   ]
  },
  {
   "cell_type": "markdown",
   "id": "bc21f78b-c171-4285-bffa-b186888bfcbf",
   "metadata": {},
   "source": [
    "**Sort Feature Importance**"
   ]
  },
  {
   "cell_type": "code",
   "execution_count": 119,
   "id": "11b94c07-f67c-4d6f-a04d-57e973f8cf7b",
   "metadata": {},
   "outputs": [
    {
     "data": {
      "image/png": "[encoded data removed]",
      "text/plain": [
       "<Figure size 864x576 with 1 Axes>"
      ]
     },
     "metadata": {
      "needs_background": "light"
     },
     "output_type": "display_data"
    }
   ],
   "source": [
    "sorted_idx = rf_mod1.feature_importances_.argsort()\n",
    "plt.barh(arr[sorted_idx], rf_mod1.feature_importances_[sorted_idx])\n",
    "plt.title('RB Feature Importance (All Variables)')\n",
    "\n",
    "plt.savefig(os.path.join(path_parent, 'Figures\\RBs\\FeatureImportance_All.jpg'), bbox_inches='tight')"
   ]
  },
  {
   "cell_type": "markdown",
   "id": "78b5ac2c-cc72-46e0-b800-fa11ea4e983b",
   "metadata": {},
   "source": [
    "## Visualize feature importance for only receiving variables"
   ]
  },
  {
   "cell_type": "code",
   "execution_count": 120,
   "id": "f81ef451-5da2-4b0e-8085-bec0e7f325ee",
   "metadata": {},
   "outputs": [
    {
     "name": "stdout",
     "output_type": "stream",
     "text": [
      "<class 'numpy.ndarray'>\n",
      "10\n"
     ]
    },
    {
     "data": {
      "text/plain": [
       "array([0.06250129, 0.07956236, 0.31073931, 0.08848926, 0.16888632,\n",
       "       0.01736386, 0.05586298, 0.20586354, 0.01073109, 0.        ])"
      ]
     },
     "execution_count": 120,
     "metadata": {},
     "output_type": "execute_result"
    }
   ],
   "source": [
    "print(type(rf_mod2.feature_importances_))\n",
    "print(len(rf_mod2.feature_importances_))\n",
    "rf_mod2.feature_importances_"
   ]
  },
  {
   "cell_type": "code",
   "execution_count": 121,
   "id": "9c4b403f-6bf3-404a-bf5a-ceeb37ca8030",
   "metadata": {},
   "outputs": [],
   "source": [
    "feat = rb_df_features2.columns.to_list()\n",
    "arr2 = np.array(feat)"
   ]
  },
  {
   "cell_type": "code",
   "execution_count": 122,
   "id": "64081218-8065-4cec-b7b4-db68694102e2",
   "metadata": {},
   "outputs": [
    {
     "data": {
      "text/plain": [
       "array(['GS', 'Rush_Att', 'Rush_Yds', 'Rush_TD', 'Rush_1D', 'Rush_Lng',\n",
       "       'Rush_Y/A', 'Rush_Y/G', 'Rush_Fmb', 'Rec_Tgt', 'Rec_Rec',\n",
       "       'Rec_Ctch%', 'Rec_Yds', 'Rec_Y/R', 'Rec_TD', 'Rec_1D', 'Rec_Lng',\n",
       "       'Rec_Y/Tgt', 'Rec_R/G', 'Rec_Y/G', 'Rec_Fmb', 'Pass_Cmp',\n",
       "       'Pass_Att', 'Pass_Cmp%', 'Pass_Yds', 'Pass_TD', 'Pass_TD%',\n",
       "       'Pass_Int', 'Pass_Int%', 'Pass_1D', 'Pass_Lng', 'Pass_Y/A',\n",
       "       'Pass_AY/A', 'Pass_Y/C', 'Pass_Y/G', 'Pass_Rate', 'Pass_QBR',\n",
       "       'Pass_Sk', 'Pass_Yds.1', 'Pass_Sk%', 'Pass_NY/A', 'Pass_ANY/A',\n",
       "       'Pass_4QC', 'Pass_GWD', 'QBrec'], dtype='<U10')"
      ]
     },
     "execution_count": 122,
     "metadata": {},
     "output_type": "execute_result"
    }
   ],
   "source": [
    "arr"
   ]
  },
  {
   "cell_type": "code",
   "execution_count": 123,
   "id": "75e75708-6d7b-443e-9e76-90a066313ebf",
   "metadata": {},
   "outputs": [
    {
     "name": "stdout",
     "output_type": "stream",
     "text": [
      "10\n"
     ]
    }
   ],
   "source": [
    "#Drop probowl column\n",
    "arr2=arr2[0:10]\n",
    "print(len(arr2))"
   ]
  },
  {
   "cell_type": "markdown",
   "id": "6d384ba1-63dd-48a9-92c1-ab63b3354881",
   "metadata": {},
   "source": [
    "Sort the feature importance"
   ]
  },
  {
   "cell_type": "code",
   "execution_count": 124,
   "id": "a06d08fb-2e93-4718-b2fa-16c3d21dc308",
   "metadata": {},
   "outputs": [
    {
     "data": {
      "image/png": "[encoded data removed]",
      "text/plain": [
       "<Figure size 864x576 with 1 Axes>"
      ]
     },
     "metadata": {
      "needs_background": "light"
     },
     "output_type": "display_data"
    }
   ],
   "source": [
    "sorted_idx = rf_mod2.feature_importances_.argsort()\n",
    "plt.barh(arr2[sorted_idx], rf_mod2.feature_importances_[sorted_idx])\n",
    "plt.title('RB Feature Importance (Rushing Variables)')\n",
    "\n",
    "plt.savefig(os.path.join(path_parent, 'Figures\\RBs\\FeatureImportance_Rushing.jpg'), bbox_inches='tight')"
   ]
  },
  {
   "cell_type": "markdown",
   "id": "7f8067a0-6db5-4692-a7a2-240663523b49",
   "metadata": {},
   "source": [
    "## RF Model with only the top 5 Receiving variables [3]"
   ]
  },
  {
   "cell_type": "code",
   "execution_count": 125,
   "id": "9dd2a759-ccb0-449b-aa6f-21a7e3626036",
   "metadata": {},
   "outputs": [
    {
     "data": {
      "text/html": [
       "<div>\n",
       "<style scoped>\n",
       "    .dataframe tbody tr th:only-of-type {\n",
       "        vertical-align: middle;\n",
       "    }\n",
       "\n",
       "    .dataframe tbody tr th {\n",
       "        vertical-align: top;\n",
       "    }\n",
       "\n",
       "    .dataframe thead th {\n",
       "        text-align: right;\n",
       "    }\n",
       "</style>\n",
       "<table border=\"1\" class=\"dataframe\">\n",
       "  <thead>\n",
       "    <tr style=\"text-align: right;\">\n",
       "      <th></th>\n",
       "      <th>Rush_Yds</th>\n",
       "      <th>Rush_Y/G</th>\n",
       "      <th>Rush_1D</th>\n",
       "      <th>Rush_Att</th>\n",
       "      <th>GS</th>\n",
       "      <th>probowl</th>\n",
       "    </tr>\n",
       "  </thead>\n",
       "  <tbody>\n",
       "    <tr>\n",
       "      <th>0</th>\n",
       "      <td>1509</td>\n",
       "      <td>94.3</td>\n",
       "      <td>78</td>\n",
       "      <td>403</td>\n",
       "      <td>16</td>\n",
       "      <td>1</td>\n",
       "    </tr>\n",
       "    <tr>\n",
       "      <th>1</th>\n",
       "      <td>1709</td>\n",
       "      <td>106.8</td>\n",
       "      <td>100</td>\n",
       "      <td>387</td>\n",
       "      <td>16</td>\n",
       "      <td>1</td>\n",
       "    </tr>\n",
       "    <tr>\n",
       "      <th>2</th>\n",
       "      <td>1341</td>\n",
       "      <td>83.8</td>\n",
       "      <td>72</td>\n",
       "      <td>355</td>\n",
       "      <td>16</td>\n",
       "      <td>0</td>\n",
       "    </tr>\n",
       "    <tr>\n",
       "      <th>3</th>\n",
       "      <td>1184</td>\n",
       "      <td>74.0</td>\n",
       "      <td>66</td>\n",
       "      <td>339</td>\n",
       "      <td>16</td>\n",
       "      <td>0</td>\n",
       "    </tr>\n",
       "    <tr>\n",
       "      <th>4</th>\n",
       "      <td>1318</td>\n",
       "      <td>87.9</td>\n",
       "      <td>72</td>\n",
       "      <td>332</td>\n",
       "      <td>15</td>\n",
       "      <td>1</td>\n",
       "    </tr>\n",
       "  </tbody>\n",
       "</table>\n",
       "</div>"
      ],
      "text/plain": [
       "   Rush_Yds  Rush_Y/G  Rush_1D  Rush_Att  GS  probowl\n",
       "0      1509      94.3       78       403  16        1\n",
       "1      1709     106.8      100       387  16        1\n",
       "2      1341      83.8       72       355  16        0\n",
       "3      1184      74.0       66       339  16        0\n",
       "4      1318      87.9       72       332  15        1"
      ]
     },
     "execution_count": 125,
     "metadata": {},
     "output_type": "execute_result"
    }
   ],
   "source": [
    "top_rb_features = rb_df[['Rush_Yds','Rush_Y/G','Rush_1D','Rush_Att','GS','probowl']]\n",
    "top_rb_features.head()"
   ]
  },
  {
   "cell_type": "code",
   "execution_count": 126,
   "id": "774382f5-1413-4073-ae33-a0d883adf325",
   "metadata": {},
   "outputs": [],
   "source": [
    "train3, test3 = train_test_split(top_rb_features, test_size=0.333, stratify=top_rb_features['probowl'])\n",
    "train_y3 = train3['probowl']\n",
    "train_x3=train3.drop(columns=['probowl'])\n",
    "test_y3=test3['probowl']\n",
    "test_x3=test3.drop(columns=['probowl'])"
   ]
  },
  {
   "cell_type": "code",
   "execution_count": 127,
   "id": "1b5a9219-9a27-4dbb-81be-bb7d0d95a6fd",
   "metadata": {},
   "outputs": [],
   "source": [
    "param_grid = {\n",
    "    'bootstrap': [True],\n",
    "    'max_depth': [60,70,80,90],\n",
    "    'max_features': [3,4,5,6],\n",
    "    'min_samples_leaf': [4,5,6,7],\n",
    "    'min_samples_split': [10,11,12,13,14],\n",
    "    'n_estimators': [70,80,90,100]\n",
    "}\n",
    "rf = RandomForestClassifier()\n",
    "grid_search3 = GridSearchCV(estimator = rf, param_grid = param_grid, \n",
    "                          cv = 5, n_jobs = -1, verbose = 2)"
   ]
  },
  {
   "cell_type": "code",
   "execution_count": 128,
   "id": "cfc74f18-abef-4d4f-a29c-5f15c104d3bc",
   "metadata": {},
   "outputs": [
    {
     "name": "stdout",
     "output_type": "stream",
     "text": [
      "Fitting 5 folds for each of 1280 candidates, totalling 6400 fits\n"
     ]
    },
    {
     "name": "stderr",
     "output_type": "stream",
     "text": [
      "C:\\Users\\andre\\anaconda3\\lib\\site-packages\\sklearn\\model_selection\\_validation.py:372: FitFailedWarning: \n",
      "1600 fits failed out of a total of 6400.\n",
      "The score on these train-test partitions for these parameters will be set to nan.\n",
      "If these failures are not expected, you can try to debug them by setting error_score='raise'.\n",
      "\n",
      "Below are more details about the failures:\n",
      "--------------------------------------------------------------------------------\n",
      "1600 fits failed with the following error:\n",
      "Traceback (most recent call last):\n",
      "  File \"C:\\Users\\andre\\anaconda3\\lib\\site-packages\\sklearn\\model_selection\\_validation.py\", line 680, in _fit_and_score\n",
      "    estimator.fit(X_train, y_train, **fit_params)\n",
      "  File \"C:\\Users\\andre\\anaconda3\\lib\\site-packages\\sklearn\\ensemble\\_forest.py\", line 450, in fit\n",
      "    trees = Parallel(\n",
      "  File \"C:\\Users\\andre\\anaconda3\\lib\\site-packages\\joblib\\parallel.py\", line 1041, in __call__\n",
      "    if self.dispatch_one_batch(iterator):\n",
      "  File \"C:\\Users\\andre\\anaconda3\\lib\\site-packages\\joblib\\parallel.py\", line 859, in dispatch_one_batch\n",
      "    self._dispatch(tasks)\n",
      "  File \"C:\\Users\\andre\\anaconda3\\lib\\site-packages\\joblib\\parallel.py\", line 777, in _dispatch\n",
      "    job = self._backend.apply_async(batch, callback=cb)\n",
      "  File \"C:\\Users\\andre\\anaconda3\\lib\\site-packages\\joblib\\_parallel_backends.py\", line 208, in apply_async\n",
      "    result = ImmediateResult(func)\n",
      "  File \"C:\\Users\\andre\\anaconda3\\lib\\site-packages\\joblib\\_parallel_backends.py\", line 572, in __init__\n",
      "    self.results = batch()\n",
      "  File \"C:\\Users\\andre\\anaconda3\\lib\\site-packages\\joblib\\parallel.py\", line 262, in __call__\n",
      "    return [func(*args, **kwargs)\n",
      "  File \"C:\\Users\\andre\\anaconda3\\lib\\site-packages\\joblib\\parallel.py\", line 262, in <listcomp>\n",
      "    return [func(*args, **kwargs)\n",
      "  File \"C:\\Users\\andre\\anaconda3\\lib\\site-packages\\sklearn\\utils\\fixes.py\", line 216, in __call__\n",
      "    return self.function(*args, **kwargs)\n",
      "  File \"C:\\Users\\andre\\anaconda3\\lib\\site-packages\\sklearn\\ensemble\\_forest.py\", line 185, in _parallel_build_trees\n",
      "    tree.fit(X, y, sample_weight=curr_sample_weight, check_input=False)\n",
      "  File \"C:\\Users\\andre\\anaconda3\\lib\\site-packages\\sklearn\\tree\\_classes.py\", line 937, in fit\n",
      "    super().fit(\n",
      "  File \"C:\\Users\\andre\\anaconda3\\lib\\site-packages\\sklearn\\tree\\_classes.py\", line 308, in fit\n",
      "    raise ValueError(\"max_features must be in (0, n_features]\")\n",
      "ValueError: max_features must be in (0, n_features]\n",
      "\n",
      "  warnings.warn(some_fits_failed_message, FitFailedWarning)\n",
      "C:\\Users\\andre\\anaconda3\\lib\\site-packages\\sklearn\\model_selection\\_search.py:969: UserWarning: One or more of the test scores are non-finite: [0.96302521 0.96022409 0.96134454 ...        nan        nan        nan]\n",
      "  warnings.warn(\n"
     ]
    },
    {
     "data": {
      "text/plain": [
       "GridSearchCV(cv=5, estimator=RandomForestClassifier(), n_jobs=-1,\n",
       "             param_grid={'bootstrap': [True], 'max_depth': [60, 70, 80, 90],\n",
       "                         'max_features': [3, 4, 5, 6],\n",
       "                         'min_samples_leaf': [4, 5, 6, 7],\n",
       "                         'min_samples_split': [10, 11, 12, 13, 14],\n",
       "                         'n_estimators': [70, 80, 90, 100]},\n",
       "             verbose=2)"
      ]
     },
     "execution_count": 128,
     "metadata": {},
     "output_type": "execute_result"
    }
   ],
   "source": [
    "# Fit the grid search to the data\n",
    "grid_search3.fit(train_x3, train_y3)"
   ]
  },
  {
   "cell_type": "code",
   "execution_count": 129,
   "id": "22ec1023-94e5-4fd3-a9da-65d40dc1bf5b",
   "metadata": {},
   "outputs": [
    {
     "data": {
      "text/plain": [
       "{'bootstrap': True,\n",
       " 'max_depth': 80,\n",
       " 'max_features': 5,\n",
       " 'min_samples_leaf': 5,\n",
       " 'min_samples_split': 12,\n",
       " 'n_estimators': 70}"
      ]
     },
     "execution_count": 129,
     "metadata": {},
     "output_type": "execute_result"
    }
   ],
   "source": [
    "grid_search3.best_params_"
   ]
  },
  {
   "cell_type": "code",
   "execution_count": 130,
   "id": "8b1f6986-40a5-4f84-95f8-74316b3d5c3d",
   "metadata": {},
   "outputs": [
    {
     "name": "stdout",
     "output_type": "stream",
     "text": [
      "RandomForestClassifier(max_depth=80, max_features=5, min_samples_leaf=5,\n",
      "                       min_samples_split=12, n_estimators=70)\n"
     ]
    }
   ],
   "source": [
    "rf_mod3 = grid_search3.best_estimator_\n",
    "print(rf_mod3)\n",
    "rfc_pred3 = rf_mod3.predict(test_x3)"
   ]
  },
  {
   "cell_type": "code",
   "execution_count": 131,
   "id": "d8b88fc6-e86b-4406-a070-a1b3047f4c78",
   "metadata": {},
   "outputs": [
    {
     "name": "stdout",
     "output_type": "stream",
     "text": [
      "[[820  13]\n",
      " [ 28  31]]\n"
     ]
    }
   ],
   "source": [
    "print(confusion_matrix(test_y3,rfc_pred3))"
   ]
  },
  {
   "cell_type": "code",
   "execution_count": 132,
   "id": "4d72d170-3bf1-4c57-984e-c7ca5ffdabcb",
   "metadata": {},
   "outputs": [
    {
     "name": "stdout",
     "output_type": "stream",
     "text": [
      "              precision    recall  f1-score   support\n",
      "\n",
      "           0       0.97      0.98      0.98       833\n",
      "           1       0.70      0.53      0.60        59\n",
      "\n",
      "    accuracy                           0.95       892\n",
      "   macro avg       0.84      0.75      0.79       892\n",
      "weighted avg       0.95      0.95      0.95       892\n",
      "\n"
     ]
    }
   ],
   "source": [
    "print(classification_report(test_y3, rfc_pred3))"
   ]
  },
  {
   "cell_type": "code",
   "execution_count": 133,
   "id": "b8eb0640-4bab-47db-83a8-0885e2559084",
   "metadata": {},
   "outputs": [],
   "source": [
    "rfc_prob3 = rf_mod3.predict_proba(test_x3)"
   ]
  },
  {
   "cell_type": "code",
   "execution_count": 134,
   "id": "30cae63a-55aa-4056-8a3d-75496938edda",
   "metadata": {},
   "outputs": [
    {
     "data": {
      "text/plain": [
       "0.9018353103953446"
      ]
     },
     "execution_count": 134,
     "metadata": {},
     "output_type": "execute_result"
    }
   ],
   "source": [
    "test_rfc_y3_2 = test_y3.to_numpy()\n",
    "roc_auc_score(test_rfc_y3_2, rfc_prob3[:,1])"
   ]
  },
  {
   "cell_type": "code",
   "execution_count": 135,
   "id": "006df8b6-4c14-47a4-b2e8-e8e10447605d",
   "metadata": {},
   "outputs": [
    {
     "data": {
      "image/png": "[encoded data removed]",
      "text/plain": [
       "<Figure size 864x576 with 1 Axes>"
      ]
     },
     "metadata": {
      "needs_background": "light"
     },
     "output_type": "display_data"
    }
   ],
   "source": [
    "fpr_rfc_3, tpr_rfc_3, _ = roc_curve(test_rfc_y3_2, rfc_prob3[:,1])\n",
    "plt.plot(fpr_rfc_3,tpr_rfc_3, color ='red', lw=2, label=\"Top Rushing Variables\")\n",
    "plt.plot([0, 1], [0, 1], color='navy', lw=2, linestyle='--')\n",
    "plt.xlim([-.05, 1.0])\n",
    "plt.ylim([-.05, 1.05])\n",
    "plt.xlabel('False Positive Rate')\n",
    "plt.ylabel('True Positive Rate')\n",
    "plt.title('RB RF ROC Curve (Top 5 Variables)')\n",
    "plt.legend(loc=\"lower right\")\n",
    "# plt.show()\n",
    "plt.savefig(os.path.join(path_parent, 'Figures\\RBs\\ROC_Top5Rushing.jpg'), bbox_inches='tight')"
   ]
  },
  {
   "cell_type": "markdown",
   "id": "d53a1a16-6086-40fc-a8ae-c90e07300dc9",
   "metadata": {},
   "source": [
    "## RF Model with Rushing and Receiving variables [3]"
   ]
  },
  {
   "cell_type": "code",
   "execution_count": 136,
   "id": "1f61fea5-5eb0-4a70-9959-e6d445668284",
   "metadata": {},
   "outputs": [
    {
     "name": "stdout",
     "output_type": "stream",
     "text": [
      "Index(['GS', 'Rush_Att', 'Rush_Yds', 'Rush_TD', 'Rush_1D', 'Rush_Lng',\n",
      "       'Rush_Y/A', 'Rush_Y/G', 'Rush_Fmb', 'Rec_Tgt', 'Rec_Rec', 'Rec_Ctch%',\n",
      "       'Rec_Yds', 'Rec_Y/R', 'Rec_TD', 'Rec_1D', 'Rec_Lng', 'Rec_Y/Tgt',\n",
      "       'Rec_R/G', 'Rec_Y/G', 'Rec_Fmb', 'QBrec', 'probowl'],\n",
      "      dtype='object')\n"
     ]
    },
    {
     "data": {
      "text/html": [
       "<div>\n",
       "<style scoped>\n",
       "    .dataframe tbody tr th:only-of-type {\n",
       "        vertical-align: middle;\n",
       "    }\n",
       "\n",
       "    .dataframe tbody tr th {\n",
       "        vertical-align: top;\n",
       "    }\n",
       "\n",
       "    .dataframe thead th {\n",
       "        text-align: right;\n",
       "    }\n",
       "</style>\n",
       "<table border=\"1\" class=\"dataframe\">\n",
       "  <thead>\n",
       "    <tr style=\"text-align: right;\">\n",
       "      <th></th>\n",
       "      <th>GS</th>\n",
       "      <th>Rush_Att</th>\n",
       "      <th>Rush_Yds</th>\n",
       "      <th>Rush_TD</th>\n",
       "      <th>Rush_1D</th>\n",
       "      <th>Rush_Lng</th>\n",
       "      <th>Rush_Y/A</th>\n",
       "      <th>Rush_Y/G</th>\n",
       "      <th>Rush_Fmb</th>\n",
       "      <th>Rec_Tgt</th>\n",
       "      <th>...</th>\n",
       "      <th>Rec_Y/R</th>\n",
       "      <th>Rec_TD</th>\n",
       "      <th>Rec_1D</th>\n",
       "      <th>Rec_Lng</th>\n",
       "      <th>Rec_Y/Tgt</th>\n",
       "      <th>Rec_R/G</th>\n",
       "      <th>Rec_Y/G</th>\n",
       "      <th>Rec_Fmb</th>\n",
       "      <th>QBrec</th>\n",
       "      <th>probowl</th>\n",
       "    </tr>\n",
       "  </thead>\n",
       "  <tbody>\n",
       "    <tr>\n",
       "      <th>0</th>\n",
       "      <td>16</td>\n",
       "      <td>403</td>\n",
       "      <td>1509</td>\n",
       "      <td>14</td>\n",
       "      <td>78</td>\n",
       "      <td>35</td>\n",
       "      <td>3.7</td>\n",
       "      <td>94.3</td>\n",
       "      <td>5</td>\n",
       "      <td>65</td>\n",
       "      <td>...</td>\n",
       "      <td>9.1</td>\n",
       "      <td>2</td>\n",
       "      <td>23</td>\n",
       "      <td>24</td>\n",
       "      <td>7.0</td>\n",
       "      <td>3.1</td>\n",
       "      <td>28.3</td>\n",
       "      <td>5</td>\n",
       "      <td>0</td>\n",
       "      <td>1</td>\n",
       "    </tr>\n",
       "    <tr>\n",
       "      <th>1</th>\n",
       "      <td>16</td>\n",
       "      <td>387</td>\n",
       "      <td>1709</td>\n",
       "      <td>13</td>\n",
       "      <td>100</td>\n",
       "      <td>30</td>\n",
       "      <td>4.4</td>\n",
       "      <td>106.8</td>\n",
       "      <td>5</td>\n",
       "      <td>87</td>\n",
       "      <td>...</td>\n",
       "      <td>9.4</td>\n",
       "      <td>5</td>\n",
       "      <td>24</td>\n",
       "      <td>60</td>\n",
       "      <td>6.8</td>\n",
       "      <td>3.9</td>\n",
       "      <td>37.1</td>\n",
       "      <td>5</td>\n",
       "      <td>0</td>\n",
       "      <td>1</td>\n",
       "    </tr>\n",
       "    <tr>\n",
       "      <th>2</th>\n",
       "      <td>16</td>\n",
       "      <td>355</td>\n",
       "      <td>1341</td>\n",
       "      <td>8</td>\n",
       "      <td>72</td>\n",
       "      <td>30</td>\n",
       "      <td>3.8</td>\n",
       "      <td>83.8</td>\n",
       "      <td>1</td>\n",
       "      <td>19</td>\n",
       "      <td>...</td>\n",
       "      <td>7.5</td>\n",
       "      <td>0</td>\n",
       "      <td>5</td>\n",
       "      <td>25</td>\n",
       "      <td>5.1</td>\n",
       "      <td>0.8</td>\n",
       "      <td>6.1</td>\n",
       "      <td>1</td>\n",
       "      <td>0</td>\n",
       "      <td>0</td>\n",
       "    </tr>\n",
       "    <tr>\n",
       "      <th>3</th>\n",
       "      <td>16</td>\n",
       "      <td>339</td>\n",
       "      <td>1184</td>\n",
       "      <td>10</td>\n",
       "      <td>66</td>\n",
       "      <td>34</td>\n",
       "      <td>3.5</td>\n",
       "      <td>74.0</td>\n",
       "      <td>4</td>\n",
       "      <td>48</td>\n",
       "      <td>...</td>\n",
       "      <td>9.0</td>\n",
       "      <td>1</td>\n",
       "      <td>15</td>\n",
       "      <td>32</td>\n",
       "      <td>6.0</td>\n",
       "      <td>2.0</td>\n",
       "      <td>17.9</td>\n",
       "      <td>4</td>\n",
       "      <td>0</td>\n",
       "      <td>0</td>\n",
       "    </tr>\n",
       "    <tr>\n",
       "      <th>4</th>\n",
       "      <td>15</td>\n",
       "      <td>332</td>\n",
       "      <td>1318</td>\n",
       "      <td>11</td>\n",
       "      <td>72</td>\n",
       "      <td>50</td>\n",
       "      <td>4.0</td>\n",
       "      <td>87.9</td>\n",
       "      <td>4</td>\n",
       "      <td>49</td>\n",
       "      <td>...</td>\n",
       "      <td>9.5</td>\n",
       "      <td>0</td>\n",
       "      <td>12</td>\n",
       "      <td>39</td>\n",
       "      <td>6.4</td>\n",
       "      <td>2.2</td>\n",
       "      <td>20.9</td>\n",
       "      <td>4</td>\n",
       "      <td>0</td>\n",
       "      <td>1</td>\n",
       "    </tr>\n",
       "  </tbody>\n",
       "</table>\n",
       "<p>5 rows × 23 columns</p>\n",
       "</div>"
      ],
      "text/plain": [
       "   GS  Rush_Att  Rush_Yds  Rush_TD  Rush_1D  Rush_Lng  Rush_Y/A  Rush_Y/G  \\\n",
       "0  16       403      1509       14       78        35       3.7      94.3   \n",
       "1  16       387      1709       13      100        30       4.4     106.8   \n",
       "2  16       355      1341        8       72        30       3.8      83.8   \n",
       "3  16       339      1184       10       66        34       3.5      74.0   \n",
       "4  15       332      1318       11       72        50       4.0      87.9   \n",
       "\n",
       "   Rush_Fmb  Rec_Tgt  ...  Rec_Y/R Rec_TD  Rec_1D  Rec_Lng  Rec_Y/Tgt  \\\n",
       "0         5       65  ...      9.1      2      23       24        7.0   \n",
       "1         5       87  ...      9.4      5      24       60        6.8   \n",
       "2         1       19  ...      7.5      0       5       25        5.1   \n",
       "3         4       48  ...      9.0      1      15       32        6.0   \n",
       "4         4       49  ...      9.5      0      12       39        6.4   \n",
       "\n",
       "   Rec_R/G  Rec_Y/G  Rec_Fmb  QBrec  probowl  \n",
       "0      3.1     28.3        5      0        1  \n",
       "1      3.9     37.1        5      0        1  \n",
       "2      0.8      6.1        1      0        0  \n",
       "3      2.0     17.9        4      0        0  \n",
       "4      2.2     20.9        4      0        1  \n",
       "\n",
       "[5 rows x 23 columns]"
      ]
     },
     "execution_count": 136,
     "metadata": {},
     "output_type": "execute_result"
    }
   ],
   "source": [
    "wr_rb_df_features = rb_df.iloc[:,8:]\n",
    "wr_rb_df_features = wr_rb_df_features.drop(['Player*','Year','PlayerYearTm*','Pos*'], axis=1)\n",
    "wr_rb_df_features = wr_rb_df_features[wr_rb_df_features.columns.drop(list(rb_df.filter(regex='Pass')))]\n",
    "print(wr_rb_df_features.columns)\n",
    "wr_rb_df_features.head()"
   ]
  },
  {
   "cell_type": "code",
   "execution_count": 137,
   "id": "49b3ffe8-6a72-4708-92bd-ccc06e271985",
   "metadata": {},
   "outputs": [],
   "source": [
    "train4, test4 = train_test_split(wr_rb_df_features, test_size=0.333, stratify=wr_rb_df_features['probowl'])\n",
    "train_y4 = train3['probowl']\n",
    "train_x4=train3.drop(columns=['probowl'])\n",
    "test_y4=test3['probowl']\n",
    "test_x4=test3.drop(columns=['probowl'])"
   ]
  },
  {
   "cell_type": "code",
   "execution_count": 138,
   "id": "cbc6cae5-0010-4b10-9638-bdb5792516fd",
   "metadata": {},
   "outputs": [],
   "source": [
    "param_grid = {\n",
    "    'bootstrap': [True],\n",
    "    'max_depth': [45,60,70],\n",
    "    'max_features': [3,4,5],\n",
    "    'min_samples_leaf': [6,7,8],\n",
    "    'min_samples_split': [9,10,11,12],\n",
    "    'n_estimators': [70,80,90,100]\n",
    "}\n",
    "rf = RandomForestClassifier()\n",
    "grid_search4 = GridSearchCV(estimator = rf, param_grid = param_grid, \n",
    "                          cv = 5, n_jobs = -1, verbose = 2)"
   ]
  },
  {
   "cell_type": "code",
   "execution_count": 139,
   "id": "86878026-c92d-4544-a7f8-b5eea0d3ec6d",
   "metadata": {},
   "outputs": [
    {
     "name": "stdout",
     "output_type": "stream",
     "text": [
      "Fitting 5 folds for each of 432 candidates, totalling 2160 fits\n"
     ]
    },
    {
     "data": {
      "text/plain": [
       "GridSearchCV(cv=5, estimator=RandomForestClassifier(), n_jobs=-1,\n",
       "             param_grid={'bootstrap': [True], 'max_depth': [45, 60, 70],\n",
       "                         'max_features': [3, 4, 5],\n",
       "                         'min_samples_leaf': [6, 7, 8],\n",
       "                         'min_samples_split': [9, 10, 11, 12],\n",
       "                         'n_estimators': [70, 80, 90, 100]},\n",
       "             verbose=2)"
      ]
     },
     "execution_count": 139,
     "metadata": {},
     "output_type": "execute_result"
    }
   ],
   "source": [
    "# Fit the grid search to the data\n",
    "grid_search4.fit(train_x4, train_y4)"
   ]
  },
  {
   "cell_type": "code",
   "execution_count": 140,
   "id": "2720a5ce-834d-4dd5-9198-577ae826a991",
   "metadata": {},
   "outputs": [
    {
     "data": {
      "text/plain": [
       "{'bootstrap': True,\n",
       " 'max_depth': 45,\n",
       " 'max_features': 5,\n",
       " 'min_samples_leaf': 7,\n",
       " 'min_samples_split': 10,\n",
       " 'n_estimators': 70}"
      ]
     },
     "execution_count": 140,
     "metadata": {},
     "output_type": "execute_result"
    }
   ],
   "source": [
    "grid_search4.best_params_"
   ]
  },
  {
   "cell_type": "code",
   "execution_count": 141,
   "id": "69fa202c-0b95-443a-8f3e-2e7b120136c5",
   "metadata": {},
   "outputs": [
    {
     "name": "stdout",
     "output_type": "stream",
     "text": [
      "RandomForestClassifier(max_depth=80, max_features=5, min_samples_leaf=5,\n",
      "                       min_samples_split=12, n_estimators=70)\n"
     ]
    }
   ],
   "source": [
    "rf_mod4 = grid_search3.best_estimator_\n",
    "print(rf_mod4)\n",
    "rfc_pred4 = rf_mod3.predict(test_x4)"
   ]
  },
  {
   "cell_type": "code",
   "execution_count": 142,
   "id": "0a2cf4e6-4a6e-4664-91dc-11cadfa43cc1",
   "metadata": {},
   "outputs": [
    {
     "name": "stdout",
     "output_type": "stream",
     "text": [
      "[[820  13]\n",
      " [ 28  31]]\n"
     ]
    }
   ],
   "source": [
    "print(confusion_matrix(test_y4,rfc_pred4))"
   ]
  },
  {
   "cell_type": "code",
   "execution_count": 143,
   "id": "00eb9b43-2e5f-428c-a90e-870cd8234458",
   "metadata": {},
   "outputs": [
    {
     "name": "stdout",
     "output_type": "stream",
     "text": [
      "              precision    recall  f1-score   support\n",
      "\n",
      "           0       0.97      0.98      0.98       833\n",
      "           1       0.70      0.53      0.60        59\n",
      "\n",
      "    accuracy                           0.95       892\n",
      "   macro avg       0.84      0.75      0.79       892\n",
      "weighted avg       0.95      0.95      0.95       892\n",
      "\n"
     ]
    }
   ],
   "source": [
    "print(classification_report(test_y4, rfc_pred4))"
   ]
  },
  {
   "cell_type": "code",
   "execution_count": 144,
   "id": "4f456a9e-6eeb-402e-bf44-7b17f2378059",
   "metadata": {},
   "outputs": [],
   "source": [
    "rfc_prob4 = rf_mod3.predict_proba(test_x4)"
   ]
  },
  {
   "cell_type": "code",
   "execution_count": 145,
   "id": "53615c95-d5f1-47ee-92f0-6ecebe3bcce2",
   "metadata": {},
   "outputs": [
    {
     "data": {
      "text/plain": [
       "0.9018353103953446"
      ]
     },
     "execution_count": 145,
     "metadata": {},
     "output_type": "execute_result"
    }
   ],
   "source": [
    "test_rfc_y4_2 = test_y4.to_numpy()\n",
    "roc_auc_score(test_rfc_y4_2, rfc_prob4[:,1])"
   ]
  },
  {
   "cell_type": "code",
   "execution_count": 146,
   "id": "5eb3666b-22e2-47d6-8ae3-8a87b4de3504",
   "metadata": {},
   "outputs": [
    {
     "data": {
      "image/png": "[encoded data removed]",
      "text/plain": [
       "<Figure size 864x576 with 1 Axes>"
      ]
     },
     "metadata": {
      "needs_background": "light"
     },
     "output_type": "display_data"
    }
   ],
   "source": [
    "fpr_rfc_4, tpr_rfc_4, _ = roc_curve(test_rfc_y4_2, rfc_prob4[:,1])\n",
    "plt.plot(fpr_rfc_4,tpr_rfc_4, color ='red', lw=2, label=\"Random Forest (Rushing & Receiving Variables)\")\n",
    "plt.plot([0, 1], [0, 1], color='navy', lw=2, linestyle='--')\n",
    "plt.xlim([-.05, 1.0])\n",
    "plt.ylim([-.05, 1.05])\n",
    "plt.xlabel('False Positive Rate')\n",
    "plt.ylabel('True Positive Rate')\n",
    "plt.title('RB RF ROC Curve (Rushing & Receiving Variables)')\n",
    "plt.legend(loc=\"lower right\")\n",
    "# plt.show()\n",
    "plt.savefig(os.path.join(path_parent, 'Figures\\RBs\\ROC_Rush&Rec.jpg'), bbox_inches='tight')"
   ]
  },
  {
   "cell_type": "markdown",
   "id": "2a50f923-bb89-4c34-aaf0-8bc5bcf154aa",
   "metadata": {},
   "source": [
    "## Plot all 4 ROC Curves together"
   ]
  },
  {
   "cell_type": "code",
   "execution_count": 147,
   "id": "dea7070c-be93-4d04-ba18-39aa122da5dd",
   "metadata": {},
   "outputs": [
    {
     "data": {
      "image/png": "[encoded data removed]",
      "text/plain": [
       "<Figure size 864x576 with 1 Axes>"
      ]
     },
     "metadata": {
      "needs_background": "light"
     },
     "output_type": "display_data"
    }
   ],
   "source": [
    "plt.plot(fpr_rfc_1,tpr_rfc_1, color ='blue', lw=2, label=\"All Variables\")\n",
    "plt.plot(fpr_rfc_2,tpr_rfc_2, color ='red', lw=2, label=\"All Rushing Variables\")\n",
    "plt.plot(fpr_rfc_3,tpr_rfc_3, color ='green', lw=2, label=\"Top 5 Rushing Variables\")\n",
    "plt.plot(fpr_rfc_4,tpr_rfc_4, color ='purple', lw=2, label=\"Rushing & Receiving Variables\")\n",
    "plt.plot([0, 1], [0, 1], color='navy', lw=2, linestyle='--')\n",
    "plt.xlim([-.05, 1.0])\n",
    "plt.ylim([-.05, 1.05])\n",
    "plt.xlabel('False Positive Rate')\n",
    "plt.ylabel('True Positive Rate')\n",
    "plt.title('Running Back Feature Space Comparison')\n",
    "plt.legend(loc=\"lower right\")\n",
    "# plt.show()\n",
    "plt.savefig(os.path.join(path_parent, 'Figures\\RBs\\RB_ROC_Comparison.jpg'), bbox_inches='tight')"
   ]
  },
  {
   "cell_type": "code",
   "execution_count": 148,
   "id": "049808ae-97c5-429e-9799-dcc39542bfc6",
   "metadata": {},
   "outputs": [
    {
     "name": "stdout",
     "output_type": "stream",
     "text": [
      "ALL VARIABLES: \n",
      "\n",
      "Confusion Matrix:\n",
      "[[824   9]\n",
      " [ 27  32]]\n",
      "\n",
      " Classification Report: \n",
      "              precision    recall  f1-score   support\n",
      "\n",
      "           0       0.97      0.99      0.98       833\n",
      "           1       0.78      0.54      0.64        59\n",
      "\n",
      "    accuracy                           0.96       892\n",
      "   macro avg       0.87      0.77      0.81       892\n",
      "weighted avg       0.96      0.96      0.96       892\n",
      "\n"
     ]
    }
   ],
   "source": [
    "print('ALL VARIABLES: \\n')\n",
    "print(\"Confusion Matrix:\")\n",
    "print(confusion_matrix(test_y1,rfc_pred1))\n",
    "print(\"\\n Classification Report: \")\n",
    "print(classification_report(test_y1, rfc_pred1))"
   ]
  },
  {
   "cell_type": "code",
   "execution_count": 149,
   "id": "f7fcdb60-5a6e-46ff-a2ad-5d31fe440183",
   "metadata": {},
   "outputs": [
    {
     "name": "stdout",
     "output_type": "stream",
     "text": [
      "ONLY RUSHING VARIABLES: \n",
      "\n",
      "Confusion Matrix:\n",
      "[[827   6]\n",
      " [ 25  34]]\n",
      "\n",
      " Classification Report: \n",
      "              precision    recall  f1-score   support\n",
      "\n",
      "           0       0.97      0.99      0.98       833\n",
      "           1       0.85      0.58      0.69        59\n",
      "\n",
      "    accuracy                           0.97       892\n",
      "   macro avg       0.91      0.78      0.83       892\n",
      "weighted avg       0.96      0.97      0.96       892\n",
      "\n"
     ]
    }
   ],
   "source": [
    "print('ONLY RUSHING VARIABLES: \\n')\n",
    "print(\"Confusion Matrix:\")\n",
    "print(confusion_matrix(test_y2,rfc_pred2))\n",
    "print(\"\\n Classification Report: \")\n",
    "print(classification_report(test_y2, rfc_pred2))"
   ]
  },
  {
   "cell_type": "code",
   "execution_count": 150,
   "id": "c8783e5c-5197-49bc-a682-5c30a9257ca7",
   "metadata": {},
   "outputs": [
    {
     "name": "stdout",
     "output_type": "stream",
     "text": [
      "TOP 5 RUSHING VARIABLES: \n",
      "\n",
      "Confusion Matrix:\n",
      "[[820  13]\n",
      " [ 28  31]]\n",
      "\n",
      " Classification Report: \n",
      "              precision    recall  f1-score   support\n",
      "\n",
      "           0       0.97      0.98      0.98       833\n",
      "           1       0.70      0.53      0.60        59\n",
      "\n",
      "    accuracy                           0.95       892\n",
      "   macro avg       0.84      0.75      0.79       892\n",
      "weighted avg       0.95      0.95      0.95       892\n",
      "\n"
     ]
    }
   ],
   "source": [
    "print('TOP 5 RUSHING VARIABLES: \\n')\n",
    "print(\"Confusion Matrix:\")\n",
    "print(confusion_matrix(test_y3,rfc_pred3))\n",
    "print(\"\\n Classification Report: \")\n",
    "print(classification_report(test_y3, rfc_pred3))"
   ]
  },
  {
   "cell_type": "code",
   "execution_count": 151,
   "id": "af52867a-3b82-4fc0-a26f-d5cfc133cf81",
   "metadata": {},
   "outputs": [
    {
     "name": "stdout",
     "output_type": "stream",
     "text": [
      "RUSHING & RECEIVING VARIABLES: \n",
      "\n",
      "Confusion Matrix:\n",
      "[[820  13]\n",
      " [ 28  31]]\n",
      "\n",
      " Classification Report: \n",
      "              precision    recall  f1-score   support\n",
      "\n",
      "           0       0.97      0.98      0.98       833\n",
      "           1       0.70      0.53      0.60        59\n",
      "\n",
      "    accuracy                           0.95       892\n",
      "   macro avg       0.84      0.75      0.79       892\n",
      "weighted avg       0.95      0.95      0.95       892\n",
      "\n"
     ]
    }
   ],
   "source": [
    "print('RUSHING & RECEIVING VARIABLES: \\n')\n",
    "print(\"Confusion Matrix:\")\n",
    "print(confusion_matrix(test_y4,rfc_pred4))\n",
    "print(\"\\n Classification Report: \")\n",
    "print(classification_report(test_y4, rfc_pred4))"
   ]
  },
  {
   "cell_type": "markdown",
   "id": "00e53d66-be19-43bb-a573-c54bc682e918",
   "metadata": {},
   "source": [
    "**All 4 random forest models result in an F1-Score of 0.98 for identifying non-Pro-Bowl players**\n",
    "\n",
    "The highest F1-Score for identifying Pro-Bowl players (0.69) is from the model that only uses rushing variables.\n",
    "\n",
    "The Models that use the top 5 rushing variables and all rushing and receiving variables have the next highest F1-Score of 0.67, and have the same precision and recall values (0.86 and 0.54, respectively).\n",
    "\n",
    "The worst F1-score came from the random forest model that used all 46 input variables (0.65)"
   ]
  },
  {
   "cell_type": "code",
   "execution_count": null,
   "id": "8141991f-d02e-490d-be41-620dafe5e787",
   "metadata": {},
   "outputs": [],
   "source": []
  },
  {
   "cell_type": "code",
   "execution_count": null,
   "id": "ce1ccd85-784d-4a46-9410-23eceebd4623",
   "metadata": {},
   "outputs": [],
   "source": []
  },
  {
   "cell_type": "code",
   "execution_count": null,
   "id": "d287e42c-bcad-4fae-9edb-1e6f7c0404e2",
   "metadata": {},
   "outputs": [],
   "source": []
  },
  {
   "cell_type": "code",
   "execution_count": null,
   "id": "71582106-6c5c-4e84-ab6a-fc98c00e97f1",
   "metadata": {},
   "outputs": [],
   "source": []
  },
  {
   "cell_type": "code",
   "execution_count": null,
   "id": "20686c1d-168e-4154-965c-7771cc08248f",
   "metadata": {},
   "outputs": [],
   "source": []
  },
  {
   "cell_type": "code",
   "execution_count": null,
   "id": "77974f9d-01ab-4faa-bb4b-b36cc97cd958",
   "metadata": {},
   "outputs": [],
   "source": []
  },
  {
   "cell_type": "code",
   "execution_count": null,
   "id": "fe4efd85-4dc7-48a0-b9e9-ecf00d33c6ae",
   "metadata": {},
   "outputs": [],
   "source": []
  },
  {
   "cell_type": "code",
   "execution_count": null,
   "id": "07d812a4-50a8-4402-b1b7-4977f62810f4",
   "metadata": {},
   "outputs": [],
   "source": []
  },
  {
   "cell_type": "code",
   "execution_count": null,
   "id": "b8a1aae1-51ab-4234-9a79-fc108d5e47ec",
   "metadata": {},
   "outputs": [],
   "source": []
  },
  {
   "cell_type": "code",
   "execution_count": null,
   "id": "bd832a23-aaed-461d-ab01-7330191854d5",
   "metadata": {},
   "outputs": [],
   "source": []
  }
 ],
 "metadata": {
  "kernelspec": {
   "display_name": "Python 3",
   "language": "python",
   "name": "python3"
  },
  "language_info": {
   "codemirror_mode": {
    "name": "ipython",
    "version": 3
   },
   "file_extension": ".py",
   "mimetype": "text/x-python",
   "name": "python",
   "nbconvert_exporter": "python",
   "pygments_lexer": "ipython3",
   "version": "3.8.8"
  }
 },
 "nbformat": 4,
 "nbformat_minor": 5
}
