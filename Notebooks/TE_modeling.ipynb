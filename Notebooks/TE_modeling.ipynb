{
 "cells": [
  {
   "cell_type": "code",
   "execution_count": 1,
   "id": "95376519-a9d2-4bb9-80fb-0f3fcb1a870f",
   "metadata": {},
   "outputs": [],
   "source": [
    "import pandas as pd\n",
    "import numpy as np\n",
    "import matplotlib.pyplot as plt\n",
    "import seaborn as sns\n",
    "import os\n",
    "%matplotlib inline\n",
    "\n",
    "from sklearn.tree import DecisionTreeClassifier\n",
    "from sklearn.ensemble import RandomForestClassifier\n",
    "from sklearn.neighbors import KNeighborsClassifier\n",
    "from sklearn.svm import SVC\n",
    "from sklearn.model_selection import GridSearchCV\n",
    "from sklearn.metrics import confusion_matrix\n",
    "from sklearn.metrics import classification_report\n",
    "from sklearn.metrics import roc_curve\n",
    "from sklearn.metrics import roc_auc_score\n",
    "from sklearn.preprocessing import StandardScaler\n",
    "from sklearn.model_selection import train_test_split\n",
    "\n",
    "plt.rcParams.update({'figure.figsize': (12.0, 8.0)})\n",
    "plt.rcParams.update({'font.size': 14})"
   ]
  },
  {
   "cell_type": "code",
   "execution_count": 2,
   "id": "579f7105-9981-4cec-af24-dbdb30875f7a",
   "metadata": {},
   "outputs": [
    {
     "name": "stdout",
     "output_type": "stream",
     "text": [
      "C:\\Users\\andre\\OneDrive\\Desktop\\USC\\DSCI550\\Project\n"
     ]
    }
   ],
   "source": [
    "dirname=os.getcwd()\n",
    "path_parent = os.path.dirname(os.getcwd())\n",
    "print(path_parent)"
   ]
  },
  {
   "cell_type": "code",
   "execution_count": 3,
   "id": "f0388d03-707c-4abb-a9a4-1cae8d80c123",
   "metadata": {},
   "outputs": [
    {
     "data": {
      "text/html": [
       "<div>\n",
       "<style scoped>\n",
       "    .dataframe tbody tr th:only-of-type {\n",
       "        vertical-align: middle;\n",
       "    }\n",
       "\n",
       "    .dataframe tbody tr th {\n",
       "        vertical-align: top;\n",
       "    }\n",
       "\n",
       "    .dataframe thead th {\n",
       "        text-align: right;\n",
       "    }\n",
       "</style>\n",
       "<table border=\"1\" class=\"dataframe\">\n",
       "  <thead>\n",
       "    <tr style=\"text-align: right;\">\n",
       "      <th></th>\n",
       "      <th>Unnamed: 0.1</th>\n",
       "      <th>Unnamed: 0</th>\n",
       "      <th>Rk</th>\n",
       "      <th>Player</th>\n",
       "      <th>Tm</th>\n",
       "      <th>Age</th>\n",
       "      <th>Pos</th>\n",
       "      <th>G</th>\n",
       "      <th>GS</th>\n",
       "      <th>Rush_Att</th>\n",
       "      <th>...</th>\n",
       "      <th>Pass_Rate</th>\n",
       "      <th>Pass_QBR</th>\n",
       "      <th>Pass_Sk</th>\n",
       "      <th>Pass_Yds.1</th>\n",
       "      <th>Pass_Sk%</th>\n",
       "      <th>Pass_NY/A</th>\n",
       "      <th>Pass_ANY/A</th>\n",
       "      <th>Pass_4QC</th>\n",
       "      <th>Pass_GWD</th>\n",
       "      <th>QBrec</th>\n",
       "    </tr>\n",
       "  </thead>\n",
       "  <tbody>\n",
       "    <tr>\n",
       "      <th>0</th>\n",
       "      <td>0</td>\n",
       "      <td>229</td>\n",
       "      <td>223</td>\n",
       "      <td>Ernie Conwell</td>\n",
       "      <td>STL</td>\n",
       "      <td>28</td>\n",
       "      <td>TE</td>\n",
       "      <td>16</td>\n",
       "      <td>1</td>\n",
       "      <td>2</td>\n",
       "      <td>...</td>\n",
       "      <td>0.0</td>\n",
       "      <td>0.0</td>\n",
       "      <td>0</td>\n",
       "      <td>0</td>\n",
       "      <td>0</td>\n",
       "      <td>0.0</td>\n",
       "      <td>0.0</td>\n",
       "      <td>0</td>\n",
       "      <td>0</td>\n",
       "      <td>0</td>\n",
       "    </tr>\n",
       "    <tr>\n",
       "      <th>1</th>\n",
       "      <td>1</td>\n",
       "      <td>276</td>\n",
       "      <td>269</td>\n",
       "      <td>Rickey Dudley</td>\n",
       "      <td>OAK</td>\n",
       "      <td>28</td>\n",
       "      <td>TE</td>\n",
       "      <td>16</td>\n",
       "      <td>16</td>\n",
       "      <td>1</td>\n",
       "      <td>...</td>\n",
       "      <td>0.0</td>\n",
       "      <td>0.0</td>\n",
       "      <td>0</td>\n",
       "      <td>0</td>\n",
       "      <td>0</td>\n",
       "      <td>0.0</td>\n",
       "      <td>0.0</td>\n",
       "      <td>0</td>\n",
       "      <td>0</td>\n",
       "      <td>0</td>\n",
       "    </tr>\n",
       "    <tr>\n",
       "      <th>2</th>\n",
       "      <td>2</td>\n",
       "      <td>318</td>\n",
       "      <td>309</td>\n",
       "      <td>Mike Sellers</td>\n",
       "      <td>WAS</td>\n",
       "      <td>25</td>\n",
       "      <td>TE</td>\n",
       "      <td>15</td>\n",
       "      <td>6</td>\n",
       "      <td>1</td>\n",
       "      <td>...</td>\n",
       "      <td>0.0</td>\n",
       "      <td>0.0</td>\n",
       "      <td>0</td>\n",
       "      <td>0</td>\n",
       "      <td>0</td>\n",
       "      <td>0.0</td>\n",
       "      <td>0.0</td>\n",
       "      <td>0</td>\n",
       "      <td>0</td>\n",
       "      <td>0</td>\n",
       "    </tr>\n",
       "    <tr>\n",
       "      <th>3</th>\n",
       "      <td>3</td>\n",
       "      <td>821</td>\n",
       "      <td>159</td>\n",
       "      <td>Ernie Conwell</td>\n",
       "      <td>STL</td>\n",
       "      <td>29</td>\n",
       "      <td>TE</td>\n",
       "      <td>16</td>\n",
       "      <td>14</td>\n",
       "      <td>7</td>\n",
       "      <td>...</td>\n",
       "      <td>0.0</td>\n",
       "      <td>0.0</td>\n",
       "      <td>0</td>\n",
       "      <td>0</td>\n",
       "      <td>0</td>\n",
       "      <td>0.0</td>\n",
       "      <td>0.0</td>\n",
       "      <td>0</td>\n",
       "      <td>0</td>\n",
       "      <td>0</td>\n",
       "    </tr>\n",
       "    <tr>\n",
       "      <th>4</th>\n",
       "      <td>4</td>\n",
       "      <td>923</td>\n",
       "      <td>258</td>\n",
       "      <td>Tony Gonzalez*+</td>\n",
       "      <td>KAN</td>\n",
       "      <td>25</td>\n",
       "      <td>TE</td>\n",
       "      <td>16</td>\n",
       "      <td>16</td>\n",
       "      <td>1</td>\n",
       "      <td>...</td>\n",
       "      <td>118.7</td>\n",
       "      <td>0.0</td>\n",
       "      <td>0</td>\n",
       "      <td>0</td>\n",
       "      <td>0</td>\n",
       "      <td>40.0</td>\n",
       "      <td>40.0</td>\n",
       "      <td>0</td>\n",
       "      <td>0</td>\n",
       "      <td>0</td>\n",
       "    </tr>\n",
       "  </tbody>\n",
       "</table>\n",
       "<p>5 rows × 57 columns</p>\n",
       "</div>"
      ],
      "text/plain": [
       "   Unnamed: 0.1  Unnamed: 0   Rk           Player   Tm  Age Pos   G  GS  \\\n",
       "0             0         229  223    Ernie Conwell  STL   28  TE  16   1   \n",
       "1             1         276  269    Rickey Dudley  OAK   28  TE  16  16   \n",
       "2             2         318  309     Mike Sellers  WAS   25  TE  15   6   \n",
       "3             3         821  159    Ernie Conwell  STL   29  TE  16  14   \n",
       "4             4         923  258  Tony Gonzalez*+  KAN   25  TE  16  16   \n",
       "\n",
       "   Rush_Att  ...  Pass_Rate  Pass_QBR  Pass_Sk  Pass_Yds.1  Pass_Sk%  \\\n",
       "0         2  ...        0.0       0.0        0           0         0   \n",
       "1         1  ...        0.0       0.0        0           0         0   \n",
       "2         1  ...        0.0       0.0        0           0         0   \n",
       "3         7  ...        0.0       0.0        0           0         0   \n",
       "4         1  ...      118.7       0.0        0           0         0   \n",
       "\n",
       "   Pass_NY/A  Pass_ANY/A  Pass_4QC Pass_GWD QBrec  \n",
       "0        0.0         0.0         0        0     0  \n",
       "1        0.0         0.0         0        0     0  \n",
       "2        0.0         0.0         0        0     0  \n",
       "3        0.0         0.0         0        0     0  \n",
       "4       40.0        40.0         0        0     0  \n",
       "\n",
       "[5 rows x 57 columns]"
      ]
     },
     "execution_count": 3,
     "metadata": {},
     "output_type": "execute_result"
    }
   ],
   "source": [
    "te_df = pd.read_csv(os.path.join(path_parent, \"Data\\\\Clean_Data\\\\tes.csv\"))"
   ]
  },
  {
   "cell_type": "code",
   "execution_count": 4,
   "id": "d7c87f8c-537f-4239-9deb-3962425e99d0",
   "metadata": {},
   "outputs": [],
   "source": [
    "te_df['probowl']=0"
   ]
  },
  {
   "cell_type": "code",
   "execution_count": 5,
   "id": "490a7068-2d5f-4966-820c-ed95d64c88aa",
   "metadata": {},
   "outputs": [],
   "source": [
    "for index, row in te_df.iterrows():\n",
    "    if \"*\" in row['Player']:\n",
    "        row['probowl'] = 1\n",
    "        te_df.loc[index, 'probowl'] = 1"
   ]
  },
  {
   "cell_type": "markdown",
   "id": "5591ea89-fb98-4530-9865-3d63d91aabaa",
   "metadata": {},
   "source": [
    "## Tight End Random Forest (All Variables) [1]"
   ]
  },
  {
   "cell_type": "code",
   "execution_count": 6,
   "id": "ad9943b1-20b7-4d69-b17d-e66b25e6c1f1",
   "metadata": {},
   "outputs": [
    {
     "data": {
      "text/html": [
       "<div>\n",
       "<style scoped>\n",
       "    .dataframe tbody tr th:only-of-type {\n",
       "        vertical-align: middle;\n",
       "    }\n",
       "\n",
       "    .dataframe tbody tr th {\n",
       "        vertical-align: top;\n",
       "    }\n",
       "\n",
       "    .dataframe thead th {\n",
       "        text-align: right;\n",
       "    }\n",
       "</style>\n",
       "<table border=\"1\" class=\"dataframe\">\n",
       "  <thead>\n",
       "    <tr style=\"text-align: right;\">\n",
       "      <th></th>\n",
       "      <th>GS</th>\n",
       "      <th>Rush_Att</th>\n",
       "      <th>Rush_Yds</th>\n",
       "      <th>Rush_TD</th>\n",
       "      <th>Rush_1D</th>\n",
       "      <th>Rush_Lng</th>\n",
       "      <th>Rush_Y/A</th>\n",
       "      <th>Rush_Y/G</th>\n",
       "      <th>Rush_Fmb</th>\n",
       "      <th>Rec_Tgt</th>\n",
       "      <th>...</th>\n",
       "      <th>Pass_QBR</th>\n",
       "      <th>Pass_Sk</th>\n",
       "      <th>Pass_Yds.1</th>\n",
       "      <th>Pass_Sk%</th>\n",
       "      <th>Pass_NY/A</th>\n",
       "      <th>Pass_ANY/A</th>\n",
       "      <th>Pass_4QC</th>\n",
       "      <th>Pass_GWD</th>\n",
       "      <th>QBrec</th>\n",
       "      <th>probowl</th>\n",
       "    </tr>\n",
       "  </thead>\n",
       "  <tbody>\n",
       "    <tr>\n",
       "      <th>0</th>\n",
       "      <td>1</td>\n",
       "      <td>2</td>\n",
       "      <td>23</td>\n",
       "      <td>0</td>\n",
       "      <td>1</td>\n",
       "      <td>17</td>\n",
       "      <td>11.5</td>\n",
       "      <td>1.4</td>\n",
       "      <td>0</td>\n",
       "      <td>9</td>\n",
       "      <td>...</td>\n",
       "      <td>0.0</td>\n",
       "      <td>0</td>\n",
       "      <td>0</td>\n",
       "      <td>0</td>\n",
       "      <td>0.0</td>\n",
       "      <td>0.0</td>\n",
       "      <td>0</td>\n",
       "      <td>0</td>\n",
       "      <td>0</td>\n",
       "      <td>0</td>\n",
       "    </tr>\n",
       "    <tr>\n",
       "      <th>1</th>\n",
       "      <td>16</td>\n",
       "      <td>1</td>\n",
       "      <td>-7</td>\n",
       "      <td>0</td>\n",
       "      <td>0</td>\n",
       "      <td>-7</td>\n",
       "      <td>-7.0</td>\n",
       "      <td>-0.4</td>\n",
       "      <td>1</td>\n",
       "      <td>49</td>\n",
       "      <td>...</td>\n",
       "      <td>0.0</td>\n",
       "      <td>0</td>\n",
       "      <td>0</td>\n",
       "      <td>0</td>\n",
       "      <td>0.0</td>\n",
       "      <td>0.0</td>\n",
       "      <td>0</td>\n",
       "      <td>0</td>\n",
       "      <td>0</td>\n",
       "      <td>0</td>\n",
       "    </tr>\n",
       "    <tr>\n",
       "      <th>2</th>\n",
       "      <td>6</td>\n",
       "      <td>1</td>\n",
       "      <td>2</td>\n",
       "      <td>0</td>\n",
       "      <td>1</td>\n",
       "      <td>2</td>\n",
       "      <td>2.0</td>\n",
       "      <td>0.1</td>\n",
       "      <td>0</td>\n",
       "      <td>11</td>\n",
       "      <td>...</td>\n",
       "      <td>0.0</td>\n",
       "      <td>0</td>\n",
       "      <td>0</td>\n",
       "      <td>0</td>\n",
       "      <td>0.0</td>\n",
       "      <td>0.0</td>\n",
       "      <td>0</td>\n",
       "      <td>0</td>\n",
       "      <td>0</td>\n",
       "      <td>0</td>\n",
       "    </tr>\n",
       "    <tr>\n",
       "      <th>3</th>\n",
       "      <td>14</td>\n",
       "      <td>7</td>\n",
       "      <td>28</td>\n",
       "      <td>1</td>\n",
       "      <td>3</td>\n",
       "      <td>13</td>\n",
       "      <td>4.0</td>\n",
       "      <td>1.8</td>\n",
       "      <td>2</td>\n",
       "      <td>52</td>\n",
       "      <td>...</td>\n",
       "      <td>0.0</td>\n",
       "      <td>0</td>\n",
       "      <td>0</td>\n",
       "      <td>0</td>\n",
       "      <td>0.0</td>\n",
       "      <td>0.0</td>\n",
       "      <td>0</td>\n",
       "      <td>0</td>\n",
       "      <td>0</td>\n",
       "      <td>0</td>\n",
       "    </tr>\n",
       "    <tr>\n",
       "      <th>4</th>\n",
       "      <td>16</td>\n",
       "      <td>1</td>\n",
       "      <td>9</td>\n",
       "      <td>0</td>\n",
       "      <td>0</td>\n",
       "      <td>9</td>\n",
       "      <td>9.0</td>\n",
       "      <td>0.6</td>\n",
       "      <td>0</td>\n",
       "      <td>118</td>\n",
       "      <td>...</td>\n",
       "      <td>0.0</td>\n",
       "      <td>0</td>\n",
       "      <td>0</td>\n",
       "      <td>0</td>\n",
       "      <td>40.0</td>\n",
       "      <td>40.0</td>\n",
       "      <td>0</td>\n",
       "      <td>0</td>\n",
       "      <td>0</td>\n",
       "      <td>1</td>\n",
       "    </tr>\n",
       "  </tbody>\n",
       "</table>\n",
       "<p>5 rows × 46 columns</p>\n",
       "</div>"
      ],
      "text/plain": [
       "   GS  Rush_Att  Rush_Yds  Rush_TD  Rush_1D  Rush_Lng  Rush_Y/A  Rush_Y/G  \\\n",
       "0   1         2        23        0        1        17      11.5       1.4   \n",
       "1  16         1        -7        0        0        -7      -7.0      -0.4   \n",
       "2   6         1         2        0        1         2       2.0       0.1   \n",
       "3  14         7        28        1        3        13       4.0       1.8   \n",
       "4  16         1         9        0        0         9       9.0       0.6   \n",
       "\n",
       "   Rush_Fmb  Rec_Tgt  ...  Pass_QBR Pass_Sk  Pass_Yds.1  Pass_Sk%  Pass_NY/A  \\\n",
       "0         0        9  ...       0.0       0           0         0        0.0   \n",
       "1         1       49  ...       0.0       0           0         0        0.0   \n",
       "2         0       11  ...       0.0       0           0         0        0.0   \n",
       "3         2       52  ...       0.0       0           0         0        0.0   \n",
       "4         0      118  ...       0.0       0           0         0       40.0   \n",
       "\n",
       "   Pass_ANY/A  Pass_4QC  Pass_GWD  QBrec  probowl  \n",
       "0         0.0         0         0      0        0  \n",
       "1         0.0         0         0      0        0  \n",
       "2         0.0         0         0      0        0  \n",
       "3         0.0         0         0      0        0  \n",
       "4        40.0         0         0      0        1  \n",
       "\n",
       "[5 rows x 46 columns]"
      ]
     },
     "execution_count": 6,
     "metadata": {},
     "output_type": "execute_result"
    }
   ],
   "source": [
    "te_df_features = te_df.iloc[:,8:]\n",
    "te_df_features = te_df_features.drop(['Player*','Year','PlayerYearTm*','Pos*'], axis=1)\n",
    "te_df_features.head()"
   ]
  },
  {
   "cell_type": "code",
   "execution_count": 7,
   "id": "a21df545-ddd3-4319-8dc7-c01ddbc7ebf9",
   "metadata": {},
   "outputs": [
    {
     "data": {
      "text/plain": [
       "GS              int64\n",
       "Rush_Att        int64\n",
       "Rush_Yds        int64\n",
       "Rush_TD         int64\n",
       "Rush_1D         int64\n",
       "Rush_Lng        int64\n",
       "Rush_Y/A      float64\n",
       "Rush_Y/G      float64\n",
       "Rush_Fmb        int64\n",
       "Rec_Tgt         int64\n",
       "Rec_Rec         int64\n",
       "Rec_Ctch%      object\n",
       "Rec_Yds         int64\n",
       "Rec_Y/R       float64\n",
       "Rec_TD          int64\n",
       "Rec_1D          int64\n",
       "Rec_Lng         int64\n",
       "Rec_Y/Tgt     float64\n",
       "Rec_R/G       float64\n",
       "Rec_Y/G       float64\n",
       "Rec_Fmb         int64\n",
       "Pass_Cmp        int64\n",
       "Pass_Att        int64\n",
       "Pass_Cmp%       int64\n",
       "Pass_Yds        int64\n",
       "Pass_TD         int64\n",
       "Pass_TD%        int64\n",
       "Pass_Int        int64\n",
       "Pass_Int%       int64\n",
       "Pass_1D         int64\n",
       "Pass_Lng        int64\n",
       "Pass_Y/A      float64\n",
       "Pass_AY/A     float64\n",
       "Pass_Y/C      float64\n",
       "Pass_Y/G      float64\n",
       "Pass_Rate     float64\n",
       "Pass_QBR      float64\n",
       "Pass_Sk         int64\n",
       "Pass_Yds.1      int64\n",
       "Pass_Sk%        int64\n",
       "Pass_NY/A     float64\n",
       "Pass_ANY/A    float64\n",
       "Pass_4QC        int64\n",
       "Pass_GWD        int64\n",
       "QBrec           int64\n",
       "probowl         int64\n",
       "dtype: object"
      ]
     },
     "execution_count": 7,
     "metadata": {},
     "output_type": "execute_result"
    }
   ],
   "source": [
    "te_df_features.dtypes"
   ]
  },
  {
   "cell_type": "code",
   "execution_count": 8,
   "id": "02be375b-9703-41ec-abd7-24e4cce04fe8",
   "metadata": {},
   "outputs": [],
   "source": [
    "#Change all % columns to float, then classifier will run.\n",
    "te_df_features['Rec_Ctch%'] = te_df_features['Rec_Ctch%'].str.rstrip(\"%\").astype(float)/100"
   ]
  },
  {
   "cell_type": "code",
   "execution_count": 9,
   "id": "146939bc-4cfd-4406-96eb-da6b6d9eb8ff",
   "metadata": {},
   "outputs": [],
   "source": [
    "train1, test1 = train_test_split(te_df_features, test_size=0.333, stratify=te_df_features['probowl'])"
   ]
  },
  {
   "cell_type": "code",
   "execution_count": 10,
   "id": "e9de1616-e34d-4dd3-97df-509caa1e1f48",
   "metadata": {},
   "outputs": [],
   "source": [
    "train_y1 = train1['probowl']\n",
    "train_x1=train1.drop(columns=['probowl'])\n",
    "test_y1=test1['probowl']\n",
    "test_x1=test1.drop(columns=['probowl'])"
   ]
  },
  {
   "cell_type": "code",
   "execution_count": 13,
   "id": "95c7ba8a-15ce-4f89-8ea1-4b70318ce1a5",
   "metadata": {},
   "outputs": [],
   "source": [
    "param_grid = {\n",
    "    'bootstrap': [True],\n",
    "    'max_depth': [165, 170,180],\n",
    "    'max_features': [11,12,13],\n",
    "    'min_samples_leaf': [1,2,3],\n",
    "    'min_samples_split': [11,12,13,14],\n",
    "    'n_estimators': [40,60,80]\n",
    "}\n",
    "rf = RandomForestClassifier()\n",
    "grid_search = GridSearchCV(estimator = rf, param_grid = param_grid, \n",
    "                          cv = 5, n_jobs = -1, verbose = 2)"
   ]
  },
  {
   "cell_type": "code",
   "execution_count": 12,
   "id": "dc362d22-b148-40a9-983f-db83c7fc1dc4",
   "metadata": {},
   "outputs": [
    {
     "name": "stdout",
     "output_type": "stream",
     "text": [
      "Fitting 5 folds for each of 1 candidates, totalling 5 fits\n"
     ]
    },
    {
     "data": {
      "text/plain": [
       "GridSearchCV(cv=5, estimator=RandomForestClassifier(), n_jobs=-1,\n",
       "             param_grid={'bootstrap': [True], 'max_depth': [180],\n",
       "                         'max_features': [13], 'min_samples_leaf': [2],\n",
       "                         'min_samples_split': [14], 'n_estimators': [40]},\n",
       "             verbose=2)"
      ]
     },
     "execution_count": 12,
     "metadata": {},
     "output_type": "execute_result"
    }
   ],
   "source": [
    "grid_search1.fit(train_x1, train_y1)"
   ]
  },
  {
   "cell_type": "code",
   "execution_count": 13,
   "id": "22eeb45d-7d0f-453d-b9fa-2b28ed58f22d",
   "metadata": {},
   "outputs": [
    {
     "data": {
      "text/plain": [
       "{'bootstrap': True,\n",
       " 'max_depth': 180,\n",
       " 'max_features': 13,\n",
       " 'min_samples_leaf': 2,\n",
       " 'min_samples_split': 14,\n",
       " 'n_estimators': 40}"
      ]
     },
     "execution_count": 13,
     "metadata": {},
     "output_type": "execute_result"
    }
   ],
   "source": [
    "grid_search1.best_params_"
   ]
  },
  {
   "cell_type": "code",
   "execution_count": 14,
   "id": "4d51da78-afad-4a15-90ab-abbc2c6ca8f5",
   "metadata": {},
   "outputs": [
    {
     "name": "stdout",
     "output_type": "stream",
     "text": [
      "RandomForestClassifier(max_depth=180, max_features=13, min_samples_leaf=2,\n",
      "                       min_samples_split=14, n_estimators=40)\n"
     ]
    }
   ],
   "source": [
    "rf_mod1 = grid_search1.best_estimator_\n",
    "print(rf_mod1)\n",
    "rfc_pred1 = rf_mod1.predict(test_x1)"
   ]
  },
  {
   "cell_type": "code",
   "execution_count": 15,
   "id": "a69dd937-aa5c-4db4-ae3a-a5a2770d8e75",
   "metadata": {},
   "outputs": [
    {
     "name": "stdout",
     "output_type": "stream",
     "text": [
      "[[625   6]\n",
      " [ 13  25]]\n"
     ]
    }
   ],
   "source": [
    "print(confusion_matrix(test_y1,rfc_pred1))"
   ]
  },
  {
   "cell_type": "code",
   "execution_count": 16,
   "id": "cdc155ed-260a-44f8-a786-8b2f7b1ff1c2",
   "metadata": {},
   "outputs": [
    {
     "name": "stdout",
     "output_type": "stream",
     "text": [
      "              precision    recall  f1-score   support\n",
      "\n",
      "           0       0.98      0.99      0.99       631\n",
      "           1       0.81      0.66      0.72        38\n",
      "\n",
      "    accuracy                           0.97       669\n",
      "   macro avg       0.89      0.82      0.85       669\n",
      "weighted avg       0.97      0.97      0.97       669\n",
      "\n"
     ]
    }
   ],
   "source": [
    "print(classification_report(test_y1, rfc_pred1))"
   ]
  },
  {
   "cell_type": "code",
   "execution_count": 17,
   "id": "f8af050e-74d6-4abc-bcdd-813c61f68fff",
   "metadata": {},
   "outputs": [],
   "source": [
    "rfc_prob1 = rf_mod1.predict_proba(test_x1)"
   ]
  },
  {
   "cell_type": "code",
   "execution_count": 18,
   "id": "229f5cfb-07a0-4e69-b752-0dcb637c1c44",
   "metadata": {},
   "outputs": [
    {
     "data": {
      "text/plain": [
       "0.9785219784802736"
      ]
     },
     "execution_count": 18,
     "metadata": {},
     "output_type": "execute_result"
    }
   ],
   "source": [
    "test_rfc_y1_2 = test_y1.to_numpy()\n",
    "roc_auc_score(test_rfc_y1_2, rfc_prob1[:,1])"
   ]
  },
  {
   "cell_type": "code",
   "execution_count": 20,
   "id": "fd83d245-06f0-474d-872c-d71bad8e47bd",
   "metadata": {},
   "outputs": [
    {
     "data": {
      "image/png": "[encoded data removed]",
      "text/plain": [
       "<Figure size 864x576 with 1 Axes>"
      ]
     },
     "metadata": {
      "needs_background": "light"
     },
     "output_type": "display_data"
    }
   ],
   "source": [
    "fpr_rfc_1, tpr_rfc_1, _ = roc_curve(test_rfc_y1_2, rfc_prob1[:,1])\n",
    "plt.plot(fpr_rfc_1,tpr_rfc_1, color ='red', lw=2, label=\"Random Forest (All Variables)\")\n",
    "plt.plot([0, 1], [0, 1], color='navy', lw=2, linestyle='--')\n",
    "plt.xlim([-.05, 1.0])\n",
    "plt.ylim([-.05, 1.05])\n",
    "plt.xlabel('False Positive Rate')\n",
    "plt.ylabel('True Positive Rate')\n",
    "plt.title('TE ROC Curve (All Variables)')\n",
    "plt.legend(loc=\"lower right\")\n",
    "# plt.show()\n",
    "plt.savefig(os.path.join(path_parent, 'Figures\\TEs\\ROC_all.jpg'), bbox_inches='tight')"
   ]
  },
  {
   "cell_type": "markdown",
   "id": "8dc339c0-1ce0-4aab-af09-c4a549161c96",
   "metadata": {},
   "source": [
    "## Tight End Random Forest (Only Receiving Variables) [2]"
   ]
  },
  {
   "cell_type": "code",
   "execution_count": 21,
   "id": "c3bcaf78-fc10-494b-9324-bee4397ec821",
   "metadata": {
    "tags": []
   },
   "outputs": [
    {
     "name": "stdout",
     "output_type": "stream",
     "text": [
      "Index(['GS', 'Rec_Tgt', 'Rec_Rec', 'Rec_Ctch%', 'Rec_Yds', 'Rec_Y/R', 'Rec_TD',\n",
      "       'Rec_1D', 'Rec_Lng', 'Rec_Y/Tgt', 'Rec_R/G', 'Rec_Y/G', 'Rec_Fmb',\n",
      "       'QBrec', 'probowl'],\n",
      "      dtype='object')\n"
     ]
    },
    {
     "data": {
      "text/html": [
       "<div>\n",
       "<style scoped>\n",
       "    .dataframe tbody tr th:only-of-type {\n",
       "        vertical-align: middle;\n",
       "    }\n",
       "\n",
       "    .dataframe tbody tr th {\n",
       "        vertical-align: top;\n",
       "    }\n",
       "\n",
       "    .dataframe thead th {\n",
       "        text-align: right;\n",
       "    }\n",
       "</style>\n",
       "<table border=\"1\" class=\"dataframe\">\n",
       "  <thead>\n",
       "    <tr style=\"text-align: right;\">\n",
       "      <th></th>\n",
       "      <th>GS</th>\n",
       "      <th>Rec_Tgt</th>\n",
       "      <th>Rec_Rec</th>\n",
       "      <th>Rec_Ctch%</th>\n",
       "      <th>Rec_Yds</th>\n",
       "      <th>Rec_Y/R</th>\n",
       "      <th>Rec_TD</th>\n",
       "      <th>Rec_1D</th>\n",
       "      <th>Rec_Lng</th>\n",
       "      <th>Rec_Y/Tgt</th>\n",
       "      <th>Rec_R/G</th>\n",
       "      <th>Rec_Y/G</th>\n",
       "      <th>Rec_Fmb</th>\n",
       "      <th>QBrec</th>\n",
       "      <th>probowl</th>\n",
       "    </tr>\n",
       "  </thead>\n",
       "  <tbody>\n",
       "    <tr>\n",
       "      <th>0</th>\n",
       "      <td>1</td>\n",
       "      <td>9</td>\n",
       "      <td>5</td>\n",
       "      <td>55.6%</td>\n",
       "      <td>40</td>\n",
       "      <td>8.0</td>\n",
       "      <td>0</td>\n",
       "      <td>3</td>\n",
       "      <td>17</td>\n",
       "      <td>4.4</td>\n",
       "      <td>0.3</td>\n",
       "      <td>2.5</td>\n",
       "      <td>0</td>\n",
       "      <td>0</td>\n",
       "      <td>0</td>\n",
       "    </tr>\n",
       "    <tr>\n",
       "      <th>1</th>\n",
       "      <td>16</td>\n",
       "      <td>49</td>\n",
       "      <td>29</td>\n",
       "      <td>59.2%</td>\n",
       "      <td>350</td>\n",
       "      <td>12.1</td>\n",
       "      <td>4</td>\n",
       "      <td>18</td>\n",
       "      <td>30</td>\n",
       "      <td>7.1</td>\n",
       "      <td>1.8</td>\n",
       "      <td>21.9</td>\n",
       "      <td>1</td>\n",
       "      <td>0</td>\n",
       "      <td>0</td>\n",
       "    </tr>\n",
       "    <tr>\n",
       "      <th>2</th>\n",
       "      <td>6</td>\n",
       "      <td>11</td>\n",
       "      <td>8</td>\n",
       "      <td>72.7%</td>\n",
       "      <td>78</td>\n",
       "      <td>9.8</td>\n",
       "      <td>2</td>\n",
       "      <td>6</td>\n",
       "      <td>24</td>\n",
       "      <td>7.1</td>\n",
       "      <td>0.5</td>\n",
       "      <td>5.2</td>\n",
       "      <td>0</td>\n",
       "      <td>0</td>\n",
       "      <td>0</td>\n",
       "    </tr>\n",
       "    <tr>\n",
       "      <th>3</th>\n",
       "      <td>14</td>\n",
       "      <td>52</td>\n",
       "      <td>38</td>\n",
       "      <td>73.1%</td>\n",
       "      <td>431</td>\n",
       "      <td>11.3</td>\n",
       "      <td>4</td>\n",
       "      <td>19</td>\n",
       "      <td>47</td>\n",
       "      <td>8.3</td>\n",
       "      <td>2.4</td>\n",
       "      <td>26.9</td>\n",
       "      <td>2</td>\n",
       "      <td>0</td>\n",
       "      <td>0</td>\n",
       "    </tr>\n",
       "    <tr>\n",
       "      <th>4</th>\n",
       "      <td>16</td>\n",
       "      <td>118</td>\n",
       "      <td>73</td>\n",
       "      <td>61.9%</td>\n",
       "      <td>917</td>\n",
       "      <td>12.6</td>\n",
       "      <td>6</td>\n",
       "      <td>49</td>\n",
       "      <td>36</td>\n",
       "      <td>7.8</td>\n",
       "      <td>4.6</td>\n",
       "      <td>57.3</td>\n",
       "      <td>0</td>\n",
       "      <td>0</td>\n",
       "      <td>1</td>\n",
       "    </tr>\n",
       "  </tbody>\n",
       "</table>\n",
       "</div>"
      ],
      "text/plain": [
       "   GS  Rec_Tgt  Rec_Rec Rec_Ctch%  Rec_Yds  Rec_Y/R  Rec_TD  Rec_1D  Rec_Lng  \\\n",
       "0   1        9        5     55.6%       40      8.0       0       3       17   \n",
       "1  16       49       29     59.2%      350     12.1       4      18       30   \n",
       "2   6       11        8     72.7%       78      9.8       2       6       24   \n",
       "3  14       52       38     73.1%      431     11.3       4      19       47   \n",
       "4  16      118       73     61.9%      917     12.6       6      49       36   \n",
       "\n",
       "   Rec_Y/Tgt  Rec_R/G  Rec_Y/G  Rec_Fmb  QBrec  probowl  \n",
       "0        4.4      0.3      2.5        0      0        0  \n",
       "1        7.1      1.8     21.9        1      0        0  \n",
       "2        7.1      0.5      5.2        0      0        0  \n",
       "3        8.3      2.4     26.9        2      0        0  \n",
       "4        7.8      4.6     57.3        0      0        1  "
      ]
     },
     "execution_count": 21,
     "metadata": {},
     "output_type": "execute_result"
    }
   ],
   "source": [
    "te_df_features2 = te_df.iloc[:,8:]\n",
    "te_df_features2 = te_df_features2.drop(['Player*','Year','PlayerYearTm*','Pos*'], axis=1)\n",
    "te_df_features2 = te_df_features2[te_df_features2.columns.drop(list(te_df.filter(regex='Pass')))]\n",
    "te_df_features2 = te_df_features2[te_df_features2.columns.drop(list(te_df.filter(regex='Rush')))]\n",
    "print(te_df_features2.columns)\n",
    "te_df_features2.head()"
   ]
  },
  {
   "cell_type": "code",
   "execution_count": 22,
   "id": "d01e648c-e7ea-4d8d-a7e5-ec11d1279435",
   "metadata": {},
   "outputs": [],
   "source": [
    "#Change all % columns to float, then classifier will run.\n",
    "te_df_features2['Rec_Ctch%'] = te_df_features2['Rec_Ctch%'].str.rstrip(\"%\").astype(float)/100"
   ]
  },
  {
   "cell_type": "code",
   "execution_count": 23,
   "id": "77104f0e-2e74-4ab6-952f-0d0c98c9de6a",
   "metadata": {},
   "outputs": [],
   "source": [
    "train2, test2 = train_test_split(te_df_features2, test_size=0.333, stratify=te_df_features2['probowl'])"
   ]
  },
  {
   "cell_type": "code",
   "execution_count": 24,
   "id": "244354d6-bf2c-40e0-86bf-167ba64b1153",
   "metadata": {},
   "outputs": [],
   "source": [
    "train_y2 = train2['probowl']\n",
    "train_x2=train2.drop(columns=['probowl'])\n",
    "test_y2=test2['probowl']\n",
    "test_x2=test2.drop(columns=['probowl'])"
   ]
  },
  {
   "cell_type": "code",
   "execution_count": 29,
   "id": "6c95c899-0f93-45d6-8ee0-89901c166254",
   "metadata": {},
   "outputs": [],
   "source": [
    "param_grid = {\n",
    "    'bootstrap': [True],\n",
    "    'max_depth': [100,110],\n",
    "    'max_features': [1,2],\n",
    "    'min_samples_leaf': [9,11,13],\n",
    "    'min_samples_split': [10,11,12],\n",
    "    'n_estimators': [100,110,120]\n",
    "}\n",
    "rf = RandomForestClassifier()\n",
    "grid_search2 = GridSearchCV(estimator = rf, param_grid = param_grid, \n",
    "                          cv = 5, n_jobs = -1, verbose = 2)"
   ]
  },
  {
   "cell_type": "code",
   "execution_count": 26,
   "id": "cc598001-eacc-4bbd-a44c-76dd978e4a2e",
   "metadata": {},
   "outputs": [
    {
     "name": "stdout",
     "output_type": "stream",
     "text": [
      "Fitting 5 folds for each of 1 candidates, totalling 5 fits\n"
     ]
    },
    {
     "data": {
      "text/plain": [
       "GridSearchCV(cv=5, estimator=RandomForestClassifier(), n_jobs=-1,\n",
       "             param_grid={'bootstrap': [True], 'max_depth': [110],\n",
       "                         'max_features': [1], 'min_samples_leaf': [9],\n",
       "                         'min_samples_split': [12], 'n_estimators': [120]},\n",
       "             verbose=2)"
      ]
     },
     "execution_count": 26,
     "metadata": {},
     "output_type": "execute_result"
    }
   ],
   "source": [
    "# Fit the grid search to the data\n",
    "grid_search2.fit(train_x2, train_y2)"
   ]
  },
  {
   "cell_type": "code",
   "execution_count": 27,
   "id": "37860966-ed8d-4e83-88e2-4e29fa31ad4d",
   "metadata": {},
   "outputs": [
    {
     "data": {
      "text/plain": [
       "{'bootstrap': True,\n",
       " 'max_depth': 110,\n",
       " 'max_features': 1,\n",
       " 'min_samples_leaf': 9,\n",
       " 'min_samples_split': 12,\n",
       " 'n_estimators': 120}"
      ]
     },
     "execution_count": 27,
     "metadata": {},
     "output_type": "execute_result"
    }
   ],
   "source": [
    "grid_search2.best_params_"
   ]
  },
  {
   "cell_type": "code",
   "execution_count": 28,
   "id": "8bfe2ed9-e5bf-401a-97fb-9bb557d10488",
   "metadata": {},
   "outputs": [
    {
     "name": "stdout",
     "output_type": "stream",
     "text": [
      "RandomForestClassifier(max_depth=110, max_features=1, min_samples_leaf=9,\n",
      "                       min_samples_split=12, n_estimators=120)\n"
     ]
    }
   ],
   "source": [
    "rf_mod2 = grid_search2.best_estimator_\n",
    "print(rf_mod2)\n",
    "rfc_pred2 = rf_mod2.predict(test_x2)"
   ]
  },
  {
   "cell_type": "code",
   "execution_count": 29,
   "id": "0e7b3547-6c23-4f20-9c68-b9c5ae0b194a",
   "metadata": {},
   "outputs": [
    {
     "name": "stdout",
     "output_type": "stream",
     "text": [
      "[[628   3]\n",
      " [ 19  19]]\n"
     ]
    }
   ],
   "source": [
    "print(confusion_matrix(test_y2,rfc_pred2))"
   ]
  },
  {
   "cell_type": "code",
   "execution_count": 30,
   "id": "721b5d31-e89f-4d36-9618-d4cac9f30d95",
   "metadata": {},
   "outputs": [
    {
     "name": "stdout",
     "output_type": "stream",
     "text": [
      "              precision    recall  f1-score   support\n",
      "\n",
      "           0       0.97      1.00      0.98       631\n",
      "           1       0.86      0.50      0.63        38\n",
      "\n",
      "    accuracy                           0.97       669\n",
      "   macro avg       0.92      0.75      0.81       669\n",
      "weighted avg       0.96      0.97      0.96       669\n",
      "\n"
     ]
    }
   ],
   "source": [
    "print(classification_report(test_y2, rfc_pred2))"
   ]
  },
  {
   "cell_type": "code",
   "execution_count": 31,
   "id": "2b70dafe-3e82-4e40-bae5-3e4b4d9be220",
   "metadata": {},
   "outputs": [],
   "source": [
    "rfc_prob2 = rf_mod2.predict_proba(test_x2)"
   ]
  },
  {
   "cell_type": "code",
   "execution_count": 32,
   "id": "4881b6b4-f1ac-4d61-acb8-357e3d1f1249",
   "metadata": {},
   "outputs": [
    {
     "data": {
      "text/plain": [
       "0.970139294353157"
      ]
     },
     "execution_count": 32,
     "metadata": {},
     "output_type": "execute_result"
    }
   ],
   "source": [
    "test_rfc_y2_2 = test_y2.to_numpy()\n",
    "roc_auc_score(test_rfc_y2_2, rfc_prob2[:,1])"
   ]
  },
  {
   "cell_type": "code",
   "execution_count": 33,
   "id": "7be14b1b-225e-42ea-a7d9-e4b24c8c9d02",
   "metadata": {},
   "outputs": [
    {
     "data": {
      "image/png": "[encoded data removed]",
      "text/plain": [
       "<Figure size 864x576 with 1 Axes>"
      ]
     },
     "metadata": {
      "needs_background": "light"
     },
     "output_type": "display_data"
    }
   ],
   "source": [
    "fpr_rfc_2, tpr_rfc_2, _ = roc_curve(test_rfc_y2_2, rfc_prob2[:,1])\n",
    "plt.plot(fpr_rfc_2,tpr_rfc_2, color ='red', lw=2, label=\"Only Receiving Variables\")\n",
    "plt.plot([0, 1], [0, 1], color='navy', lw=2, linestyle='--')\n",
    "plt.xlim([-.05, 1.0])\n",
    "plt.ylim([-.05, 1.05])\n",
    "plt.xlabel('False Positive Rate')\n",
    "plt.ylabel('True Positive Rate')\n",
    "plt.title('TE ROC Curve (Receiving Variables)')\n",
    "plt.legend(loc=\"lower right\")\n",
    "# plt.show()\n",
    "plt.savefig(os.path.join(path_parent, 'Figures\\TEs\\ROC_Receiving.jpg'), bbox_inches='tight')"
   ]
  },
  {
   "cell_type": "markdown",
   "id": "bc53b9b3-7780-46c3-acbd-4457518f021c",
   "metadata": {},
   "source": [
    "## Visualize feature importance for all variables"
   ]
  },
  {
   "cell_type": "code",
   "execution_count": 34,
   "id": "0ccf0eb9-681a-412b-8097-79fb5ca46afc",
   "metadata": {},
   "outputs": [
    {
     "name": "stdout",
     "output_type": "stream",
     "text": [
      "<class 'numpy.ndarray'>\n",
      "45\n"
     ]
    }
   ],
   "source": [
    "print(type(rf_mod1.feature_importances_))\n",
    "print(len(rf_mod1.feature_importances_))"
   ]
  },
  {
   "cell_type": "code",
   "execution_count": 35,
   "id": "631b790a-f3c3-457a-a65a-9d392f660062",
   "metadata": {},
   "outputs": [
    {
     "name": "stdout",
     "output_type": "stream",
     "text": [
      "46\n"
     ]
    },
    {
     "data": {
      "text/plain": [
       "array(['GS', 'Rush_Att', 'Rush_Yds', 'Rush_TD', 'Rush_1D', 'Rush_Lng',\n",
       "       'Rush_Y/A', 'Rush_Y/G', 'Rush_Fmb', 'Rec_Tgt', 'Rec_Rec',\n",
       "       'Rec_Ctch%', 'Rec_Yds', 'Rec_Y/R', 'Rec_TD', 'Rec_1D', 'Rec_Lng',\n",
       "       'Rec_Y/Tgt', 'Rec_R/G', 'Rec_Y/G', 'Rec_Fmb', 'Pass_Cmp',\n",
       "       'Pass_Att', 'Pass_Cmp%', 'Pass_Yds', 'Pass_TD', 'Pass_TD%',\n",
       "       'Pass_Int', 'Pass_Int%', 'Pass_1D', 'Pass_Lng', 'Pass_Y/A',\n",
       "       'Pass_AY/A', 'Pass_Y/C', 'Pass_Y/G', 'Pass_Rate', 'Pass_QBR',\n",
       "       'Pass_Sk', 'Pass_Yds.1', 'Pass_Sk%', 'Pass_NY/A', 'Pass_ANY/A',\n",
       "       'Pass_4QC', 'Pass_GWD', 'QBrec', 'probowl'], dtype='<U10')"
      ]
     },
     "execution_count": 35,
     "metadata": {},
     "output_type": "execute_result"
    }
   ],
   "source": [
    "feat = te_df_features.columns.to_list()\n",
    "arr = np.array(feat)\n",
    "print(len(arr))\n",
    "arr"
   ]
  },
  {
   "cell_type": "code",
   "execution_count": 36,
   "id": "20b538bb-4488-4529-a17c-b0df1aeae298",
   "metadata": {},
   "outputs": [
    {
     "name": "stdout",
     "output_type": "stream",
     "text": [
      "45\n"
     ]
    }
   ],
   "source": [
    "#Drop probowl column \n",
    "arr = arr[0:45]\n",
    "print(len(arr))"
   ]
  },
  {
   "cell_type": "code",
   "execution_count": 37,
   "id": "8d22a1be-6bd1-4e21-a8a5-cb3f68b6d2c9",
   "metadata": {},
   "outputs": [
    {
     "data": {
      "image/png": "[encoded data removed]",
      "text/plain": [
       "<Figure size 864x576 with 1 Axes>"
      ]
     },
     "metadata": {
      "needs_background": "light"
     },
     "output_type": "display_data"
    }
   ],
   "source": [
    "sorted_idx = rf_mod1.feature_importances_.argsort()\n",
    "plt.barh(arr[sorted_idx], rf_mod1.feature_importances_[sorted_idx])\n",
    "plt.title('TE Feature Importance (All Variables)')\n",
    "\n",
    "plt.savefig(os.path.join(path_parent, 'Figures\\TEs\\Importance_All.jpg'), bbox_inches='tight')"
   ]
  },
  {
   "cell_type": "markdown",
   "id": "a0739842-3813-4cb3-a107-1c1f764d38a2",
   "metadata": {},
   "source": [
    "## Visualize feature importance for only receiving variables"
   ]
  },
  {
   "cell_type": "code",
   "execution_count": 38,
   "id": "80247c88-31da-44c3-8fa2-db30ab1adca9",
   "metadata": {},
   "outputs": [
    {
     "name": "stdout",
     "output_type": "stream",
     "text": [
      "<class 'numpy.ndarray'>\n",
      "14\n"
     ]
    },
    {
     "data": {
      "text/plain": [
       "array([0.06863683, 0.10289543, 0.12172153, 0.02258127, 0.09017984,\n",
       "       0.03029164, 0.10633823, 0.10059919, 0.0268201 , 0.02152146,\n",
       "       0.14062136, 0.15544907, 0.01234404, 0.        ])"
      ]
     },
     "execution_count": 38,
     "metadata": {},
     "output_type": "execute_result"
    }
   ],
   "source": [
    "print(type(rf_mod2.feature_importances_))\n",
    "print(len(rf_mod2.feature_importances_))\n",
    "rf_mod2.feature_importances_"
   ]
  },
  {
   "cell_type": "code",
   "execution_count": 39,
   "id": "d95bea5c-3949-4fad-ba7e-9324954b1ebc",
   "metadata": {},
   "outputs": [],
   "source": [
    "feat = te_df_features2.columns.to_list()\n",
    "arr2 = np.array(feat)"
   ]
  },
  {
   "cell_type": "code",
   "execution_count": 40,
   "id": "2432aead-97f1-4ebd-bb66-b970969ba66e",
   "metadata": {},
   "outputs": [
    {
     "data": {
      "text/plain": [
       "array(['GS', 'Rush_Att', 'Rush_Yds', 'Rush_TD', 'Rush_1D', 'Rush_Lng',\n",
       "       'Rush_Y/A', 'Rush_Y/G', 'Rush_Fmb', 'Rec_Tgt', 'Rec_Rec',\n",
       "       'Rec_Ctch%', 'Rec_Yds', 'Rec_Y/R', 'Rec_TD', 'Rec_1D', 'Rec_Lng',\n",
       "       'Rec_Y/Tgt', 'Rec_R/G', 'Rec_Y/G', 'Rec_Fmb', 'Pass_Cmp',\n",
       "       'Pass_Att', 'Pass_Cmp%', 'Pass_Yds', 'Pass_TD', 'Pass_TD%',\n",
       "       'Pass_Int', 'Pass_Int%', 'Pass_1D', 'Pass_Lng', 'Pass_Y/A',\n",
       "       'Pass_AY/A', 'Pass_Y/C', 'Pass_Y/G', 'Pass_Rate', 'Pass_QBR',\n",
       "       'Pass_Sk', 'Pass_Yds.1', 'Pass_Sk%', 'Pass_NY/A', 'Pass_ANY/A',\n",
       "       'Pass_4QC', 'Pass_GWD', 'QBrec'], dtype='<U10')"
      ]
     },
     "execution_count": 40,
     "metadata": {},
     "output_type": "execute_result"
    }
   ],
   "source": [
    "arr"
   ]
  },
  {
   "cell_type": "code",
   "execution_count": 41,
   "id": "4582d5c7-3997-4e9b-833b-69fa5419136b",
   "metadata": {},
   "outputs": [
    {
     "name": "stdout",
     "output_type": "stream",
     "text": [
      "14\n"
     ]
    }
   ],
   "source": [
    "#Drop probowl column\n",
    "arr2=arr2[0:14]\n",
    "print(len(arr2))"
   ]
  },
  {
   "cell_type": "markdown",
   "id": "66854005-8a73-4f7b-8b0f-3d79b5b47e5d",
   "metadata": {},
   "source": [
    "Sort the feature importance"
   ]
  },
  {
   "cell_type": "code",
   "execution_count": 42,
   "id": "284b36c4-edbe-4f8f-95ee-99779f4b3b35",
   "metadata": {},
   "outputs": [
    {
     "data": {
      "image/png": "[encoded data removed]",
      "text/plain": [
       "<Figure size 864x576 with 1 Axes>"
      ]
     },
     "metadata": {
      "needs_background": "light"
     },
     "output_type": "display_data"
    }
   ],
   "source": [
    "sorted_idx = rf_mod2.feature_importances_.argsort()\n",
    "plt.barh(arr2[sorted_idx], rf_mod2.feature_importances_[sorted_idx])\n",
    "plt.title('TE Feature Importance (Receiving Variables)')\n",
    "\n",
    "plt.savefig(os.path.join(path_parent, 'Figures\\TEs\\Importance_Receiving.jpg'), bbox_inches='tight')"
   ]
  },
  {
   "cell_type": "markdown",
   "id": "b0144874-242c-4411-a6b9-479c7ce5c1a4",
   "metadata": {},
   "source": [
    "## RF Model with only the top 8 variables [3]"
   ]
  },
  {
   "cell_type": "code",
   "execution_count": 43,
   "id": "923ef285-7fe0-43ac-8433-743d266e8772",
   "metadata": {},
   "outputs": [
    {
     "data": {
      "text/html": [
       "<div>\n",
       "<style scoped>\n",
       "    .dataframe tbody tr th:only-of-type {\n",
       "        vertical-align: middle;\n",
       "    }\n",
       "\n",
       "    .dataframe tbody tr th {\n",
       "        vertical-align: top;\n",
       "    }\n",
       "\n",
       "    .dataframe thead th {\n",
       "        text-align: right;\n",
       "    }\n",
       "</style>\n",
       "<table border=\"1\" class=\"dataframe\">\n",
       "  <thead>\n",
       "    <tr style=\"text-align: right;\">\n",
       "      <th></th>\n",
       "      <th>Rec_Yds</th>\n",
       "      <th>Rec_Y/G</th>\n",
       "      <th>Rec_1D</th>\n",
       "      <th>Rec_Rec</th>\n",
       "      <th>Rec_Tgt</th>\n",
       "      <th>Rec_R/G</th>\n",
       "      <th>Rec_TD</th>\n",
       "      <th>GS</th>\n",
       "      <th>probowl</th>\n",
       "    </tr>\n",
       "  </thead>\n",
       "  <tbody>\n",
       "    <tr>\n",
       "      <th>0</th>\n",
       "      <td>40</td>\n",
       "      <td>2.5</td>\n",
       "      <td>3</td>\n",
       "      <td>5</td>\n",
       "      <td>9</td>\n",
       "      <td>0.3</td>\n",
       "      <td>0</td>\n",
       "      <td>1</td>\n",
       "      <td>0</td>\n",
       "    </tr>\n",
       "    <tr>\n",
       "      <th>1</th>\n",
       "      <td>350</td>\n",
       "      <td>21.9</td>\n",
       "      <td>18</td>\n",
       "      <td>29</td>\n",
       "      <td>49</td>\n",
       "      <td>1.8</td>\n",
       "      <td>4</td>\n",
       "      <td>16</td>\n",
       "      <td>0</td>\n",
       "    </tr>\n",
       "    <tr>\n",
       "      <th>2</th>\n",
       "      <td>78</td>\n",
       "      <td>5.2</td>\n",
       "      <td>6</td>\n",
       "      <td>8</td>\n",
       "      <td>11</td>\n",
       "      <td>0.5</td>\n",
       "      <td>2</td>\n",
       "      <td>6</td>\n",
       "      <td>0</td>\n",
       "    </tr>\n",
       "    <tr>\n",
       "      <th>3</th>\n",
       "      <td>431</td>\n",
       "      <td>26.9</td>\n",
       "      <td>19</td>\n",
       "      <td>38</td>\n",
       "      <td>52</td>\n",
       "      <td>2.4</td>\n",
       "      <td>4</td>\n",
       "      <td>14</td>\n",
       "      <td>0</td>\n",
       "    </tr>\n",
       "    <tr>\n",
       "      <th>4</th>\n",
       "      <td>917</td>\n",
       "      <td>57.3</td>\n",
       "      <td>49</td>\n",
       "      <td>73</td>\n",
       "      <td>118</td>\n",
       "      <td>4.6</td>\n",
       "      <td>6</td>\n",
       "      <td>16</td>\n",
       "      <td>1</td>\n",
       "    </tr>\n",
       "  </tbody>\n",
       "</table>\n",
       "</div>"
      ],
      "text/plain": [
       "   Rec_Yds  Rec_Y/G  Rec_1D  Rec_Rec  Rec_Tgt  Rec_R/G  Rec_TD  GS  probowl\n",
       "0       40      2.5       3        5        9      0.3       0   1        0\n",
       "1      350     21.9      18       29       49      1.8       4  16        0\n",
       "2       78      5.2       6        8       11      0.5       2   6        0\n",
       "3      431     26.9      19       38       52      2.4       4  14        0\n",
       "4      917     57.3      49       73      118      4.6       6  16        1"
      ]
     },
     "execution_count": 43,
     "metadata": {},
     "output_type": "execute_result"
    }
   ],
   "source": [
    "top_te_features = te_df[['Rec_Yds','Rec_Y/G','Rec_1D','Rec_Rec','Rec_Tgt','Rec_R/G','Rec_TD','GS','probowl']]\n",
    "top_te_features.head()"
   ]
  },
  {
   "cell_type": "code",
   "execution_count": 44,
   "id": "f640516a-0a8d-4ab8-84d4-6370bbf5e763",
   "metadata": {},
   "outputs": [],
   "source": [
    "train3, test3 = train_test_split(top_te_features, test_size=0.333, stratify=top_te_features['probowl'])\n",
    "train_y3 = train3['probowl']\n",
    "train_x3=train3.drop(columns=['probowl'])\n",
    "test_y3=test3['probowl']\n",
    "test_x3=test3.drop(columns=['probowl'])"
   ]
  },
  {
   "cell_type": "code",
   "execution_count": null,
   "id": "09da2dbf-6c7f-44a8-a02f-bde8434f894d",
   "metadata": {},
   "outputs": [],
   "source": [
    "param_grid = {\n",
    "    'bootstrap': [True],\n",
    "    'max_depth': [100,110,130],\n",
    "    'max_features': [2,3,4],\n",
    "    'min_samples_leaf': [9,11,13],\n",
    "    'min_samples_split': [10,11,12],\n",
    "    'n_estimators': [100,110,120]\n",
    "}\n",
    "rf = RandomForestClassifier()\n",
    "grid_search3 = GridSearchCV(estimator = rf, param_grid = param_grid, \n",
    "                          cv = 5, n_jobs = -1, verbose = 2)"
   ]
  },
  {
   "cell_type": "code",
   "execution_count": 47,
   "id": "44c89d0d-ed8f-4e7b-b02d-a72e55722416",
   "metadata": {},
   "outputs": [
    {
     "name": "stdout",
     "output_type": "stream",
     "text": [
      "Fitting 5 folds for each of 1 candidates, totalling 5 fits\n"
     ]
    },
    {
     "data": {
      "text/plain": [
       "GridSearchCV(cv=5, estimator=RandomForestClassifier(), n_jobs=-1,\n",
       "             param_grid={'bootstrap': [True], 'max_depth': [130],\n",
       "                         'max_features': [3], 'min_samples_leaf': [9],\n",
       "                         'min_samples_split': [11], 'n_estimators': [100]},\n",
       "             verbose=2)"
      ]
     },
     "execution_count": 47,
     "metadata": {},
     "output_type": "execute_result"
    }
   ],
   "source": [
    "# Fit the grid search to the data\n",
    "grid_search3.fit(train_x3, train_y3)"
   ]
  },
  {
   "cell_type": "code",
   "execution_count": 48,
   "id": "bf6630be-fe25-440d-9e1b-7f7d0e549786",
   "metadata": {},
   "outputs": [
    {
     "data": {
      "text/plain": [
       "{'bootstrap': True,\n",
       " 'max_depth': 130,\n",
       " 'max_features': 3,\n",
       " 'min_samples_leaf': 9,\n",
       " 'min_samples_split': 11,\n",
       " 'n_estimators': 100}"
      ]
     },
     "execution_count": 48,
     "metadata": {},
     "output_type": "execute_result"
    }
   ],
   "source": [
    "grid_search3.best_params_"
   ]
  },
  {
   "cell_type": "code",
   "execution_count": 49,
   "id": "80e9568f-8df0-4c24-9ac6-f04eee4016ee",
   "metadata": {},
   "outputs": [
    {
     "name": "stdout",
     "output_type": "stream",
     "text": [
      "RandomForestClassifier(max_depth=130, max_features=3, min_samples_leaf=9,\n",
      "                       min_samples_split=11)\n"
     ]
    }
   ],
   "source": [
    "rf_mod3 = grid_search3.best_estimator_\n",
    "print(rf_mod3)\n",
    "rfc_pred3 = rf_mod3.predict(test_x3)"
   ]
  },
  {
   "cell_type": "code",
   "execution_count": 50,
   "id": "2e59c1a3-a25b-4148-9c35-aa8de4f7e057",
   "metadata": {},
   "outputs": [
    {
     "name": "stdout",
     "output_type": "stream",
     "text": [
      "[[620  11]\n",
      " [ 16  22]]\n"
     ]
    }
   ],
   "source": [
    "print(confusion_matrix(test_y3,rfc_pred3))"
   ]
  },
  {
   "cell_type": "code",
   "execution_count": 51,
   "id": "5c1ab6f6-5a75-44b8-b331-5a677889497b",
   "metadata": {},
   "outputs": [
    {
     "name": "stdout",
     "output_type": "stream",
     "text": [
      "              precision    recall  f1-score   support\n",
      "\n",
      "           0       0.97      0.98      0.98       631\n",
      "           1       0.67      0.58      0.62        38\n",
      "\n",
      "    accuracy                           0.96       669\n",
      "   macro avg       0.82      0.78      0.80       669\n",
      "weighted avg       0.96      0.96      0.96       669\n",
      "\n"
     ]
    }
   ],
   "source": [
    "print(classification_report(test_y3, rfc_pred3))"
   ]
  },
  {
   "cell_type": "code",
   "execution_count": 52,
   "id": "46d52761-d573-48c7-9420-33b0b4fa971c",
   "metadata": {},
   "outputs": [],
   "source": [
    "rfc_prob3 = rf_mod3.predict_proba(test_x3)"
   ]
  },
  {
   "cell_type": "code",
   "execution_count": 53,
   "id": "33aa2856-ae78-47c6-88c7-71f7d9320224",
   "metadata": {},
   "outputs": [
    {
     "data": {
      "text/plain": [
       "0.971265326549337"
      ]
     },
     "execution_count": 53,
     "metadata": {},
     "output_type": "execute_result"
    }
   ],
   "source": [
    "test_rfc_y3_2 = test_y3.to_numpy()\n",
    "roc_auc_score(test_rfc_y3_2, rfc_prob3[:,1])"
   ]
  },
  {
   "cell_type": "code",
   "execution_count": 55,
   "id": "a25a6d79-8cc2-4230-a50e-bce8bcc9675e",
   "metadata": {},
   "outputs": [
    {
     "data": {
      "image/png": "[encoded data removed]",
      "text/plain": [
       "<Figure size 864x576 with 1 Axes>"
      ]
     },
     "metadata": {
      "needs_background": "light"
     },
     "output_type": "display_data"
    }
   ],
   "source": [
    "fpr_rfc_3, tpr_rfc_3, _ = roc_curve(test_rfc_y3_2, rfc_prob3[:,1])\n",
    "plt.plot(fpr_rfc_3,tpr_rfc_3, color ='red', lw=2, label=\"Top Tight End Variables\")\n",
    "plt.plot([0, 1], [0, 1], color='navy', lw=2, linestyle='--')\n",
    "plt.xlim([-.05, 1.0])\n",
    "plt.ylim([-.05, 1.05])\n",
    "plt.xlabel('False Positive Rate')\n",
    "plt.ylabel('True Positive Rate')\n",
    "plt.title('ROC Curve')\n",
    "plt.legend(loc=\"lower right\")\n",
    "# plt.show()\n",
    "plt.savefig(os.path.join(path_parent, 'Figures\\TEs\\ROC_Top8_Receiving.jpg'), bbox_inches='tight')"
   ]
  },
  {
   "cell_type": "code",
   "execution_count": 57,
   "id": "0de02734-3a25-4762-8804-ea096547dc40",
   "metadata": {},
   "outputs": [
    {
     "data": {
      "image/png": "[encoded data removed]",
      "text/plain": [
       "<Figure size 864x576 with 1 Axes>"
      ]
     },
     "metadata": {
      "needs_background": "light"
     },
     "output_type": "display_data"
    }
   ],
   "source": [
    "plt.plot(fpr_rfc_1,tpr_rfc_1, color ='blue', lw=2, label=\"All Variables\")\n",
    "plt.plot(fpr_rfc_2,tpr_rfc_2, color ='red', lw=2, label=\"All Receiving Variables\")\n",
    "plt.plot(fpr_rfc_3,tpr_rfc_3, color ='green', lw=2, label=\"Top 8 Tight End Variables\")\n",
    "plt.plot([0, 1], [0, 1], color='navy', lw=2, linestyle='--')\n",
    "plt.xlim([-.05, 1.0])\n",
    "plt.ylim([-.05, 1.05])\n",
    "plt.xlabel('False Positive Rate')\n",
    "plt.ylabel('True Positive Rate')\n",
    "plt.title('Tight End Feature Space Comparison')\n",
    "plt.legend(loc=\"lower right\")\n",
    "# plt.show()\n",
    "plt.savefig(os.path.join(path_parent, 'Figures\\TEs\\TE_ROC_Comparison.jpg'), bbox_inches='tight')"
   ]
  },
  {
   "cell_type": "code",
   "execution_count": 58,
   "id": "cd25dce5-8f29-4f5b-8a57-9583f47e95ba",
   "metadata": {},
   "outputs": [
    {
     "name": "stdout",
     "output_type": "stream",
     "text": [
      "ALL VARIABLES: \n",
      "\n",
      "Confusion Matrix:\n",
      "[[625   6]\n",
      " [ 13  25]]\n",
      "\n",
      " Classification Report: \n",
      "              precision    recall  f1-score   support\n",
      "\n",
      "           0       0.98      0.99      0.99       631\n",
      "           1       0.81      0.66      0.72        38\n",
      "\n",
      "    accuracy                           0.97       669\n",
      "   macro avg       0.89      0.82      0.85       669\n",
      "weighted avg       0.97      0.97      0.97       669\n",
      "\n",
      "\n",
      "\n",
      " ONLY RECEIVING VARIABLES: \n",
      "\n",
      "Confusion Matrix:\n",
      "[[628   3]\n",
      " [ 19  19]]\n",
      "\n",
      " Classification Report: \n",
      "              precision    recall  f1-score   support\n",
      "\n",
      "           0       0.97      1.00      0.98       631\n",
      "           1       0.86      0.50      0.63        38\n",
      "\n",
      "    accuracy                           0.97       669\n",
      "   macro avg       0.92      0.75      0.81       669\n",
      "weighted avg       0.96      0.97      0.96       669\n",
      "\n",
      "\n",
      "\n",
      " TOP 6 RECEIVING VARIABLES: \n",
      "\n",
      "Confusion Matrix:\n",
      "[[620  11]\n",
      " [ 16  22]]\n",
      "\n",
      " Classification Report: \n",
      "              precision    recall  f1-score   support\n",
      "\n",
      "           0       0.97      0.98      0.98       631\n",
      "           1       0.67      0.58      0.62        38\n",
      "\n",
      "    accuracy                           0.96       669\n",
      "   macro avg       0.82      0.78      0.80       669\n",
      "weighted avg       0.96      0.96      0.96       669\n",
      "\n"
     ]
    }
   ],
   "source": [
    "print('ALL VARIABLES: \\n')\n",
    "print(\"Confusion Matrix:\")\n",
    "print(confusion_matrix(test_y1,rfc_pred1))\n",
    "print(\"\\n Classification Report: \")\n",
    "print(classification_report(test_y1, rfc_pred1))"
   ]
  },
  {
   "cell_type": "code",
   "execution_count": 59,
   "id": "c44f2e6d-301c-41ca-bb08-addbba54716e",
   "metadata": {},
   "outputs": [
    {
     "name": "stdout",
     "output_type": "stream",
     "text": [
      "ONLY RECEIVING VARIABLES: \n",
      "\n",
      "Confusion Matrix:\n",
      "[[628   3]\n",
      " [ 19  19]]\n",
      "\n",
      " Classification Report: \n",
      "              precision    recall  f1-score   support\n",
      "\n",
      "           0       0.97      1.00      0.98       631\n",
      "           1       0.86      0.50      0.63        38\n",
      "\n",
      "    accuracy                           0.97       669\n",
      "   macro avg       0.92      0.75      0.81       669\n",
      "weighted avg       0.96      0.97      0.96       669\n",
      "\n"
     ]
    }
   ],
   "source": [
    "print('ONLY RECEIVING VARIABLES: \\n')\n",
    "print(\"Confusion Matrix:\")\n",
    "print(confusion_matrix(test_y2,rfc_pred2))\n",
    "print(\"\\n Classification Report: \")\n",
    "print(classification_report(test_y2, rfc_pred2))"
   ]
  },
  {
   "cell_type": "code",
   "execution_count": 61,
   "id": "7c074900-08c5-4898-8b59-cb5e73583da3",
   "metadata": {},
   "outputs": [
    {
     "name": "stdout",
     "output_type": "stream",
     "text": [
      "TOP 6 RECEIVING VARIABLES: \n",
      "\n",
      "Confusion Matrix:\n",
      "[[625   6]\n",
      " [ 18  20]]\n",
      "\n",
      " Classification Report: \n",
      "              precision    recall  f1-score   support\n",
      "\n",
      "           0       0.97      0.99      0.98       631\n",
      "           1       0.77      0.53      0.62        38\n",
      "\n",
      "    accuracy                           0.96       669\n",
      "   macro avg       0.87      0.76      0.80       669\n",
      "weighted avg       0.96      0.96      0.96       669\n",
      "\n"
     ]
    }
   ],
   "source": [
    "print('TOP 8 RECEIVING VARIABLES: \\n')\n",
    "print(\"Confusion Matrix:\")\n",
    "print(confusion_matrix(test_y3,rfc_pred3))\n",
    "print(\"\\n Classification Report: \")\n",
    "print(classification_report(test_y3, rfc_pred3))"
   ]
  },
  {
   "cell_type": "markdown",
   "id": "53966d13-4ef8-4e97-99e9-a74ea237e554",
   "metadata": {},
   "source": [
    "**All 3 random forest models result in an F1-Score >= 0.98 for identifying non-Pro-Bowl players**\n",
    "\n",
    "Using only receiving variables results in the highest F1-Score for identifying Pro-Bowl Tight Ends (0.73).\n",
    "\n",
    "Using all 46 variables results in the next highest F1-Score for identifying Pro-Bowl Tight Ends (0.62).\n",
    "\n",
    "The lowest Pro-Bowl F1-score (0.56) is the model that only used the 8 most important Tight End features."
   ]
  },
  {
   "cell_type": "code",
   "execution_count": null,
   "id": "b4bb37bc-57be-42d5-9455-c133a4481c67",
   "metadata": {},
   "outputs": [],
   "source": []
  },
  {
   "cell_type": "code",
   "execution_count": null,
   "id": "52300ae2-0b90-4686-81a3-519226a47085",
   "metadata": {},
   "outputs": [],
   "source": []
  }
 ],
 "metadata": {
  "kernelspec": {
   "display_name": "Python 3",
   "language": "python",
   "name": "python3"
  },
  "language_info": {
   "codemirror_mode": {
    "name": "ipython",
    "version": 3
   },
   "file_extension": ".py",
   "mimetype": "text/x-python",
   "name": "python",
   "nbconvert_exporter": "python",
   "pygments_lexer": "ipython3",
   "version": "3.8.8"
  }
 },
 "nbformat": 4,
 "nbformat_minor": 5
}
