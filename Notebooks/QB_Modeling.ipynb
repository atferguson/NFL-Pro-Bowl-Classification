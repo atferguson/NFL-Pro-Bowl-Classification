{
 "cells": [
  {
   "cell_type": "code",
   "execution_count": 131,
   "id": "7fbcf55a-91f6-4e02-819f-76d23f41a56a",
   "metadata": {},
   "outputs": [],
   "source": [
    "import pandas as pd\n",
    "import numpy as np\n",
    "import matplotlib.pyplot as plt\n",
    "import seaborn as sns\n",
    "import os\n",
    "%matplotlib inline\n",
    "\n",
    "from sklearn.tree import DecisionTreeClassifier\n",
    "from sklearn.ensemble import RandomForestClassifier\n",
    "from sklearn.neighbors import KNeighborsClassifier\n",
    "from sklearn.svm import SVC\n",
    "from sklearn.model_selection import GridSearchCV\n",
    "from sklearn.metrics import confusion_matrix\n",
    "from sklearn.metrics import classification_report\n",
    "from sklearn.metrics import roc_curve\n",
    "from sklearn.metrics import roc_auc_score\n",
    "from sklearn.preprocessing import StandardScaler\n",
    "from sklearn.model_selection import train_test_split\n",
    "\n",
    "plt.rcParams.update({'figure.figsize': (12.0, 8.0)})\n",
    "plt.rcParams.update({'font.size': 14})"
   ]
  },
  {
   "cell_type": "code",
   "execution_count": 132,
   "id": "95b824dd-096b-4c2e-9ce1-e43ae979c7e1",
   "metadata": {},
   "outputs": [
    {
     "name": "stdout",
     "output_type": "stream",
     "text": [
      "C:\\Users\\andre\\OneDrive\\Desktop\\USC\\DSCI550\\Project\n"
     ]
    }
   ],
   "source": [
    "dirname=os.getcwd()\n",
    "path_parent = os.path.dirname(os.getcwd())\n",
    "print(path_parent)"
   ]
  },
  {
   "cell_type": "code",
   "execution_count": 133,
   "id": "46c35eb8-de35-4c0d-af2d-b9f6e29b4dfe",
   "metadata": {},
   "outputs": [],
   "source": [
    "qb_df = pd.read_csv(os.path.join(path_parent, \"Data\\\\Clean_Data\\\\qbs.csv\"))"
   ]
  },
  {
   "cell_type": "code",
   "execution_count": 134,
   "id": "94b4f8fc-945c-4716-8ea6-4e3100240b1f",
   "metadata": {},
   "outputs": [],
   "source": [
    "qb_df['probowl']=0"
   ]
  },
  {
   "cell_type": "code",
   "execution_count": 135,
   "id": "4edce0b2-bd11-46b9-b2b7-6ae01ae0626b",
   "metadata": {},
   "outputs": [],
   "source": [
    "for index, row in qb_df.iterrows():\n",
    "    if \"*\" in row['Player']:\n",
    "        row['probowl'] = 1\n",
    "        qb_df.loc[index, 'probowl'] = 1"
   ]
  },
  {
   "cell_type": "markdown",
   "id": "e9ef22ea-aaab-4c96-8b89-47c9eba7ade5",
   "metadata": {},
   "source": [
    "## Quarterback Random Forest (All Variables) [1]"
   ]
  },
  {
   "cell_type": "code",
   "execution_count": 136,
   "id": "4705325a-eac8-4e48-a464-9372da4cba1b",
   "metadata": {},
   "outputs": [],
   "source": [
    "qb_df_features = qb_df.iloc[:,8:]\n",
    "qb_df_features = qb_df_features.drop(['Player*','Year','PlayerYearTm*','Pos*'], axis=1)"
   ]
  },
  {
   "cell_type": "code",
   "execution_count": 137,
   "id": "89af062f-98cf-40ee-8bef-ecedd3c7481f",
   "metadata": {},
   "outputs": [
    {
     "data": {
      "text/html": [
       "<div>\n",
       "<style scoped>\n",
       "    .dataframe tbody tr th:only-of-type {\n",
       "        vertical-align: middle;\n",
       "    }\n",
       "\n",
       "    .dataframe tbody tr th {\n",
       "        vertical-align: top;\n",
       "    }\n",
       "\n",
       "    .dataframe thead th {\n",
       "        text-align: right;\n",
       "    }\n",
       "</style>\n",
       "<table border=\"1\" class=\"dataframe\">\n",
       "  <thead>\n",
       "    <tr style=\"text-align: right;\">\n",
       "      <th></th>\n",
       "      <th>QBrec</th>\n",
       "      <th>Rec_Ctch%</th>\n",
       "    </tr>\n",
       "  </thead>\n",
       "  <tbody>\n",
       "    <tr>\n",
       "      <th>1472</th>\n",
       "      <td>1-1-0</td>\n",
       "      <td>0</td>\n",
       "    </tr>\n",
       "    <tr>\n",
       "      <th>1403</th>\n",
       "      <td>1-0-0</td>\n",
       "      <td>0</td>\n",
       "    </tr>\n",
       "    <tr>\n",
       "      <th>1414</th>\n",
       "      <td>1-0-0</td>\n",
       "      <td>0</td>\n",
       "    </tr>\n",
       "    <tr>\n",
       "      <th>1419</th>\n",
       "      <td>1-0-0</td>\n",
       "      <td>0</td>\n",
       "    </tr>\n",
       "    <tr>\n",
       "      <th>1426</th>\n",
       "      <td>1-0-0</td>\n",
       "      <td>0</td>\n",
       "    </tr>\n",
       "  </tbody>\n",
       "</table>\n",
       "</div>"
      ],
      "text/plain": [
       "      QBrec Rec_Ctch%\n",
       "1472  1-1-0         0\n",
       "1403  1-0-0         0\n",
       "1414  1-0-0         0\n",
       "1419  1-0-0         0\n",
       "1426  1-0-0         0"
      ]
     },
     "execution_count": 137,
     "metadata": {},
     "output_type": "execute_result"
    }
   ],
   "source": [
    "check = qb_df_features[['QBrec','Rec_Ctch%']]\n",
    "check.sort_values(by=['QBrec','Rec_Ctch%'], ascending=False).head()"
   ]
  },
  {
   "cell_type": "code",
   "execution_count": 138,
   "id": "71bb1808-701d-4bb2-a4fe-0ab3714f032f",
   "metadata": {},
   "outputs": [
    {
     "data": {
      "text/plain": [
       "GS              int64\n",
       "Rush_Att        int64\n",
       "Rush_Yds        int64\n",
       "Rush_TD         int64\n",
       "Rush_1D         int64\n",
       "Rush_Lng        int64\n",
       "Rush_Y/A      float64\n",
       "Rush_Y/G      float64\n",
       "Rush_Fmb        int64\n",
       "Rec_Tgt         int64\n",
       "Rec_Rec         int64\n",
       "Rec_Ctch%      object\n",
       "Rec_Yds         int64\n",
       "Rec_Y/R       float64\n",
       "Rec_TD          int64\n",
       "Rec_1D          int64\n",
       "Rec_Lng         int64\n",
       "Rec_Y/Tgt     float64\n",
       "Rec_R/G       float64\n",
       "Rec_Y/G       float64\n",
       "Rec_Fmb         int64\n",
       "Pass_Cmp        int64\n",
       "Pass_Att        int64\n",
       "Pass_Cmp%     float64\n",
       "Pass_Yds        int64\n",
       "Pass_TD         int64\n",
       "Pass_TD%      float64\n",
       "Pass_Int        int64\n",
       "Pass_Int%     float64\n",
       "Pass_1D         int64\n",
       "Pass_Lng        int64\n",
       "Pass_Y/A      float64\n",
       "Pass_AY/A     float64\n",
       "Pass_Y/C      float64\n",
       "Pass_Y/G      float64\n",
       "Pass_Rate     float64\n",
       "Pass_QBR      float64\n",
       "Pass_Sk         int64\n",
       "Pass_Yds.1      int64\n",
       "Pass_Sk%      float64\n",
       "Pass_NY/A     float64\n",
       "Pass_ANY/A    float64\n",
       "Pass_4QC        int64\n",
       "Pass_GWD        int64\n",
       "QBrec          object\n",
       "probowl         int64\n",
       "dtype: object"
      ]
     },
     "execution_count": 138,
     "metadata": {},
     "output_type": "execute_result"
    }
   ],
   "source": [
    "qb_df_features.dtypes"
   ]
  },
  {
   "cell_type": "code",
   "execution_count": 139,
   "id": "f097d7c8-3bb7-4d2d-a86f-2180725b0e40",
   "metadata": {},
   "outputs": [
    {
     "data": {
      "text/plain": [
       "Index(['GS', 'Rush_Att', 'Rush_Yds', 'Rush_TD', 'Rush_1D', 'Rush_Lng',\n",
       "       'Rush_Y/A', 'Rush_Y/G', 'Rush_Fmb', 'Rec_Tgt', 'Rec_Rec', 'Rec_Ctch%',\n",
       "       'Rec_Yds', 'Rec_Y/R', 'Rec_TD', 'Rec_1D', 'Rec_Lng', 'Rec_Y/Tgt',\n",
       "       'Rec_R/G', 'Rec_Y/G', 'Rec_Fmb', 'Pass_Cmp', 'Pass_Att', 'Pass_Cmp%',\n",
       "       'Pass_Yds', 'Pass_TD', 'Pass_TD%', 'Pass_Int', 'Pass_Int%', 'Pass_1D',\n",
       "       'Pass_Lng', 'Pass_Y/A', 'Pass_AY/A', 'Pass_Y/C', 'Pass_Y/G',\n",
       "       'Pass_Rate', 'Pass_QBR', 'Pass_Sk', 'Pass_Yds.1', 'Pass_Sk%',\n",
       "       'Pass_NY/A', 'Pass_ANY/A', 'Pass_4QC', 'Pass_GWD', 'probowl'],\n",
       "      dtype='object')"
      ]
     },
     "execution_count": 139,
     "metadata": {},
     "output_type": "execute_result"
    }
   ],
   "source": [
    "#Drop QBrec column from qb_df_features\n",
    "qb_df_features.drop(columns=['QBrec'], inplace=True)\n",
    "qb_df_features.columns"
   ]
  },
  {
   "cell_type": "code",
   "execution_count": 140,
   "id": "1cc6176c-5cb6-49b0-b02f-a649eb51b723",
   "metadata": {},
   "outputs": [],
   "source": [
    "#Change all 'object' columns to float, then classifier will run.\n",
    "qb_df_features['Rec_Ctch%'] = qb_df_features['Rec_Ctch%'].str.rstrip(\"%\").astype(float)/100"
   ]
  },
  {
   "cell_type": "code",
   "execution_count": 82,
   "id": "5522d871-5c68-44e6-a766-21b685b223eb",
   "metadata": {},
   "outputs": [],
   "source": [
    "train1, test1 = train_test_split(qb_df_features, test_size=0.333, stratify=qb_df_features['probowl'])"
   ]
  },
  {
   "cell_type": "code",
   "execution_count": 83,
   "id": "2abcf708-1781-4045-a510-74b0d3fce947",
   "metadata": {},
   "outputs": [],
   "source": [
    "train_y1 = train1['probowl']\n",
    "train_x1=train1.drop(columns=['probowl'])\n",
    "test_y1=test1['probowl']\n",
    "test_x1=test1.drop(columns=['probowl'])"
   ]
  },
  {
   "cell_type": "code",
   "execution_count": 84,
   "id": "64af1569-f900-4e27-a04e-8ce6857d22f2",
   "metadata": {},
   "outputs": [],
   "source": [
    "#The param_grid in the next cell was edited iteratively until suitable parameters were identified."
   ]
  },
  {
   "cell_type": "code",
   "execution_count": 85,
   "id": "4ec809ef-c0de-4757-966e-6afc3cd0717e",
   "metadata": {},
   "outputs": [],
   "source": [
    "param_grid = {\n",
    "    'bootstrap': [True],\n",
    "    'max_depth': [120,130,140],\n",
    "    'max_features': [11,12,13],\n",
    "    'min_samples_leaf': [1,2,3],\n",
    "    'min_samples_split': [10,12,13],\n",
    "    'n_estimators': [30,45,60]\n",
    "}\n",
    "rf = RandomForestClassifier()\n",
    "grid_search1 = GridSearchCV(estimator = rf, param_grid = param_grid, \n",
    "                          cv = 5, n_jobs = -1, verbose = 2)"
   ]
  },
  {
   "cell_type": "code",
   "execution_count": 86,
   "id": "d1b97464-0016-47d4-935b-a9c2f2d1b2c9",
   "metadata": {},
   "outputs": [
    {
     "name": "stdout",
     "output_type": "stream",
     "text": [
      "Fitting 5 folds for each of 243 candidates, totalling 1215 fits\n"
     ]
    },
    {
     "data": {
      "text/plain": [
       "GridSearchCV(cv=5, estimator=RandomForestClassifier(), n_jobs=-1,\n",
       "             param_grid={'bootstrap': [True], 'max_depth': [120, 130, 140],\n",
       "                         'max_features': [11, 12, 13],\n",
       "                         'min_samples_leaf': [1, 2, 3],\n",
       "                         'min_samples_split': [10, 12, 13],\n",
       "                         'n_estimators': [30, 45, 60]},\n",
       "             verbose=2)"
      ]
     },
     "execution_count": 86,
     "metadata": {},
     "output_type": "execute_result"
    }
   ],
   "source": [
    "grid_search1.fit(train_x1, train_y1)"
   ]
  },
  {
   "cell_type": "code",
   "execution_count": 87,
   "id": "d1c9d8e1-9bda-4744-a987-23e181b9346d",
   "metadata": {},
   "outputs": [
    {
     "data": {
      "text/plain": [
       "{'bootstrap': True,\n",
       " 'max_depth': 120,\n",
       " 'max_features': 11,\n",
       " 'min_samples_leaf': 3,\n",
       " 'min_samples_split': 12,\n",
       " 'n_estimators': 30}"
      ]
     },
     "execution_count": 87,
     "metadata": {},
     "output_type": "execute_result"
    }
   ],
   "source": [
    "grid_search1.best_params_"
   ]
  },
  {
   "cell_type": "code",
   "execution_count": 88,
   "id": "47235e4d-dce7-439c-8159-a114e267f873",
   "metadata": {},
   "outputs": [
    {
     "name": "stdout",
     "output_type": "stream",
     "text": [
      "RandomForestClassifier(max_depth=120, max_features=11, min_samples_leaf=3,\n",
      "                       min_samples_split=12, n_estimators=30)\n"
     ]
    }
   ],
   "source": [
    "rf_mod1 = grid_search1.best_estimator_\n",
    "print(rf_mod1)\n",
    "rfc_pred1 = rf_mod1.predict(test_x1)"
   ]
  },
  {
   "cell_type": "code",
   "execution_count": 89,
   "id": "d18fc882-fe36-44d6-a6d7-a15c759d5b19",
   "metadata": {},
   "outputs": [
    {
     "name": "stdout",
     "output_type": "stream",
     "text": [
      "[[427  22]\n",
      " [ 19  39]]\n"
     ]
    }
   ],
   "source": [
    "print(confusion_matrix(test_y1,rfc_pred1))"
   ]
  },
  {
   "cell_type": "code",
   "execution_count": 90,
   "id": "cd488aaf-c77b-45af-817e-010f36f16fc6",
   "metadata": {},
   "outputs": [
    {
     "name": "stdout",
     "output_type": "stream",
     "text": [
      "              precision    recall  f1-score   support\n",
      "\n",
      "           0       0.96      0.95      0.95       449\n",
      "           1       0.64      0.67      0.66        58\n",
      "\n",
      "    accuracy                           0.92       507\n",
      "   macro avg       0.80      0.81      0.80       507\n",
      "weighted avg       0.92      0.92      0.92       507\n",
      "\n"
     ]
    }
   ],
   "source": [
    "print(classification_report(test_y1, rfc_pred1))"
   ]
  },
  {
   "cell_type": "code",
   "execution_count": 91,
   "id": "92755a83-7821-4694-aa1f-90100d8a5474",
   "metadata": {},
   "outputs": [],
   "source": [
    "rfc_prob1 = rf_mod1.predict_proba(test_x1)"
   ]
  },
  {
   "cell_type": "code",
   "execution_count": 92,
   "id": "6df1c3b5-2c1a-4c3e-9d89-f47489778ef6",
   "metadata": {},
   "outputs": [
    {
     "data": {
      "text/plain": [
       "0.9455110974579526"
      ]
     },
     "execution_count": 92,
     "metadata": {},
     "output_type": "execute_result"
    }
   ],
   "source": [
    "test_rfc_y1_2 = test_y1.to_numpy()\n",
    "roc_auc_score(test_rfc_y1_2, rfc_prob1[:,1])"
   ]
  },
  {
   "cell_type": "code",
   "execution_count": 93,
   "id": "6bde3c17-a032-4ac1-a1c6-acd9dad885ef",
   "metadata": {},
   "outputs": [
    {
     "data": {
      "image/png": "[encoded data removed]",
      "text/plain": [
       "<Figure size 864x576 with 1 Axes>"
      ]
     },
     "metadata": {
      "needs_background": "light"
     },
     "output_type": "display_data"
    }
   ],
   "source": [
    "fpr_rfc_1, tpr_rfc_1, _ = roc_curve(test_rfc_y1_2, rfc_prob1[:,1])\n",
    "plt.plot(fpr_rfc_1,tpr_rfc_1, color ='red', lw=2, label=\"All Variables\")\n",
    "plt.plot([0, 1], [0, 1], color='navy', lw=2, linestyle='--')\n",
    "plt.xlim([-.05, 1.0])\n",
    "plt.ylim([-.05, 1.05])\n",
    "plt.xlabel('False Positive Rate')\n",
    "plt.ylabel('True Positive Rate')\n",
    "plt.title('QB ROC Curve (All Variables)')\n",
    "plt.legend(loc=\"lower right\")\n",
    "# plt.show()\n",
    "plt.savefig(os.path.join(path_parent, 'Figures\\QBs\\ROC_All.jpg'), bbox_inches='tight')"
   ]
  },
  {
   "cell_type": "markdown",
   "id": "1acbd570-6880-4aac-ad45-c14d6346147f",
   "metadata": {},
   "source": [
    "## Quarterback Random Forest (Only Passing Variables) [2]"
   ]
  },
  {
   "cell_type": "code",
   "execution_count": 94,
   "id": "f0a66d8c-3257-4ebd-8370-bc7cd6d6d2aa",
   "metadata": {
    "tags": []
   },
   "outputs": [
    {
     "name": "stdout",
     "output_type": "stream",
     "text": [
      "Index(['GS', 'Pass_Cmp', 'Pass_Att', 'Pass_Cmp%', 'Pass_Yds', 'Pass_TD',\n",
      "       'Pass_TD%', 'Pass_Int', 'Pass_Int%', 'Pass_1D', 'Pass_Lng', 'Pass_Y/A',\n",
      "       'Pass_AY/A', 'Pass_Y/C', 'Pass_Y/G', 'Pass_Rate', 'Pass_QBR', 'Pass_Sk',\n",
      "       'Pass_Yds.1', 'Pass_Sk%', 'Pass_NY/A', 'Pass_ANY/A', 'Pass_4QC',\n",
      "       'Pass_GWD', 'probowl'],\n",
      "      dtype='object')\n"
     ]
    },
    {
     "data": {
      "text/html": [
       "<div>\n",
       "<style scoped>\n",
       "    .dataframe tbody tr th:only-of-type {\n",
       "        vertical-align: middle;\n",
       "    }\n",
       "\n",
       "    .dataframe tbody tr th {\n",
       "        vertical-align: top;\n",
       "    }\n",
       "\n",
       "    .dataframe thead th {\n",
       "        text-align: right;\n",
       "    }\n",
       "</style>\n",
       "<table border=\"1\" class=\"dataframe\">\n",
       "  <thead>\n",
       "    <tr style=\"text-align: right;\">\n",
       "      <th></th>\n",
       "      <th>GS</th>\n",
       "      <th>Pass_Cmp</th>\n",
       "      <th>Pass_Att</th>\n",
       "      <th>Pass_Cmp%</th>\n",
       "      <th>Pass_Yds</th>\n",
       "      <th>Pass_TD</th>\n",
       "      <th>Pass_TD%</th>\n",
       "      <th>Pass_Int</th>\n",
       "      <th>Pass_Int%</th>\n",
       "      <th>Pass_1D</th>\n",
       "      <th>...</th>\n",
       "      <th>Pass_Rate</th>\n",
       "      <th>Pass_QBR</th>\n",
       "      <th>Pass_Sk</th>\n",
       "      <th>Pass_Yds.1</th>\n",
       "      <th>Pass_Sk%</th>\n",
       "      <th>Pass_NY/A</th>\n",
       "      <th>Pass_ANY/A</th>\n",
       "      <th>Pass_4QC</th>\n",
       "      <th>Pass_GWD</th>\n",
       "      <th>probowl</th>\n",
       "    </tr>\n",
       "  </thead>\n",
       "  <tbody>\n",
       "    <tr>\n",
       "      <th>0</th>\n",
       "      <td>16</td>\n",
       "      <td>297</td>\n",
       "      <td>474</td>\n",
       "      <td>62.7</td>\n",
       "      <td>3937</td>\n",
       "      <td>33</td>\n",
       "      <td>7.0</td>\n",
       "      <td>16</td>\n",
       "      <td>3.4</td>\n",
       "      <td>188</td>\n",
       "      <td>...</td>\n",
       "      <td>98.0</td>\n",
       "      <td>0.0</td>\n",
       "      <td>34</td>\n",
       "      <td>181</td>\n",
       "      <td>6.7</td>\n",
       "      <td>7.39</td>\n",
       "      <td>7.28</td>\n",
       "      <td>3</td>\n",
       "      <td>4</td>\n",
       "      <td>1</td>\n",
       "    </tr>\n",
       "    <tr>\n",
       "      <th>1</th>\n",
       "      <td>16</td>\n",
       "      <td>284</td>\n",
       "      <td>473</td>\n",
       "      <td>60.0</td>\n",
       "      <td>3430</td>\n",
       "      <td>28</td>\n",
       "      <td>5.9</td>\n",
       "      <td>11</td>\n",
       "      <td>2.3</td>\n",
       "      <td>177</td>\n",
       "      <td>...</td>\n",
       "      <td>92.4</td>\n",
       "      <td>0.0</td>\n",
       "      <td>28</td>\n",
       "      <td>124</td>\n",
       "      <td>5.6</td>\n",
       "      <td>6.60</td>\n",
       "      <td>6.73</td>\n",
       "      <td>3</td>\n",
       "      <td>4</td>\n",
       "      <td>1</td>\n",
       "    </tr>\n",
       "    <tr>\n",
       "      <th>2</th>\n",
       "      <td>16</td>\n",
       "      <td>330</td>\n",
       "      <td>569</td>\n",
       "      <td>58.0</td>\n",
       "      <td>3365</td>\n",
       "      <td>21</td>\n",
       "      <td>3.7</td>\n",
       "      <td>13</td>\n",
       "      <td>2.3</td>\n",
       "      <td>181</td>\n",
       "      <td>...</td>\n",
       "      <td>77.8</td>\n",
       "      <td>0.0</td>\n",
       "      <td>45</td>\n",
       "      <td>262</td>\n",
       "      <td>7.3</td>\n",
       "      <td>5.05</td>\n",
       "      <td>4.79</td>\n",
       "      <td>2</td>\n",
       "      <td>3</td>\n",
       "      <td>1</td>\n",
       "    </tr>\n",
       "    <tr>\n",
       "      <th>3</th>\n",
       "      <td>11</td>\n",
       "      <td>151</td>\n",
       "      <td>289</td>\n",
       "      <td>52.2</td>\n",
       "      <td>1860</td>\n",
       "      <td>11</td>\n",
       "      <td>3.8</td>\n",
       "      <td>8</td>\n",
       "      <td>2.8</td>\n",
       "      <td>91</td>\n",
       "      <td>...</td>\n",
       "      <td>73.6</td>\n",
       "      <td>0.0</td>\n",
       "      <td>30</td>\n",
       "      <td>150</td>\n",
       "      <td>9.4</td>\n",
       "      <td>5.36</td>\n",
       "      <td>4.92</td>\n",
       "      <td>1</td>\n",
       "      <td>1</td>\n",
       "      <td>0</td>\n",
       "    </tr>\n",
       "    <tr>\n",
       "      <th>4</th>\n",
       "      <td>16</td>\n",
       "      <td>233</td>\n",
       "      <td>428</td>\n",
       "      <td>54.4</td>\n",
       "      <td>2769</td>\n",
       "      <td>18</td>\n",
       "      <td>4.2</td>\n",
       "      <td>13</td>\n",
       "      <td>3.0</td>\n",
       "      <td>142</td>\n",
       "      <td>...</td>\n",
       "      <td>75.8</td>\n",
       "      <td>0.0</td>\n",
       "      <td>37</td>\n",
       "      <td>240</td>\n",
       "      <td>8.0</td>\n",
       "      <td>5.44</td>\n",
       "      <td>4.95</td>\n",
       "      <td>3</td>\n",
       "      <td>3</td>\n",
       "      <td>0</td>\n",
       "    </tr>\n",
       "  </tbody>\n",
       "</table>\n",
       "<p>5 rows × 25 columns</p>\n",
       "</div>"
      ],
      "text/plain": [
       "   GS  Pass_Cmp  Pass_Att  Pass_Cmp%  Pass_Yds  Pass_TD  Pass_TD%  Pass_Int  \\\n",
       "0  16       297       474       62.7      3937       33       7.0        16   \n",
       "1  16       284       473       60.0      3430       28       5.9        11   \n",
       "2  16       330       569       58.0      3365       21       3.7        13   \n",
       "3  11       151       289       52.2      1860       11       3.8         8   \n",
       "4  16       233       428       54.4      2769       18       4.2        13   \n",
       "\n",
       "   Pass_Int%  Pass_1D  ...  Pass_Rate  Pass_QBR  Pass_Sk  Pass_Yds.1  \\\n",
       "0        3.4      188  ...       98.0       0.0       34         181   \n",
       "1        2.3      177  ...       92.4       0.0       28         124   \n",
       "2        2.3      181  ...       77.8       0.0       45         262   \n",
       "3        2.8       91  ...       73.6       0.0       30         150   \n",
       "4        3.0      142  ...       75.8       0.0       37         240   \n",
       "\n",
       "   Pass_Sk%  Pass_NY/A  Pass_ANY/A  Pass_4QC  Pass_GWD  probowl  \n",
       "0       6.7       7.39        7.28         3         4        1  \n",
       "1       5.6       6.60        6.73         3         4        1  \n",
       "2       7.3       5.05        4.79         2         3        1  \n",
       "3       9.4       5.36        4.92         1         1        0  \n",
       "4       8.0       5.44        4.95         3         3        0  \n",
       "\n",
       "[5 rows x 25 columns]"
      ]
     },
     "execution_count": 94,
     "metadata": {},
     "output_type": "execute_result"
    }
   ],
   "source": [
    "qb_df_features2 = qb_df.iloc[:,8:]\n",
    "qb_df_features2 = qb_df_features2.drop(['Player*','Year','PlayerYearTm*','Pos*','QBrec'], axis=1)\n",
    "qb_df_features2 = qb_df_features2[qb_df_features2.columns.drop(list(qb_df.filter(regex='Rec')))]\n",
    "qb_df_features2 = qb_df_features2[qb_df_features2.columns.drop(list(qb_df.filter(regex='Rush')))]\n",
    "print(qb_df_features2.columns)\n",
    "qb_df_features2.head()"
   ]
  },
  {
   "cell_type": "code",
   "execution_count": 95,
   "id": "8c2d96d6-2e58-4e3a-a534-b6bd3eeb09f9",
   "metadata": {},
   "outputs": [],
   "source": [
    "#Change all % columns to float, then classifier will run.\n"
   ]
  },
  {
   "cell_type": "code",
   "execution_count": 96,
   "id": "89ed0586-4c5b-447c-a8f1-d2c96a6c36d5",
   "metadata": {},
   "outputs": [],
   "source": [
    "train2, test2 = train_test_split(qb_df_features2, test_size=0.333, stratify=qb_df_features2['probowl'])"
   ]
  },
  {
   "cell_type": "code",
   "execution_count": 97,
   "id": "9024713b-8b70-41cc-a6d0-fb5da38853a0",
   "metadata": {},
   "outputs": [],
   "source": [
    "train_y2 = train2['probowl']\n",
    "train_x2=train2.drop(columns=['probowl'])\n",
    "test_y2=test2['probowl']\n",
    "test_x2=test2.drop(columns=['probowl'])"
   ]
  },
  {
   "cell_type": "code",
   "execution_count": 98,
   "id": "00eb0102-5077-44e9-b954-d979c663d688",
   "metadata": {},
   "outputs": [],
   "source": [
    "param_grid = {\n",
    "    'bootstrap': [True],\n",
    "    'max_depth': [90,100,110],\n",
    "    'max_features': [1,2,3,4],\n",
    "    'min_samples_leaf': [5,7,9],\n",
    "    'min_samples_split': [10,11,12],\n",
    "    'n_estimators': [110,120,130]\n",
    "}\n",
    "rf = RandomForestClassifier()\n",
    "grid_search2 = GridSearchCV(estimator = rf, param_grid = param_grid, \n",
    "                          cv = 5, n_jobs = -1, verbose = 2)"
   ]
  },
  {
   "cell_type": "code",
   "execution_count": 99,
   "id": "8cdcd85d-299d-422c-bf6b-fcc975de87c8",
   "metadata": {},
   "outputs": [
    {
     "name": "stdout",
     "output_type": "stream",
     "text": [
      "Fitting 5 folds for each of 324 candidates, totalling 1620 fits\n"
     ]
    },
    {
     "data": {
      "text/plain": [
       "GridSearchCV(cv=5, estimator=RandomForestClassifier(), n_jobs=-1,\n",
       "             param_grid={'bootstrap': [True], 'max_depth': [90, 100, 110],\n",
       "                         'max_features': [1, 2, 3, 4],\n",
       "                         'min_samples_leaf': [5, 7, 9],\n",
       "                         'min_samples_split': [10, 11, 12],\n",
       "                         'n_estimators': [110, 120, 130]},\n",
       "             verbose=2)"
      ]
     },
     "execution_count": 99,
     "metadata": {},
     "output_type": "execute_result"
    }
   ],
   "source": [
    "# Fit the grid search to the data\n",
    "grid_search2.fit(train_x2, train_y2)"
   ]
  },
  {
   "cell_type": "code",
   "execution_count": 100,
   "id": "37338825-1718-4608-af1e-6128afaf2e9d",
   "metadata": {},
   "outputs": [
    {
     "data": {
      "text/plain": [
       "{'bootstrap': True,\n",
       " 'max_depth': 100,\n",
       " 'max_features': 3,\n",
       " 'min_samples_leaf': 9,\n",
       " 'min_samples_split': 10,\n",
       " 'n_estimators': 130}"
      ]
     },
     "execution_count": 100,
     "metadata": {},
     "output_type": "execute_result"
    }
   ],
   "source": [
    "grid_search2.best_params_"
   ]
  },
  {
   "cell_type": "code",
   "execution_count": 101,
   "id": "71cb555e-24a6-40dc-92f8-25eb9407bbde",
   "metadata": {},
   "outputs": [
    {
     "name": "stdout",
     "output_type": "stream",
     "text": [
      "RandomForestClassifier(max_depth=100, max_features=3, min_samples_leaf=9,\n",
      "                       min_samples_split=10, n_estimators=130)\n"
     ]
    }
   ],
   "source": [
    "rf_mod2 = grid_search2.best_estimator_\n",
    "print(rf_mod2)\n",
    "rfc_pred2 = rf_mod2.predict(test_x2)"
   ]
  },
  {
   "cell_type": "code",
   "execution_count": 102,
   "id": "dd73f651-7d97-4a7d-b2c0-f313dcb86327",
   "metadata": {},
   "outputs": [
    {
     "name": "stdout",
     "output_type": "stream",
     "text": [
      "[[442   7]\n",
      " [ 25  33]]\n"
     ]
    }
   ],
   "source": [
    "print(confusion_matrix(test_y2,rfc_pred2))"
   ]
  },
  {
   "cell_type": "code",
   "execution_count": 103,
   "id": "a76663fb-bc7d-4dde-809d-184d82132fb7",
   "metadata": {},
   "outputs": [
    {
     "name": "stdout",
     "output_type": "stream",
     "text": [
      "              precision    recall  f1-score   support\n",
      "\n",
      "           0       0.95      0.98      0.97       449\n",
      "           1       0.82      0.57      0.67        58\n",
      "\n",
      "    accuracy                           0.94       507\n",
      "   macro avg       0.89      0.78      0.82       507\n",
      "weighted avg       0.93      0.94      0.93       507\n",
      "\n"
     ]
    }
   ],
   "source": [
    "print(classification_report(test_y2, rfc_pred2))"
   ]
  },
  {
   "cell_type": "code",
   "execution_count": 104,
   "id": "96bee397-6a98-44cf-9402-2dc77b157eff",
   "metadata": {},
   "outputs": [],
   "source": [
    "rfc_prob2 = rf_mod2.predict_proba(test_x2)"
   ]
  },
  {
   "cell_type": "code",
   "execution_count": 105,
   "id": "f148d6d1-0616-45a5-a198-19f62d44db61",
   "metadata": {},
   "outputs": [
    {
     "data": {
      "text/plain": [
       "0.9716227632286307"
      ]
     },
     "execution_count": 105,
     "metadata": {},
     "output_type": "execute_result"
    }
   ],
   "source": [
    "test_rfc_y2_2 = test_y2.to_numpy()\n",
    "roc_auc_score(test_rfc_y2_2, rfc_prob2[:,1])"
   ]
  },
  {
   "cell_type": "code",
   "execution_count": 106,
   "id": "091944bd-9c6c-4a03-8f86-90befb5ff2c4",
   "metadata": {},
   "outputs": [
    {
     "data": {
      "image/png": "[encoded data removed]",
      "text/plain": [
       "<Figure size 864x576 with 1 Axes>"
      ]
     },
     "metadata": {
      "needs_background": "light"
     },
     "output_type": "display_data"
    }
   ],
   "source": [
    "fpr_rfc_2, tpr_rfc_2, _ = roc_curve(test_rfc_y2_2, rfc_prob2[:,1])\n",
    "plt.plot(fpr_rfc_2,tpr_rfc_2, color ='red', lw=2, label=\"Only Passing Variables\")\n",
    "plt.plot([0, 1], [0, 1], color='navy', lw=2, linestyle='--')\n",
    "plt.xlim([-.05, 1.0])\n",
    "plt.ylim([-.05, 1.05])\n",
    "plt.xlabel('False Positive Rate')\n",
    "plt.ylabel('True Positive Rate')\n",
    "plt.title('QB ROC Curve (Passing Variables)')\n",
    "plt.legend(loc=\"lower right\")\n",
    "# plt.show()\n",
    "plt.savefig(os.path.join(path_parent, 'Figures\\QBs\\ROC_Passing.jpg'), bbox_inches='tight')"
   ]
  },
  {
   "cell_type": "markdown",
   "id": "47870f67-a8e7-4458-ba58-18c14d365736",
   "metadata": {},
   "source": [
    "## Visualize feature importance for all variables"
   ]
  },
  {
   "cell_type": "code",
   "execution_count": 107,
   "id": "2fedd323-8e9c-4d63-a60b-ad699ff73977",
   "metadata": {},
   "outputs": [
    {
     "name": "stdout",
     "output_type": "stream",
     "text": [
      "<class 'numpy.ndarray'>\n",
      "44\n"
     ]
    }
   ],
   "source": [
    "print(type(rf_mod1.feature_importances_))\n",
    "print(len(rf_mod1.feature_importances_))"
   ]
  },
  {
   "cell_type": "code",
   "execution_count": 108,
   "id": "35e376c4-28eb-4f8f-960d-e7338dadd124",
   "metadata": {},
   "outputs": [
    {
     "name": "stdout",
     "output_type": "stream",
     "text": [
      "45\n"
     ]
    },
    {
     "data": {
      "text/plain": [
       "array(['GS', 'Rush_Att', 'Rush_Yds', 'Rush_TD', 'Rush_1D', 'Rush_Lng',\n",
       "       'Rush_Y/A', 'Rush_Y/G', 'Rush_Fmb', 'Rec_Tgt', 'Rec_Rec',\n",
       "       'Rec_Ctch%', 'Rec_Yds', 'Rec_Y/R', 'Rec_TD', 'Rec_1D', 'Rec_Lng',\n",
       "       'Rec_Y/Tgt', 'Rec_R/G', 'Rec_Y/G', 'Rec_Fmb', 'Pass_Cmp',\n",
       "       'Pass_Att', 'Pass_Cmp%', 'Pass_Yds', 'Pass_TD', 'Pass_TD%',\n",
       "       'Pass_Int', 'Pass_Int%', 'Pass_1D', 'Pass_Lng', 'Pass_Y/A',\n",
       "       'Pass_AY/A', 'Pass_Y/C', 'Pass_Y/G', 'Pass_Rate', 'Pass_QBR',\n",
       "       'Pass_Sk', 'Pass_Yds.1', 'Pass_Sk%', 'Pass_NY/A', 'Pass_ANY/A',\n",
       "       'Pass_4QC', 'Pass_GWD', 'probowl'], dtype='<U10')"
      ]
     },
     "execution_count": 108,
     "metadata": {},
     "output_type": "execute_result"
    }
   ],
   "source": [
    "feat = qb_df_features.columns.to_list()\n",
    "arr = np.array(feat)\n",
    "print(len(arr))\n",
    "arr"
   ]
  },
  {
   "cell_type": "code",
   "execution_count": 109,
   "id": "a2577b45-48cb-43f9-b595-185be21b3e90",
   "metadata": {},
   "outputs": [
    {
     "name": "stdout",
     "output_type": "stream",
     "text": [
      "44\n"
     ]
    }
   ],
   "source": [
    "#Drop probowl column \n",
    "arr = arr[0:44]\n",
    "print(len(arr))"
   ]
  },
  {
   "cell_type": "code",
   "execution_count": 110,
   "id": "ec23a4da-52a4-40c5-a52a-f86ca012ea90",
   "metadata": {},
   "outputs": [
    {
     "data": {
      "image/png": "[encoded data removed]",
      "text/plain": [
       "<Figure size 864x576 with 1 Axes>"
      ]
     },
     "metadata": {
      "needs_background": "light"
     },
     "output_type": "display_data"
    }
   ],
   "source": [
    "sorted_idx = rf_mod1.feature_importances_.argsort()\n",
    "plt.barh(arr[sorted_idx], rf_mod1.feature_importances_[sorted_idx])\n",
    "plt.title('QB Feature Importance (All Variables)')\n",
    "\n",
    "plt.savefig(os.path.join(path_parent, 'Figures\\QBs\\FeatureImportance_All.jpg'), bbox_inches='tight')"
   ]
  },
  {
   "cell_type": "markdown",
   "id": "818c6232-d37b-4835-bfa3-1fa3b4045e5e",
   "metadata": {},
   "source": [
    "## Visualize feature importance for only receiving variables"
   ]
  },
  {
   "cell_type": "code",
   "execution_count": 111,
   "id": "42cfb5bb-8de2-4178-8fd4-6744c1a33e1b",
   "metadata": {},
   "outputs": [
    {
     "name": "stdout",
     "output_type": "stream",
     "text": [
      "<class 'numpy.ndarray'>\n",
      "24\n"
     ]
    },
    {
     "data": {
      "text/plain": [
       "array([0.05158557, 0.07482062, 0.06123508, 0.01157274, 0.094486  ,\n",
       "       0.09550914, 0.04256601, 0.02576602, 0.02269907, 0.10863487,\n",
       "       0.01113458, 0.02091684, 0.06441362, 0.01019218, 0.04377459,\n",
       "       0.0380759 , 0.03246864, 0.01424667, 0.01751932, 0.00881227,\n",
       "       0.04990916, 0.07125181, 0.0111703 , 0.01723901])"
      ]
     },
     "execution_count": 111,
     "metadata": {},
     "output_type": "execute_result"
    }
   ],
   "source": [
    "print(type(rf_mod2.feature_importances_))\n",
    "print(len(rf_mod2.feature_importances_))\n",
    "rf_mod2.feature_importances_"
   ]
  },
  {
   "cell_type": "code",
   "execution_count": 112,
   "id": "6acb7057-9d4a-4890-9b2b-fa0e93e4133a",
   "metadata": {},
   "outputs": [],
   "source": [
    "feat = qb_df_features2.columns.to_list()\n",
    "arr2 = np.array(feat)"
   ]
  },
  {
   "cell_type": "code",
   "execution_count": 113,
   "id": "54d3a949-0f6a-4318-936c-6289a1427703",
   "metadata": {},
   "outputs": [
    {
     "name": "stdout",
     "output_type": "stream",
     "text": [
      "25\n"
     ]
    },
    {
     "data": {
      "text/plain": [
       "array(['GS', 'Pass_Cmp', 'Pass_Att', 'Pass_Cmp%', 'Pass_Yds', 'Pass_TD',\n",
       "       'Pass_TD%', 'Pass_Int', 'Pass_Int%', 'Pass_1D', 'Pass_Lng',\n",
       "       'Pass_Y/A', 'Pass_AY/A', 'Pass_Y/C', 'Pass_Y/G', 'Pass_Rate',\n",
       "       'Pass_QBR', 'Pass_Sk', 'Pass_Yds.1', 'Pass_Sk%', 'Pass_NY/A',\n",
       "       'Pass_ANY/A', 'Pass_4QC', 'Pass_GWD', 'probowl'], dtype='<U10')"
      ]
     },
     "execution_count": 113,
     "metadata": {},
     "output_type": "execute_result"
    }
   ],
   "source": [
    "print(len(arr2))\n",
    "arr2"
   ]
  },
  {
   "cell_type": "code",
   "execution_count": 114,
   "id": "c21ae7c0-2bd2-4bda-845e-e0544b5552e5",
   "metadata": {},
   "outputs": [
    {
     "name": "stdout",
     "output_type": "stream",
     "text": [
      "24\n"
     ]
    }
   ],
   "source": [
    "#Drop probowl column\n",
    "arr2=arr2[0:24]\n",
    "print(len(arr2))"
   ]
  },
  {
   "cell_type": "markdown",
   "id": "47adafda-3520-4d42-9a22-cedcf8f2a766",
   "metadata": {},
   "source": [
    "Sort the feature importance"
   ]
  },
  {
   "cell_type": "code",
   "execution_count": 115,
   "id": "de9ca41e-9850-451e-bc98-f3c9573ab76b",
   "metadata": {},
   "outputs": [
    {
     "data": {
      "image/png": "[encoded data removed]",
      "text/plain": [
       "<Figure size 864x576 with 1 Axes>"
      ]
     },
     "metadata": {
      "needs_background": "light"
     },
     "output_type": "display_data"
    }
   ],
   "source": [
    "sorted_idx = rf_mod2.feature_importances_.argsort()\n",
    "plt.barh(arr2[sorted_idx], rf_mod2.feature_importances_[sorted_idx])\n",
    "plt.title('QB Feature Importance (Receiving Variables)')\n",
    "\n",
    "plt.savefig(os.path.join(path_parent, 'Figures\\QBs\\FeatureImportance_Passing.jpg'), bbox_inches='tight')"
   ]
  },
  {
   "cell_type": "markdown",
   "id": "8edc0c86-bd7a-44ff-afa8-d755677a794a",
   "metadata": {},
   "source": [
    "## RF Model with only the top 11 variables [3]"
   ]
  },
  {
   "cell_type": "code",
   "execution_count": 116,
   "id": "6585323a-603c-4518-a581-0505bf8c38d3",
   "metadata": {},
   "outputs": [
    {
     "data": {
      "text/html": [
       "<div>\n",
       "<style scoped>\n",
       "    .dataframe tbody tr th:only-of-type {\n",
       "        vertical-align: middle;\n",
       "    }\n",
       "\n",
       "    .dataframe tbody tr th {\n",
       "        vertical-align: top;\n",
       "    }\n",
       "\n",
       "    .dataframe thead th {\n",
       "        text-align: right;\n",
       "    }\n",
       "</style>\n",
       "<table border=\"1\" class=\"dataframe\">\n",
       "  <thead>\n",
       "    <tr style=\"text-align: right;\">\n",
       "      <th></th>\n",
       "      <th>Pass_Yds</th>\n",
       "      <th>Pass_Att</th>\n",
       "      <th>Pass_1D</th>\n",
       "      <th>Pass_Cmp</th>\n",
       "      <th>Pass_Y/G</th>\n",
       "      <th>Pass_ANY/A</th>\n",
       "      <th>Pass_Rate</th>\n",
       "      <th>Pass_AY/A</th>\n",
       "      <th>Pass_TD</th>\n",
       "      <th>GS</th>\n",
       "      <th>Pass_QBR</th>\n",
       "      <th>probowl</th>\n",
       "    </tr>\n",
       "  </thead>\n",
       "  <tbody>\n",
       "    <tr>\n",
       "      <th>0</th>\n",
       "      <td>3937</td>\n",
       "      <td>474</td>\n",
       "      <td>188</td>\n",
       "      <td>297</td>\n",
       "      <td>246.1</td>\n",
       "      <td>7.28</td>\n",
       "      <td>98.0</td>\n",
       "      <td>8.2</td>\n",
       "      <td>33</td>\n",
       "      <td>16</td>\n",
       "      <td>0.0</td>\n",
       "      <td>1</td>\n",
       "    </tr>\n",
       "    <tr>\n",
       "      <th>1</th>\n",
       "      <td>3430</td>\n",
       "      <td>473</td>\n",
       "      <td>177</td>\n",
       "      <td>284</td>\n",
       "      <td>214.4</td>\n",
       "      <td>6.73</td>\n",
       "      <td>92.4</td>\n",
       "      <td>7.4</td>\n",
       "      <td>28</td>\n",
       "      <td>16</td>\n",
       "      <td>0.0</td>\n",
       "      <td>1</td>\n",
       "    </tr>\n",
       "    <tr>\n",
       "      <th>2</th>\n",
       "      <td>3365</td>\n",
       "      <td>569</td>\n",
       "      <td>181</td>\n",
       "      <td>330</td>\n",
       "      <td>210.3</td>\n",
       "      <td>4.79</td>\n",
       "      <td>77.8</td>\n",
       "      <td>5.6</td>\n",
       "      <td>21</td>\n",
       "      <td>16</td>\n",
       "      <td>0.0</td>\n",
       "      <td>1</td>\n",
       "    </tr>\n",
       "    <tr>\n",
       "      <th>3</th>\n",
       "      <td>1860</td>\n",
       "      <td>289</td>\n",
       "      <td>91</td>\n",
       "      <td>151</td>\n",
       "      <td>116.3</td>\n",
       "      <td>4.92</td>\n",
       "      <td>73.6</td>\n",
       "      <td>6.0</td>\n",
       "      <td>11</td>\n",
       "      <td>11</td>\n",
       "      <td>0.0</td>\n",
       "      <td>0</td>\n",
       "    </tr>\n",
       "    <tr>\n",
       "      <th>4</th>\n",
       "      <td>2769</td>\n",
       "      <td>428</td>\n",
       "      <td>142</td>\n",
       "      <td>233</td>\n",
       "      <td>173.1</td>\n",
       "      <td>4.95</td>\n",
       "      <td>75.8</td>\n",
       "      <td>5.9</td>\n",
       "      <td>18</td>\n",
       "      <td>16</td>\n",
       "      <td>0.0</td>\n",
       "      <td>0</td>\n",
       "    </tr>\n",
       "  </tbody>\n",
       "</table>\n",
       "</div>"
      ],
      "text/plain": [
       "   Pass_Yds  Pass_Att  Pass_1D  Pass_Cmp  Pass_Y/G  Pass_ANY/A  Pass_Rate  \\\n",
       "0      3937       474      188       297     246.1        7.28       98.0   \n",
       "1      3430       473      177       284     214.4        6.73       92.4   \n",
       "2      3365       569      181       330     210.3        4.79       77.8   \n",
       "3      1860       289       91       151     116.3        4.92       73.6   \n",
       "4      2769       428      142       233     173.1        4.95       75.8   \n",
       "\n",
       "   Pass_AY/A  Pass_TD  GS  Pass_QBR  probowl  \n",
       "0        8.2       33  16       0.0        1  \n",
       "1        7.4       28  16       0.0        1  \n",
       "2        5.6       21  16       0.0        1  \n",
       "3        6.0       11  11       0.0        0  \n",
       "4        5.9       18  16       0.0        0  "
      ]
     },
     "execution_count": 116,
     "metadata": {},
     "output_type": "execute_result"
    }
   ],
   "source": [
    "top_qb_features = qb_df[['Pass_Yds','Pass_Att','Pass_1D','Pass_Cmp','Pass_Y/G','Pass_ANY/A','Pass_Rate','Pass_AY/A','Pass_TD','GS','Pass_QBR','probowl']]\n",
    "top_qb_features.head()"
   ]
  },
  {
   "cell_type": "code",
   "execution_count": 117,
   "id": "6391c5e0-f1bf-4d0a-9673-6f023c46dd8b",
   "metadata": {},
   "outputs": [],
   "source": [
    "train3, test3 = train_test_split(top_qb_features, test_size=0.333, stratify=top_qb_features['probowl'])\n",
    "train_y3 = train3['probowl']\n",
    "train_x3=train3.drop(columns=['probowl'])\n",
    "test_y3=test3['probowl']\n",
    "test_x3=test3.drop(columns=['probowl'])"
   ]
  },
  {
   "cell_type": "code",
   "execution_count": null,
   "id": "e3de0ec9-f94b-4715-b1af-60a7f9b346ed",
   "metadata": {},
   "outputs": [],
   "source": []
  },
  {
   "cell_type": "code",
   "execution_count": null,
   "id": "39ab7e9d-bf71-4a97-838a-8f7dd83e9b4d",
   "metadata": {},
   "outputs": [],
   "source": []
  },
  {
   "cell_type": "code",
   "execution_count": 118,
   "id": "e94f90d2-248d-406b-8ed7-6a885e64a57b",
   "metadata": {},
   "outputs": [],
   "source": [
    "param_grid = {\n",
    "    'bootstrap': [True],\n",
    "    'max_depth': [90,100,110,120],\n",
    "    'max_features': [3,4,5,6],\n",
    "    'min_samples_leaf': [7,9,11,13],\n",
    "    'min_samples_split': [10,12,13,14],\n",
    "    'n_estimators': [70,85,100]\n",
    "}\n",
    "rf = RandomForestClassifier()\n",
    "grid_search3 = GridSearchCV(estimator = rf, param_grid = param_grid, \n",
    "                          cv = 5, n_jobs = -1, verbose = 2)"
   ]
  },
  {
   "cell_type": "code",
   "execution_count": 119,
   "id": "0246f84a-2cfe-4999-9d06-a35b24b35287",
   "metadata": {},
   "outputs": [
    {
     "name": "stdout",
     "output_type": "stream",
     "text": [
      "Fitting 5 folds for each of 768 candidates, totalling 3840 fits\n"
     ]
    },
    {
     "data": {
      "text/plain": [
       "GridSearchCV(cv=5, estimator=RandomForestClassifier(), n_jobs=-1,\n",
       "             param_grid={'bootstrap': [True], 'max_depth': [90, 100, 110, 120],\n",
       "                         'max_features': [3, 4, 5, 6],\n",
       "                         'min_samples_leaf': [7, 9, 11, 13],\n",
       "                         'min_samples_split': [10, 12, 13, 14],\n",
       "                         'n_estimators': [70, 85, 100]},\n",
       "             verbose=2)"
      ]
     },
     "execution_count": 119,
     "metadata": {},
     "output_type": "execute_result"
    }
   ],
   "source": [
    "# Fit the grid search to the data\n",
    "grid_search3.fit(train_x3, train_y3)"
   ]
  },
  {
   "cell_type": "code",
   "execution_count": 120,
   "id": "b401d040-c260-4545-8db7-9b1a8fe6a1f0",
   "metadata": {},
   "outputs": [
    {
     "data": {
      "text/plain": [
       "{'bootstrap': True,\n",
       " 'max_depth': 90,\n",
       " 'max_features': 3,\n",
       " 'min_samples_leaf': 11,\n",
       " 'min_samples_split': 12,\n",
       " 'n_estimators': 70}"
      ]
     },
     "execution_count": 120,
     "metadata": {},
     "output_type": "execute_result"
    }
   ],
   "source": [
    "grid_search3.best_params_"
   ]
  },
  {
   "cell_type": "code",
   "execution_count": 121,
   "id": "d0c98fbb-1405-4c04-98c3-1778fcb5775a",
   "metadata": {},
   "outputs": [
    {
     "name": "stdout",
     "output_type": "stream",
     "text": [
      "RandomForestClassifier(max_depth=90, max_features=3, min_samples_leaf=11,\n",
      "                       min_samples_split=12, n_estimators=70)\n"
     ]
    }
   ],
   "source": [
    "rf_mod3 = grid_search3.best_estimator_\n",
    "print(rf_mod3)\n",
    "rfc_pred3 = rf_mod3.predict(test_x3)"
   ]
  },
  {
   "cell_type": "code",
   "execution_count": 122,
   "id": "256f66fb-f010-4ff0-96e0-4b41bfb545d2",
   "metadata": {},
   "outputs": [
    {
     "name": "stdout",
     "output_type": "stream",
     "text": [
      "[[438  11]\n",
      " [ 23  35]]\n"
     ]
    }
   ],
   "source": [
    "print(confusion_matrix(test_y3,rfc_pred3))"
   ]
  },
  {
   "cell_type": "code",
   "execution_count": 123,
   "id": "200c00bf-dfa7-42b4-b2a8-3e01afd94d1e",
   "metadata": {},
   "outputs": [
    {
     "name": "stdout",
     "output_type": "stream",
     "text": [
      "              precision    recall  f1-score   support\n",
      "\n",
      "           0       0.95      0.98      0.96       449\n",
      "           1       0.76      0.60      0.67        58\n",
      "\n",
      "    accuracy                           0.93       507\n",
      "   macro avg       0.86      0.79      0.82       507\n",
      "weighted avg       0.93      0.93      0.93       507\n",
      "\n"
     ]
    }
   ],
   "source": [
    "print(classification_report(test_y3, rfc_pred3))"
   ]
  },
  {
   "cell_type": "code",
   "execution_count": 124,
   "id": "ce2de21a-0727-427c-9f76-2201895c52e0",
   "metadata": {},
   "outputs": [],
   "source": [
    "rfc_prob3 = rf_mod3.predict_proba(test_x3)"
   ]
  },
  {
   "cell_type": "code",
   "execution_count": 125,
   "id": "1893adfc-4c57-4a0e-8d5b-e435a31f4596",
   "metadata": {},
   "outputs": [
    {
     "data": {
      "text/plain": [
       "0.9569541509868674"
      ]
     },
     "execution_count": 125,
     "metadata": {},
     "output_type": "execute_result"
    }
   ],
   "source": [
    "test_rfc_y3_2 = test_y3.to_numpy()\n",
    "roc_auc_score(test_rfc_y3_2, rfc_prob3[:,1])"
   ]
  },
  {
   "cell_type": "code",
   "execution_count": 126,
   "id": "a5701807-6549-4a1c-a170-fb12e6ba951c",
   "metadata": {},
   "outputs": [
    {
     "data": {
      "image/png": "[encoded data removed]",
      "text/plain": [
       "<Figure size 864x576 with 1 Axes>"
      ]
     },
     "metadata": {
      "needs_background": "light"
     },
     "output_type": "display_data"
    }
   ],
   "source": [
    "fpr_rfc_3, tpr_rfc_3, _ = roc_curve(test_rfc_y3_2, rfc_prob3[:,1])\n",
    "plt.plot(fpr_rfc_3,tpr_rfc_3, color ='red', lw=2, label=\"Top 11 Passing Variables\")\n",
    "plt.plot([0, 1], [0, 1], color='navy', lw=2, linestyle='--')\n",
    "plt.xlim([-.05, 1.0])\n",
    "plt.ylim([-.05, 1.05])\n",
    "plt.xlabel('False Positive Rate')\n",
    "plt.ylabel('True Positive Rate')\n",
    "plt.title('QB ROC Curve (Top 11 Passing Variables)')\n",
    "plt.legend(loc=\"lower right\")\n",
    "# plt.show()\n",
    "plt.savefig(os.path.join(path_parent, 'Figures\\QBs\\ROC_Top11Passing.jpg'), bbox_inches='tight')"
   ]
  },
  {
   "cell_type": "code",
   "execution_count": 127,
   "id": "ef486517-e41b-4536-b3db-fd5b455ad0a5",
   "metadata": {},
   "outputs": [
    {
     "data": {
      "image/png": "[encoded data removed]",
      "text/plain": [
       "<Figure size 864x576 with 1 Axes>"
      ]
     },
     "metadata": {
      "needs_background": "light"
     },
     "output_type": "display_data"
    }
   ],
   "source": [
    "plt.plot(fpr_rfc_1,tpr_rfc_1, color ='blue', lw=2, label=\"All Variables\")\n",
    "plt.plot(fpr_rfc_2,tpr_rfc_2, color ='red', lw=2, label=\"All Passing Variables\")\n",
    "plt.plot(fpr_rfc_3,tpr_rfc_3, color ='green', lw=2, label=\"Top 11 Passing Variables\")\n",
    "plt.plot([0, 1], [0, 1], color='navy', lw=2, linestyle='--')\n",
    "plt.xlim([-.05, 1.0])\n",
    "plt.ylim([-.05, 1.05])\n",
    "plt.xlabel('False Positive Rate')\n",
    "plt.ylabel('True Positive Rate')\n",
    "plt.title('Quarterback Feature Space Comparison')\n",
    "plt.legend(loc=\"lower right\")\n",
    "# plt.show()\n",
    "plt.savefig(os.path.join(path_parent, 'Figures\\QBs\\ROC_Comparison.jpg'), bbox_inches='tight')"
   ]
  },
  {
   "cell_type": "code",
   "execution_count": 128,
   "id": "7f2f1845-7c66-48a5-ad3c-65080557ec00",
   "metadata": {},
   "outputs": [
    {
     "name": "stdout",
     "output_type": "stream",
     "text": [
      "ALL VARIABLES: \n",
      "\n",
      "Confusion Matrix:\n",
      "[[427  22]\n",
      " [ 19  39]]\n",
      "\n",
      " Classification Report: \n",
      "              precision    recall  f1-score   support\n",
      "\n",
      "           0       0.96      0.95      0.95       449\n",
      "           1       0.64      0.67      0.66        58\n",
      "\n",
      "    accuracy                           0.92       507\n",
      "   macro avg       0.80      0.81      0.80       507\n",
      "weighted avg       0.92      0.92      0.92       507\n",
      "\n"
     ]
    }
   ],
   "source": [
    "print('ALL VARIABLES: \\n')\n",
    "print(\"Confusion Matrix:\")\n",
    "print(confusion_matrix(test_y1,rfc_pred1))\n",
    "print(\"\\n Classification Report: \")\n",
    "print(classification_report(test_y1, rfc_pred1))"
   ]
  },
  {
   "cell_type": "code",
   "execution_count": 129,
   "id": "f32dd4c9-c36c-486a-847f-4407bb19961b",
   "metadata": {},
   "outputs": [
    {
     "name": "stdout",
     "output_type": "stream",
     "text": [
      "ONLY PASSING VARIABLES: \n",
      "\n",
      "Confusion Matrix:\n",
      "[[442   7]\n",
      " [ 25  33]]\n",
      "\n",
      " Classification Report: \n",
      "              precision    recall  f1-score   support\n",
      "\n",
      "           0       0.95      0.98      0.97       449\n",
      "           1       0.82      0.57      0.67        58\n",
      "\n",
      "    accuracy                           0.94       507\n",
      "   macro avg       0.89      0.78      0.82       507\n",
      "weighted avg       0.93      0.94      0.93       507\n",
      "\n"
     ]
    }
   ],
   "source": [
    "print('ONLY PASSING VARIABLES: \\n')\n",
    "print(\"Confusion Matrix:\")\n",
    "print(confusion_matrix(test_y2,rfc_pred2))\n",
    "print(\"\\n Classification Report: \")\n",
    "print(classification_report(test_y2, rfc_pred2))"
   ]
  },
  {
   "cell_type": "code",
   "execution_count": 130,
   "id": "3aa37f0a-73a5-4e1f-a488-7ae8e278bd9f",
   "metadata": {},
   "outputs": [
    {
     "name": "stdout",
     "output_type": "stream",
     "text": [
      "TOP 11 PASSING VARIABLES: \n",
      "\n",
      "Confusion Matrix:\n",
      "[[438  11]\n",
      " [ 23  35]]\n",
      "\n",
      " Classification Report: \n",
      "              precision    recall  f1-score   support\n",
      "\n",
      "           0       0.95      0.98      0.96       449\n",
      "           1       0.76      0.60      0.67        58\n",
      "\n",
      "    accuracy                           0.93       507\n",
      "   macro avg       0.86      0.79      0.82       507\n",
      "weighted avg       0.93      0.93      0.93       507\n",
      "\n"
     ]
    }
   ],
   "source": [
    "print('TOP 11 PASSING VARIABLES: \\n')\n",
    "print(\"Confusion Matrix:\")\n",
    "print(confusion_matrix(test_y3,rfc_pred3))\n",
    "print(\"\\n Classification Report: \")\n",
    "print(classification_report(test_y3, rfc_pred3))"
   ]
  },
  {
   "cell_type": "markdown",
   "id": "8c112dc3-5bf1-43ed-8e0b-ea784cafb359",
   "metadata": {},
   "source": [
    "**All 3 random forest models result in an F1-Score of 0.96 for identifying non-Pro-Bowl Quarterbacks**\n",
    "\n",
    "Using all variables and the top 11 passing variables result in a F1-score of 0.67. The model with the top 11 variables will be better at generalizing, and thus, is the superior model.\n",
    "\n",
    "The F1-score for all passing variables is 0.60."
   ]
  },
  {
   "cell_type": "code",
   "execution_count": null,
   "id": "d683a3b9-685d-4c7e-a330-351ebabe658e",
   "metadata": {},
   "outputs": [],
   "source": []
  }
 ],
 "metadata": {
  "kernelspec": {
   "display_name": "Python 3",
   "language": "python",
   "name": "python3"
  },
  "language_info": {
   "codemirror_mode": {
    "name": "ipython",
    "version": 3
   },
   "file_extension": ".py",
   "mimetype": "text/x-python",
   "name": "python",
   "nbconvert_exporter": "python",
   "pygments_lexer": "ipython3",
   "version": "3.8.8"
  }
 },
 "nbformat": 4,
 "nbformat_minor": 5
}
